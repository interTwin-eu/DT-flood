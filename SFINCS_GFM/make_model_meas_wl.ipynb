{
 "cells": [
  {
   "cell_type": "markdown",
   "metadata": {},
   "source": [
    "This notebook sets up a SFINCS model for the area of interest and the period of the flood event. In this example, the October 2023 storm surge in the area Fischland-Darss-Zingst in on the German Baltic Coast. \n",
    "1. Standard SFINCS model.\n",
    "2. SFINCS model with added dikes\n",
    "3. SFINCS model with dikes and breaches in dikes.   \n",
    "\n",
    "#TO DO: Add wind (water level timeseries at observation point 2 does not match well yet, might miss wind set up)"
   ]
  },
  {
   "cell_type": "code",
   "execution_count": 1,
   "metadata": {},
   "outputs": [],
   "source": [
    "from hydromt_sfincs import SfincsModel\n",
    "from hydromt.config import configread\n",
    "from hydromt.log import setuplog\n",
    "import matplotlib.pyplot as plt\n",
    "import os\n",
    "import geopandas as gpd\n",
    "import pandas as pd\n",
    "import datetime\n",
    "from hydromt_sfincs import utils\n",
    "import xarray as xr\n",
    "from shapely.geometry import Point\n",
    "import requests, zipfile, io\n",
    "from pathlib import Path\n",
    "\n"
   ]
  },
  {
   "cell_type": "markdown",
   "metadata": {},
   "source": [
    "USER INPUT\n",
    "\n",
    "Set the model directory.\n",
    "Set start and end times \n",
    "Select the data sources. Here we use local data for bathymetry and topography, which are specified in the data.yml file. \n",
    "Water level forcings are received from a local tide gauge. Provide coordinates in the model's coordinate reference system and the download url."
   ]
  },
  {
   "cell_type": "code",
   "execution_count": 2,
   "metadata": {},
   "outputs": [
    {
     "name": "stdout",
     "output_type": "stream",
     "text": [
      "2025-05-20 16:09:33,545 - hydromt - log - INFO - HydroMT version: 0.10.1\n"
     ]
    }
   ],
   "source": [
    "# Model directory\n",
    "# main_dir = Path(r\"p:\\11209308-floodadapt-trinidad\\InterTwin\")\n",
    "main_dir = Path(r\"c:\\Users\\winter_ga\\Offline_data\\projects\\InterTwin\")\n",
    "\n",
    "model_dir = \"model\"\n",
    "run_name = \"model_20m_nowind\"      \n",
    "\n",
    "# Start and end times\n",
    "tstart= \"20231015 070000\"\n",
    "tstop= \"20231023 000000\"\n",
    "\n",
    "# model resolution\n",
    "res = 20\n",
    "\n",
    "mask_file = main_dir.joinpath(\"Geodaten\\mask_25833.geojson\")\n",
    "\n",
    "# water levels\n",
    "wl_csv = main_dir.joinpath(\"Wasserstaende\\pegelonline-barhft-W-20231015-20231023.csv\")\n",
    "# offset of tide gauge from local datum\n",
    "waterlevel_offset = -498\n",
    "\n",
    "# INitial water level\n",
    "inifile = main_dir.joinpath(\"Geodaten\\zsini_regridded_20m_final.tif\")\n",
    "\n",
    "logger = setuplog()\n",
    "# opt = configread(os.path.join(main_dir,\"fdz_base.yml\"))\n",
    "\n",
    "# Bathymetry and topography data in data.yml\n",
    "data_libs=main_dir.joinpath(\"TopoBathy\\data.yml\")\n",
    "datasets_dep = [{\"elevtn\": \"MVtopo_masked\", \"zmin\": 0.01},{\"elevtn\": \"ELC_INSPIRE\"},{\"elevtn\": \"merit_hydro\"}]\n",
    "\n",
    "# Water level boundary point coordinates (Barhoeft)\n",
    "x = [372368.1]\n",
    "y = [6033653.6]\n",
    "\n",
    "# wind url\n",
    "wind_url = \"https://opendata.dwd.de/climate_environment/CDC/observations_germany/climate/hourly/wind/historical/stundenwerte_FF_00298_19810101_20231231_hist.zip\"\n",
    "wind_dir = main_dir.joinpath(\"Wind\")\n",
    "\n",
    "# Observation points for model validation\n",
    "d = {'Station': [\"Barhoeft\",\"Barth\",\"Althagen\"], \n",
    "     'geometry': [\n",
    "         Point(371100.0, 6034300.0), \n",
    "         Point(352691.1, 6027443.5),\n",
    "         Point(332296.2, 6027473.9),\n",
    "         ]}\n",
    "\n",
    "dike_file = main_dir.joinpath(r\"Geodaten\\\\all_dikes.gpkg\")\n",
    "\n",
    "breach_locations = {'Location': [\"1\",\"2\"], \n",
    "     'geometry': [\n",
    "         Point(342608.0, 6030840.0), \n",
    "         Point(344915.1, 6031933.0),\n",
    "         ]}\n"
   ]
  },
  {
   "cell_type": "markdown",
   "metadata": {},
   "source": [
    "Generate SFINCS model and set\n",
    "- Timing\n",
    "- Resolution\n",
    "- Mask\n",
    "- Depth\n",
    "- Roughness\n",
    "- Initial water level. This is important in this use case because some if the land is below zero. Hence we prepared an initial water level map with zero in the water bodies and -1 over land.\n",
    "\n",
    "Slow when using the p-drive. Alternatively, copy all folders to local drive and change main_dir and data sources in TopoBathy/data.yml/"
   ]
  },
  {
   "cell_type": "code",
   "execution_count": 4,
   "metadata": {},
   "outputs": [
    {
     "name": "stdout",
     "output_type": "stream",
     "text": [
      "2025-05-20 16:10:08,817 - hydromt - data_catalog - INFO - Parsing data catalog from c:\\Users\\winter_ga\\Offline_data\\projects\\InterTwin\\TopoBathy\\data.yml\n",
      "2025-05-20 16:10:08,833 - hydromt - model_api - WARNING - Model dir already exists and files might be overwritten: c:\\Users\\winter_ga\\Offline_data\\projects\\InterTwin\\model\\model_20m_nowind\\gis.\n",
      "2025-05-20 16:10:08,834 - hydromt - model_api - INFO - Initializing sfincs model from hydromt_sfincs (v1.1.0).\n",
      "2025-05-20 16:10:08,837 - hydromt - geodataframe - INFO - Reading  vector data from c:\\Users\\winter_ga\\Offline_data\\projects\\InterTwin\\Geodaten\\mask_25833.geojson\n",
      "2025-05-20 16:10:08,855 - hydromt - rasterdataset - INFO - Reading MVtopo_masked raster data from C:\\Users\\winter_ga\\Offline_data\\projects\\InterTwin\\FDZ_model\\mv_masked_clipped.tif\n",
      "2025-05-20 16:10:08,895 - hydromt - rasterdataset - INFO - Reading ELC_INSPIRE raster data from C:\\Users\\winter_ga\\Offline_data\\projects\\InterTwin\\FDZ_model\\ELC_INSPIRE\\Baltic_Sea_Bathy.tif\n",
      "2025-05-20 16:10:09,109 - hydromt - rasterdataset - INFO - Reading merit_hydro raster data from p:\\wflow_global\\hydromt\\topography\\merit_hydro\\*.vrt\n",
      "2025-05-20 16:10:17,432 - hydromt - sfincs - WARNING - Interpolate elevation at 20816 cells\n",
      "2025-05-20 16:10:18,869 - hydromt - geodataframe - INFO - Reading  vector data from c:\\Users\\winter_ga\\Offline_data\\projects\\InterTwin\\Geodaten\\mask_25833.geojson\n",
      "2025-05-20 16:10:19,159 - hydromt - regulargrid - INFO - 0 gaps outside valid elevation range < 10.0 km2.\n",
      "2025-05-20 16:10:19,231 - hydromt - sfincs - INFO - Derive region geometry based on active cells.\n",
      "2025-05-20 16:10:19,367 - hydromt - model_api - WARNING - Replacing geom: region\n"
     ]
    }
   ],
   "source": [
    "# Make model\n",
    "sf = SfincsModel(data_libs=data_libs,root=os.path.join(main_dir,model_dir,run_name), mode='w+', logger=logger)\n",
    "\n",
    "sf.setup_config(\n",
    "    tref= tstart,\n",
    "    tstart= tstart,\n",
    "    tstop= tstop,\n",
    "    dtout= 10400.0,\n",
    "    dthisout= 600.0,\n",
    "    dtmaxout= 259200.0,\n",
    "    zsini=-1.0,\n",
    "    tspinup=86400,\n",
    "    \n",
    ")\n",
    "sf.setup_grid_from_region(\n",
    "    region = {'geom': mask_file},\n",
    "    res = res,\n",
    "    rotated = False,\n",
    "    crs = 25833,\n",
    ")\n",
    "# sf.setup_dep(**opt['setup_dep'])\n",
    "# sf.setup_subgrid(**opt['setup_dep'])\n",
    "\n",
    "# Add depth information to modelgrid based on these chosen datasets\n",
    "dep = sf.setup_dep(datasets_dep=datasets_dep)\n",
    "\n",
    "sf.setup_mask_active(\n",
    "    include_mask= mask_file,\n",
    "    zmax= -50.0\n",
    ")\n",
    "sf.setup_mask_bounds(\n",
    "    btype=\"waterlevel\",\n",
    "    zmax= 0\n",
    ")\n",
    "\n",
    "\n",
    "# dep = sf.setup_subgrid(\n",
    "#     datasets_dep=datasets_dep,\n",
    "#     # manning_land=0.04,\n",
    "#     # manning_sea=manning_sea, \n",
    "#     # rgh_lev_land=0.0,\n",
    "#     write_dep_tif=True,\n",
    "#     write_man_tif=True,\n",
    "#     nr_subgrid_pixels=4,\n",
    "#     )\n",
    "\n",
    "# set up roughness \n",
    "sf.setup_manning_roughness(\n",
    "    manning_land=0.04,\n",
    "    manning_sea=0.02,\n",
    "    rgh_lev_land=0,  # the minimum elevation of the land\n",
    ")\n",
    "\n",
    "# set initial water level to zero, except over land set it to -1\n",
    "ini_ds = xr.open_dataset(inifile, engine=\"rasterio\")\n",
    "ini_ds[\"zsini\"] = ini_ds[\"band_data\"]\n",
    "ini_ds = ini_ds.drop([\"band_data\"])\n",
    "sf.set_states(data=ini_ds[\"zsini\"])\n",
    "sf.set_config(\"inifile\",\"sfincs.ini\")\n"
   ]
  },
  {
   "cell_type": "markdown",
   "metadata": {},
   "source": [
    "# Download and add wind.\n",
    "\n",
    "This is commented out as it made the waterlevel comparisons at the tide gauges worse. \n"
   ]
  },
  {
   "cell_type": "code",
   "execution_count": 6,
   "metadata": {},
   "outputs": [],
   "source": [
    "\n",
    "# # download and add wind\n",
    "# response = requests.get(wind_url)\n",
    "# z = zipfile.ZipFile(io.BytesIO(response.content))\n",
    "# z.extractall(wind_dir)\n",
    "df_wind = pd.read_csv(wind_dir.joinpath(\"produkt_ff_stunde_19810101_20231231_00298.txt\"),delimiter=\";\")\n",
    "\n",
    "time = []\n",
    "for t in df_wind.MESS_DATUM:\n",
    "    tt = str(t)\n",
    "    time.append(pd.Timestamp(year=int(tt[0:4]),month=int(tt[4:6]),day=int(tt[6:8]),hour=int(tt[8:])))\n",
    "\n",
    "df_wind[\"time\"] = time\n",
    "df_wind = df_wind.set_index(\"time\").drop([\"STATIONS_ID\",\"MESS_DATUM\",\"QN_3\",\"eor\"],axis=1).rename(columns={\"   F\":\"mag\",\"   D\": \"dir\"})\n",
    "\n",
    "sf.setup_wind_forcing(timeseries=df_wind)\n",
    "\n"
   ]
  },
  {
   "cell_type": "markdown",
   "metadata": {},
   "source": [
    "Add boundary point and water level at the boundary"
   ]
  },
  {
   "cell_type": "code",
   "execution_count": 9,
   "metadata": {},
   "outputs": [
    {
     "data": {
      "text/html": [
       "<div>\n",
       "<style scoped>\n",
       "    .dataframe tbody tr th:only-of-type {\n",
       "        vertical-align: middle;\n",
       "    }\n",
       "\n",
       "    .dataframe tbody tr th {\n",
       "        vertical-align: top;\n",
       "    }\n",
       "\n",
       "    .dataframe thead th {\n",
       "        text-align: right;\n",
       "    }\n",
       "</style>\n",
       "<table border=\"1\" class=\"dataframe\">\n",
       "  <thead>\n",
       "    <tr style=\"text-align: right;\">\n",
       "      <th></th>\n",
       "      <th>geometry</th>\n",
       "    </tr>\n",
       "  </thead>\n",
       "  <tbody>\n",
       "    <tr>\n",
       "      <th>1</th>\n",
       "      <td>POINT (372368.1 6033653.6)</td>\n",
       "    </tr>\n",
       "  </tbody>\n",
       "</table>\n",
       "</div>"
      ],
      "text/plain": [
       "                     geometry\n",
       "1  POINT (372368.1 6033653.6)"
      ]
     },
     "metadata": {},
     "output_type": "display_data"
    },
    {
     "data": {
      "application/vnd.microsoft.datawrangler.viewer.v0+json": {
       "columns": [
        {
         "name": "time",
         "rawType": "datetime64[ns]",
         "type": "datetime"
        },
        {
         "name": "1",
         "rawType": "float64",
         "type": "float"
        }
       ],
       "conversionMethod": "pd.DataFrame",
       "ref": "f2c3d823-0c62-4514-8671-c3f4eaddcd81",
       "rows": [
        [
         "2023-10-15 00:00:00",
         "-0.04"
        ],
        [
         "2023-10-15 00:01:00",
         "-0.04"
        ],
        [
         "2023-10-15 00:02:00",
         "-0.05"
        ],
        [
         "2023-10-15 00:03:00",
         "-0.05"
        ],
        [
         "2023-10-15 00:04:00",
         "-0.06"
        ],
        [
         "2023-10-15 00:05:00",
         "-0.06"
        ],
        [
         "2023-10-15 00:06:00",
         "-0.06"
        ],
        [
         "2023-10-15 00:07:00",
         "-0.06"
        ],
        [
         "2023-10-15 00:08:00",
         "-0.06"
        ],
        [
         "2023-10-15 00:09:00",
         "-0.05"
        ],
        [
         "2023-10-15 00:10:00",
         "-0.05"
        ],
        [
         "2023-10-15 00:11:00",
         "-0.04"
        ],
        [
         "2023-10-15 00:12:00",
         "-0.03"
        ],
        [
         "2023-10-15 00:13:00",
         "-0.03"
        ],
        [
         "2023-10-15 00:14:00",
         "-0.03"
        ],
        [
         "2023-10-15 00:15:00",
         "-0.03"
        ],
        [
         "2023-10-15 00:16:00",
         "-0.03"
        ],
        [
         "2023-10-15 00:17:00",
         "-0.03"
        ],
        [
         "2023-10-15 00:18:00",
         "-0.03"
        ],
        [
         "2023-10-15 00:19:00",
         "-0.04"
        ],
        [
         "2023-10-15 00:20:00",
         "-0.04"
        ],
        [
         "2023-10-15 00:21:00",
         "-0.04"
        ],
        [
         "2023-10-15 00:22:00",
         "-0.04"
        ],
        [
         "2023-10-15 00:23:00",
         "-0.04"
        ],
        [
         "2023-10-15 00:24:00",
         "-0.05"
        ],
        [
         "2023-10-15 00:25:00",
         "-0.05"
        ],
        [
         "2023-10-15 00:26:00",
         "-0.05"
        ],
        [
         "2023-10-15 00:27:00",
         "-0.06"
        ],
        [
         "2023-10-15 00:28:00",
         "-0.06"
        ],
        [
         "2023-10-15 00:29:00",
         "-0.06"
        ],
        [
         "2023-10-15 00:30:00",
         "-0.06"
        ],
        [
         "2023-10-15 00:31:00",
         "-0.06"
        ],
        [
         "2023-10-15 00:32:00",
         "-0.06"
        ],
        [
         "2023-10-15 00:33:00",
         "-0.06"
        ],
        [
         "2023-10-15 00:34:00",
         "-0.05"
        ],
        [
         "2023-10-15 00:35:00",
         "-0.05"
        ],
        [
         "2023-10-15 00:36:00",
         "-0.04"
        ],
        [
         "2023-10-15 00:37:00",
         "-0.04"
        ],
        [
         "2023-10-15 00:38:00",
         "-0.04"
        ],
        [
         "2023-10-15 00:39:00",
         "-0.04"
        ],
        [
         "2023-10-15 00:40:00",
         "-0.04"
        ],
        [
         "2023-10-15 00:41:00",
         "-0.04"
        ],
        [
         "2023-10-15 00:42:00",
         "-0.05"
        ],
        [
         "2023-10-15 00:43:00",
         "-0.05"
        ],
        [
         "2023-10-15 00:44:00",
         "-0.05"
        ],
        [
         "2023-10-15 00:45:00",
         "-0.04"
        ],
        [
         "2023-10-15 00:46:00",
         "-0.04"
        ],
        [
         "2023-10-15 00:47:00",
         "-0.04"
        ],
        [
         "2023-10-15 00:48:00",
         "-0.04"
        ],
        [
         "2023-10-15 00:49:00",
         "-0.04"
        ]
       ],
       "shape": {
        "columns": 1,
        "rows": 12960
       }
      },
      "text/html": [
       "<div>\n",
       "<style scoped>\n",
       "    .dataframe tbody tr th:only-of-type {\n",
       "        vertical-align: middle;\n",
       "    }\n",
       "\n",
       "    .dataframe tbody tr th {\n",
       "        vertical-align: top;\n",
       "    }\n",
       "\n",
       "    .dataframe thead th {\n",
       "        text-align: right;\n",
       "    }\n",
       "</style>\n",
       "<table border=\"1\" class=\"dataframe\">\n",
       "  <thead>\n",
       "    <tr style=\"text-align: right;\">\n",
       "      <th></th>\n",
       "      <th>1</th>\n",
       "    </tr>\n",
       "    <tr>\n",
       "      <th>time</th>\n",
       "      <th></th>\n",
       "    </tr>\n",
       "  </thead>\n",
       "  <tbody>\n",
       "    <tr>\n",
       "      <th>2023-10-15 00:00:00</th>\n",
       "      <td>-0.04</td>\n",
       "    </tr>\n",
       "    <tr>\n",
       "      <th>2023-10-15 00:01:00</th>\n",
       "      <td>-0.04</td>\n",
       "    </tr>\n",
       "    <tr>\n",
       "      <th>2023-10-15 00:02:00</th>\n",
       "      <td>-0.05</td>\n",
       "    </tr>\n",
       "    <tr>\n",
       "      <th>2023-10-15 00:03:00</th>\n",
       "      <td>-0.05</td>\n",
       "    </tr>\n",
       "    <tr>\n",
       "      <th>2023-10-15 00:04:00</th>\n",
       "      <td>-0.06</td>\n",
       "    </tr>\n",
       "    <tr>\n",
       "      <th>...</th>\n",
       "      <td>...</td>\n",
       "    </tr>\n",
       "    <tr>\n",
       "      <th>2023-10-23 23:55:00</th>\n",
       "      <td>0.36</td>\n",
       "    </tr>\n",
       "    <tr>\n",
       "      <th>2023-10-23 23:56:00</th>\n",
       "      <td>0.36</td>\n",
       "    </tr>\n",
       "    <tr>\n",
       "      <th>2023-10-23 23:57:00</th>\n",
       "      <td>0.36</td>\n",
       "    </tr>\n",
       "    <tr>\n",
       "      <th>2023-10-23 23:58:00</th>\n",
       "      <td>0.36</td>\n",
       "    </tr>\n",
       "    <tr>\n",
       "      <th>2023-10-23 23:59:00</th>\n",
       "      <td>0.36</td>\n",
       "    </tr>\n",
       "  </tbody>\n",
       "</table>\n",
       "<p>12960 rows × 1 columns</p>\n",
       "</div>"
      ],
      "text/plain": [
       "                        1\n",
       "time                     \n",
       "2023-10-15 00:00:00 -0.04\n",
       "2023-10-15 00:01:00 -0.04\n",
       "2023-10-15 00:02:00 -0.05\n",
       "2023-10-15 00:03:00 -0.05\n",
       "2023-10-15 00:04:00 -0.06\n",
       "...                   ...\n",
       "2023-10-23 23:55:00  0.36\n",
       "2023-10-23 23:56:00  0.36\n",
       "2023-10-23 23:57:00  0.36\n",
       "2023-10-23 23:58:00  0.36\n",
       "2023-10-23 23:59:00  0.36\n",
       "\n",
       "[12960 rows x 1 columns]"
      ]
     },
     "metadata": {},
     "output_type": "display_data"
    },
    {
     "name": "stdout",
     "output_type": "stream",
     "text": [
      "2025-05-20 16:12:13,266 - hydromt - model_api - WARNING - Replacing forcing: bzs\n"
     ]
    },
    {
     "data": {
      "text/plain": [
       "(<Figure size 600x600 with 3 Axes>,\n",
       " array([<Axes: title={'center': 'SFINCS wind forcing (wnd)'}, ylabel='wind\\n[m/s]'>,\n",
       "        <Axes: title={'center': 'SFINCS waterlevel forcing (bzs)'}, ylabel='waterlevel\\n[m+ref]'>],\n",
       "       dtype=object))"
      ]
     },
     "execution_count": 9,
     "metadata": {},
     "output_type": "execute_result"
    },
    {
     "data": {
      "image/png": "[encoded data removed]",
      "text/plain": [
       "<Figure size 600x600 with 3 Axes>"
      ]
     },
     "metadata": {},
     "output_type": "display_data"
    }
   ],
   "source": [
    "# set up water level boundary point (Barhoeft)\n",
    "# add to Geopandas dataframe as needed by HydroMT\n",
    "pnts = gpd.points_from_xy(x, y)\n",
    "index = [1]  # NOTE that the index should start at one\n",
    "bnd = gpd.GeoDataFrame(index=index, geometry=pnts, crs=sf.crs)\n",
    "\n",
    "display(bnd)\n",
    "\n",
    "# add waterlevel forcing\n",
    "# we use measured timeseries\n",
    "df = pd.read_csv(wl_csv, header=0,delimiter=\";\")\n",
    "df=df.rename(columns={\"timestamp\":\"time\", \"value\":1})\n",
    "df[1]=pd.to_numeric(df[1])\n",
    "\n",
    "time = pd.to_datetime(df[\"time\"])\n",
    "\n",
    "# and the actual water levels, in this case for input location 1 a water level rising from 0 to 2 meters and back to 0:\n",
    "bzs = ((df[1]+waterlevel_offset)/100).to_list()\n",
    "\n",
    "bzspd = pd.DataFrame(index=time, columns=index, data=bzs)\n",
    "display(bzspd)\n",
    "\n",
    "# Actually add it to the SFINCS model class:\n",
    "sf.setup_waterlevel_forcing(timeseries=bzspd, locations=bnd, buffer=1000)\n",
    "\n",
    "# NOTE: the waterlevel forcing data is now stored in the sf.forcing dictionary\n",
    "sf.forcing.keys()\n",
    "sf.plot_forcing(fn_out=\"forcing.png\")"
   ]
  },
  {
   "cell_type": "markdown",
   "metadata": {},
   "source": [
    "Add observation points"
   ]
  },
  {
   "cell_type": "code",
   "execution_count": null,
   "metadata": {},
   "outputs": [],
   "source": [
    "# setup observation points \n",
    "gdf = gpd.GeoDataFrame(d, crs=\"EPSG:25833\")\n",
    "display(gdf)\n",
    "\n",
    "sf.setup_observation_points(\n",
    "    locations=gdf, merge=False\n",
    ")\n",
    "    "
   ]
  },
  {
   "cell_type": "code",
   "execution_count": null,
   "metadata": {},
   "outputs": [],
   "source": [
    "# Write results\n",
    "sf.write()\n",
    "sf.plot_basemap()\n",
    "plt.savefig(os.path.join(main_dir,model_dir,run_name,'basemap.png'))"
   ]
  },
  {
   "cell_type": "markdown",
   "metadata": {},
   "source": [
    "Create model with dikes"
   ]
  },
  {
   "cell_type": "code",
   "execution_count": null,
   "metadata": {},
   "outputs": [],
   "source": [
    "# Add dikes\n",
    "# HydroMT function: get geodataframe from dike_file\n",
    "gdf_floodwall = sf.data_catalog.get_geodataframe(\n",
    "    dike_file, geom=sf.region, crs=sf.crs\n",
    ")\n",
    "\n",
    "# Add floodwall attributes to geodataframe\n",
    "if (gdf_floodwall.geometry.type == \"MultiLineString\").any():\n",
    "    gdf_floodwall = gdf_floodwall.explode()\n",
    "\n",
    "# par1 is the overflow coefficient for weirs\n",
    "gdf_floodwall[\"par1\"] = 0.6\n",
    "\n",
    "# HydroMT function: create floodwall\n",
    "sf.setup_structures(structures=gdf_floodwall, stype=\"weir\", merge=False)\n",
    "\n",
    "run_name_dikes = run_name+\"_dikes\"      \n",
    "\n",
    "sf.set_root(root=os.path.join(main_dir,model_dir,run_name_dikes), mode=\"w+\")\n",
    "sf.write()\n",
    "sf.plot_basemap()\n",
    "plt.savefig(os.path.join(main_dir,model_dir,run_name_dikes,'basemap.png'))\n"
   ]
  },
  {
   "cell_type": "markdown",
   "metadata": {},
   "source": [
    "Remove line segments near breach from dike line features"
   ]
  },
  {
   "cell_type": "code",
   "execution_count": null,
   "metadata": {},
   "outputs": [],
   "source": [
    "# find dike breaches\n",
    "s = gpd.GeoSeries(gdf_floodwall.geometry)\n",
    "breach_ids = s.sindex.nearest(breach_locations[\"geometry\"])\n",
    "gdf_floodwall_breached=gdf_floodwall.drop(index=breach_ids[1])\n",
    "\n",
    "# par1 is the overflow coefficient for weirs\n",
    "gdf_floodwall_breached[\"par1\"] = 0.6\n",
    "\n",
    "# HydroMT function: create floodwall\n",
    "sf.setup_structures(structures=gdf_floodwall_breached, stype=\"weir\", merge=False)\n",
    "\n",
    "run_name_dikes = run_name+\"_dikes_withbreaches\"      \n",
    "\n",
    "sf.set_root(root=os.path.join(main_dir,model_dir,run_name_dikes), mode=\"w+\")\n",
    "sf.write()\n",
    "sf.plot_basemap()\n",
    "plt.savefig(os.path.join(main_dir,model_dir,run_name_dikes,'basemap.png'))\n"
   ]
  },
  {
   "cell_type": "markdown",
   "metadata": {},
   "source": [
    "Alternative: not remove but lower dikes near breaches\n"
   ]
  },
  {
   "cell_type": "code",
   "execution_count": null,
   "metadata": {},
   "outputs": [],
   "source": [
    "# find dike breaches\n",
    "s = gpd.GeoSeries(gdf_floodwall.geometry)\n",
    "breach_ids = s.sindex.nearest(breach_locations[\"geometry\"])\n",
    "gdf_floodwall_overtopped=gdf_floodwall.copy()\n",
    "\n",
    "gdf_floodwall_overtopped[\"z\"].loc[breach_ids[1]] = 1.0\n",
    "\n",
    "# par1 is the overflow coefficient for weirs\n",
    "gdf_floodwall_overtopped[\"par1\"] = 0.6\n",
    "\n",
    "\n",
    "# HydroMT function: create floodwall\n",
    "sf.setup_structures(structures=gdf_floodwall_overtopped, stype=\"weir\", merge=False)\n",
    "\n",
    "run_name_dikes = run_name+\"_dikes_overtopping_0-8\"      \n",
    "\n",
    "sf.set_root(root=os.path.join(main_dir,model_dir,run_name_dikes), mode=\"w+\")\n",
    "sf.write()\n",
    "sf.plot_basemap()\n",
    "plt.savefig(os.path.join(main_dir,model_dir,run_name_dikes,'basemap.png'))\n"
   ]
  },
  {
   "cell_type": "code",
   "execution_count": null,
   "metadata": {},
   "outputs": [],
   "source": []
  }
 ],
 "metadata": {
  "kernelspec": {
   "display_name": "sfincs_gfm",
   "language": "python",
   "name": "python3"
  },
  "language_info": {
   "codemirror_mode": {
    "name": "ipython",
    "version": 3
   },
   "file_extension": ".py",
   "mimetype": "text/x-python",
   "name": "python",
   "nbconvert_exporter": "python",
   "pygments_lexer": "ipython3",
   "version": "3.10.16"
  }
 },
 "nbformat": 4,
 "nbformat_minor": 2
}
