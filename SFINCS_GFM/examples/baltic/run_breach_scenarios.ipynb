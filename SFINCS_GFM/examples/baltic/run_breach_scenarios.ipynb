{
 "cells": [
  {
   "cell_type": "markdown",
   "id": "80d4926b",
   "metadata": {},
   "source": [
    "# SFINCS-GFM\n",
    "\n",
    "In this notebook we create and run a workflow for running the Sentinel-1 Global Flood Monitor and a SFINCS model for a flood event and comparing their outputs. We use the SFINCS model created in the `create_sfincs.ipynb` notebook and update it with the relevant forcing as part of the workflow. To run the SFINCS model, the workflow will trigger an OSCAR service to run the model remotely. For this the proper credentials are necessary. We use a refresh token generated from EGI SSO's Check-in portal. Make sure that the user is part of the dev.intertwin.eu VO."
   ]
  },
  {
   "cell_type": "code",
   "execution_count": null,
   "id": "84ecab07",
   "metadata": {},
   "outputs": [],
   "source": [
    "from pathlib import Path\n",
    "\n",
    "from hydroflows import Workflow, WorkflowConfig\n",
    "from hydroflows.log import setuplog\n",
    "\n",
    "from sfincs_gfm.methods import gfm, breach_dikes, set_forcing, run_oscar, comparison_sfincs_gfm\n",
    "\n",
    "logger = setuplog(level=\"INFO\")"
   ]
  },
  {
   "cell_type": "markdown",
   "id": "8bb03ade",
   "metadata": {},
   "source": [
    "## Basic Config\n",
    "\n",
    "Here we set some basic parameters of the workflow. These are:\n",
    "- `region`: file containing region boundaries used by GFM\n",
    "- `start_date`: event start date\n",
    "- `end_date`: event end data\n",
    "- `sf_root`: root folder of the SFINCS model\n",
    "- `sfincs_service`: OSCAR service used to run the SFINCS model\n",
    "- `refreshtoken`: EGI SSO refresh token for authentication for OSCAR\n",
    "\n",
    "The workflow itself will be created as the `wf` object. The root folder for workflow execution is set to the current folder, and all paths defined in this notebook are relative to that root."
   ]
  },
  {
   "cell_type": "code",
   "execution_count": null,
   "id": "5d815719",
   "metadata": {},
   "outputs": [],
   "source": [
    "config = WorkflowConfig(\n",
    "    region=Path(\"data\", \"region.geojson\"),\n",
    "    start_date=\"2023-10-15\",\n",
    "    end_date=\"2023-10-23\",\n",
    "    sf_root=Path(\"models/20m_final\"),\n",
    "    sfincs_service=Path(\"oscar_services/sfincs-interlink.yaml\"),\n",
    "    refreshtoken=\"\"\n",
    ")"
   ]
  },
  {
   "cell_type": "code",
   "execution_count": null,
   "id": "58aff74c",
   "metadata": {},
   "outputs": [],
   "source": [
    "wf = Workflow(name=\"baltic_gfm\", config=config, root=Path().resolve())"
   ]
  },
  {
   "cell_type": "markdown",
   "id": "a53ea4f8",
   "metadata": {},
   "source": [
    "## GFM\n",
    "\n",
    "Here we add a step to the workflow to run the GFM. Actual execution of GFM will happen only later when we call `wf.run()` to launch the entire workflow.\\\n",
    "The important additional parameter here is `output_dir` which defines where the GFM output will be stored."
   ]
  },
  {
   "cell_type": "code",
   "execution_count": null,
   "id": "2baee087",
   "metadata": {},
   "outputs": [],
   "source": [
    "run_gfm = gfm.GFM(\n",
    "    region=wf.config.region,\n",
    "    starttime=wf.config.start_date,\n",
    "    endtime=wf.config.end_date,\n",
    "    output_dir=Path(\"gfm\"),\n",
    ")\n",
    "\n",
    "wf.create_rule(run_gfm, rule_id=\"run_gfm\")"
   ]
  },
  {
   "cell_type": "markdown",
   "id": "34c77a36",
   "metadata": {},
   "source": [
    "## Updating SFINCS model\n",
    "\n",
    "The next two cells add steps to the workflow for updating the SFINCS model with the right forcing (1st cell) and the right dike breach locations (2nd cell). These are separated from each other so that the number of events and breach scenarios run as part of the workflow can vary independently. The important parameters are:\n",
    "\n",
    "#### SetForcing:\n",
    "- `output_dir`: location where the updated model will be stored.\n",
    "- `wl_path`: path to file with waterlevel forcing. Here we use data from a local source prepared ahead of time.\n",
    "- `wind_url`: URL where to fetch the wind data from. Unlike the waterlevel data, the wind data is fetched on the fly.\n",
    "\n",
    "#### BreachDikes:\n",
    "- `output_dir`: location where the updated model will be stored\n",
    "- `dike_locs`: path to file with all the dikes used in the initial model setup\n",
    "- `breach_locs`: path to file with the breach locations"
   ]
  },
  {
   "cell_type": "code",
   "execution_count": null,
   "id": "0ac7a362",
   "metadata": {},
   "outputs": [],
   "source": [
    "set_forcing = set_forcing.SetForcing(\n",
    "    sfincs_inp=wf.config.sf_root/\"sfincs.inp\",\n",
    "    output_dir=\"models/runs/test_run\",\n",
    "    copy_model=True,\n",
    "    start_time=wf.config.start_date,\n",
    "    end_time=wf.config.end_date,\n",
    "    wl_file=Path(\"data\\waterlevel\\pegelonline-barth-W-20231015-20231023.csv\"),\n",
    "    wind_url=\"https://opendata.dwd.de/climate_environment/CDC/observations_germany/climate/hourly/wind/historical/stundenwerte_FF_00298_19810101_20231231_hist.zip\"\n",
    ")\n",
    "\n",
    "wf.create_rule(set_forcing, rule_id=\"set_forcing\")"
   ]
  },
  {
   "cell_type": "code",
   "execution_count": null,
   "id": "34f1d02e",
   "metadata": {},
   "outputs": [],
   "source": [
    "breach_dikes = breach_dikes.BreachDikes(\n",
    "    sfincs_inp=set_forcing.output.sfincs_out_inp,\n",
    "    dike_locs=Path(\"data/dikes/all_dikes.gpkg\"),\n",
    "    breach_locs=Path(\"data/dikes/test_breaches.geojson\"),\n",
    "    output_dir=\"models/runs/test_run_breach\",\n",
    "    copy_model=True,\n",
    ")\n",
    "\n",
    "wf.create_rule(breach_dikes, rule_id=\"breach_dikes\")"
   ]
  },
  {
   "cell_type": "markdown",
   "id": "d967daf5",
   "metadata": {},
   "source": [
    "## Run the SFINCS model\n",
    "\n",
    "The next cell adds the step to trigger the OSCAR service and run the SFINCS model. This will use the OSCAR service and access token defined in the `config`"
   ]
  },
  {
   "cell_type": "code",
   "execution_count": null,
   "id": "70f1242e",
   "metadata": {},
   "outputs": [],
   "source": [
    "run_oscar = run_oscar.RunOscarService(\n",
    "    input_file=breach_dikes.output.sfincs_out_inp,\n",
    "    service=wf.config.sfincs_service,\n",
    "    refreshtoken=wf.config.refreshtoken,\n",
    ")\n",
    "\n",
    "wf.create_rule(run_oscar, rule_id=\"run_oscar_breach\")"
   ]
  },
  {
   "cell_type": "markdown",
   "id": "ece27a27",
   "metadata": {},
   "source": [
    "## Compare SFINCS and GFM\n",
    "\n",
    "Finally we add the step to do a comparison of the SFINCS floodmap and the GFM output.\\\n",
    "NB: this is still under development, and this step currently does nothing."
   ]
  },
  {
   "cell_type": "code",
   "execution_count": null,
   "id": "0d1a0285",
   "metadata": {},
   "outputs": [],
   "source": [
    "compare = comparison_sfincs_gfm.CompareSfincsGFM(\n",
    "    sfincs_inp=run_oscar.output.output_file,\n",
    "    gfm_map=run_gfm.output.floodcube,\n",
    "    output_dir=Path(\"final_out\")\n",
    ")\n",
    "\n",
    "wf.create_rule(compare, rule_id=\"compare_sfincs_gfm\")"
   ]
  },
  {
   "cell_type": "markdown",
   "id": "f370cf81",
   "metadata": {},
   "source": [
    "## Inspect workflow\n",
    "\n",
    "To get a sense of what the workflow will be doing before actually executing it, the next cell plots the execution graph of the workflow.\\\n",
    "The cell after that will do a dryrun of the workflow, where empty files are created at the output locations without doing the full execution of each step. This is useful to double check whether the workflow does what it is supposed to be doing."
   ]
  },
  {
   "cell_type": "code",
   "execution_count": null,
   "id": "f7767763",
   "metadata": {},
   "outputs": [],
   "source": [
    "wf.plot_rulegraph(plot_rule_attrs=True)"
   ]
  },
  {
   "cell_type": "code",
   "execution_count": null,
   "id": "7ecaab6e",
   "metadata": {},
   "outputs": [],
   "source": [
    "wf.dryrun()"
   ]
  },
  {
   "cell_type": "markdown",
   "id": "3ed3223a",
   "metadata": {},
   "source": [
    "## Execute workflow"
   ]
  },
  {
   "cell_type": "code",
   "execution_count": null,
   "id": "a10a6397",
   "metadata": {},
   "outputs": [],
   "source": [
    "wf.run()"
   ]
  }
 ],
 "metadata": {
  "kernelspec": {
   "display_name": "sfincs_gfm",
   "language": "python",
   "name": "python3"
  },
  "language_info": {
   "codemirror_mode": {
    "name": "ipython",
    "version": 3
   },
   "file_extension": ".py",
   "mimetype": "text/x-python",
   "name": "python",
   "nbconvert_exporter": "python",
   "pygments_lexer": "ipython3",
   "version": "3.11.12"
  }
 },
 "nbformat": 4,
 "nbformat_minor": 5
}
