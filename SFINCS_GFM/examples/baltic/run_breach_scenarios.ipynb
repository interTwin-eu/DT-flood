{
 "cells": [
  {
   "cell_type": "code",
   "execution_count": null,
   "id": "84ecab07",
   "metadata": {},
   "outputs": [],
   "source": [
    "from pathlib import Path\n",
    "\n",
    "from hydroflows import Workflow, WorkflowConfig\n",
    "from hydroflows.log import setuplog\n",
    "\n",
    "from sfincs_gfm.methods import gfm\n",
    "\n",
    "logger = setuplog(level=\"INFO\")"
   ]
  },
  {
   "cell_type": "code",
   "execution_count": null,
   "id": "5d815719",
   "metadata": {},
   "outputs": [],
   "source": [
    "config = WorkflowConfig(\n",
    "    region=Path(\"data\", \"region.geojson\"),\n",
    "    start_date=\"2022-10-11\",\n",
    "    end_date=\"2022-10-25\",\n",
    ")"
   ]
  },
  {
   "cell_type": "code",
   "execution_count": null,
   "id": "58aff74c",
   "metadata": {},
   "outputs": [],
   "source": [
    "wf = Workflow(name=\"baltic_gfm\", config=config, root=Path().resolve())"
   ]
  },
  {
   "cell_type": "code",
   "execution_count": null,
   "id": "2baee087",
   "metadata": {},
   "outputs": [],
   "source": [
    "run_gfm = gfm.GFM(\n",
    "    region=wf.config.region,\n",
    "    starttime=wf.config.start_date,\n",
    "    endtime=wf.config.end_date,\n",
    "    output_dir=Path(\"gfm\"),\n",
    ")\n",
    "\n",
    "wf.create_rule(run_gfm, rule_id=\"run_gfm\")"
   ]
  },
  {
   "cell_type": "code",
   "execution_count": null,
   "id": "0ac7a362",
   "metadata": {},
   "outputs": [],
   "source": []
  },
  {
   "cell_type": "code",
   "execution_count": null,
   "id": "f7767763",
   "metadata": {},
   "outputs": [],
   "source": [
    "wf.plot_rulegraph(plot_rule_attrs=True)"
   ]
  },
  {
   "cell_type": "code",
   "execution_count": null,
   "id": "7ecaab6e",
   "metadata": {},
   "outputs": [],
   "source": [
    "wf.dryrun()"
   ]
  },
  {
   "cell_type": "code",
   "execution_count": null,
   "id": "a10a6397",
   "metadata": {},
   "outputs": [],
   "source": [
    "wf.run()"
   ]
  },
  {
   "cell_type": "code",
   "execution_count": null,
   "id": "ba418126",
   "metadata": {},
   "outputs": [],
   "source": []
  }
 ],
 "metadata": {
  "kernelspec": {
   "display_name": "sfincs_gfm",
   "language": "python",
   "name": "python3"
  },
  "language_info": {
   "codemirror_mode": {
    "name": "ipython",
    "version": 3
   },
   "file_extension": ".py",
   "mimetype": "text/x-python",
   "name": "python",
   "nbconvert_exporter": "python",
   "pygments_lexer": "ipython3",
   "version": "3.11.12"
  }
 },
 "nbformat": 4,
 "nbformat_minor": 5
}
