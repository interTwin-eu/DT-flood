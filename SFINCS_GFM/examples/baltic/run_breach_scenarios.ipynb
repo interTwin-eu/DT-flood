{
 "cells": [
  {
   "cell_type": "code",
   "execution_count": 1,
   "id": "84ecab07",
   "metadata": {},
   "outputs": [
    {
     "name": "stderr",
     "output_type": "stream",
     "text": [
      "INFO - log - hydroflows version: 0.1.0\n"
     ]
    }
   ],
   "source": [
    "from pathlib import Path\n",
    "\n",
    "from hydroflows import Workflow, WorkflowConfig\n",
    "from hydroflows.log import setuplog\n",
    "\n",
    "from sfincs_gfm.methods import gfm, breach_dikes, set_forcing\n",
    "\n",
    "logger = setuplog(level=\"INFO\")"
   ]
  },
  {
   "cell_type": "code",
   "execution_count": null,
   "id": "5d815719",
   "metadata": {},
   "outputs": [],
   "source": [
    "config = WorkflowConfig(\n",
    "    region=Path(\"data\", \"region.geojson\"),\n",
    "    start_date=\"2022-10-11\",\n",
    "    end_date=\"2022-10-25\",\n",
    "    sf_root=Path(\"models/20m_final\")\n",
    ")"
   ]
  },
  {
   "cell_type": "code",
   "execution_count": null,
   "id": "58aff74c",
   "metadata": {},
   "outputs": [],
   "source": [
    "wf = Workflow(name=\"baltic_gfm\", config=config, root=Path().resolve())"
   ]
  },
  {
   "cell_type": "code",
   "execution_count": null,
   "id": "2baee087",
   "metadata": {},
   "outputs": [],
   "source": [
    "run_gfm = gfm.GFM(\n",
    "    region=wf.config.region,\n",
    "    starttime=wf.config.start_date,\n",
    "    endtime=wf.config.end_date,\n",
    "    output_dir=Path(\"gfm\"),\n",
    ")\n",
    "\n",
    "wf.create_rule(run_gfm, rule_id=\"run_gfm\")"
   ]
  },
  {
   "cell_type": "code",
   "execution_count": null,
   "id": "0ac7a362",
   "metadata": {},
   "outputs": [],
   "source": [
    "set_forcing = set_forcing.SetForcing(\n",
    "    sfincs_inp=wf.config.sf_root/\"sfincs.inp\",\n",
    "    output_dir=\"models/runs/test_run\",\n",
    "    start_time=wf.config.start_date,\n",
    "    end_time=wf.config.end_time,\n",
    "    wl_file=Path(\"data\\waterlevel\\pegelonline-barth-W-20231015-20231023.csv\"),\n",
    "    wind_file=\"https://opendata.dwd.de/climate_environment/CDC/observations_germany/climate/hourly/wind/historical/stundenwerte_FF_00298_19810101_20231231_hist.zip\"\n",
    ")\n",
    "\n",
    "wf.create_rule(set_forcing, rule_id=\"set_forcing\")"
   ]
  },
  {
   "cell_type": "code",
   "execution_count": null,
   "id": "34f1d02e",
   "metadata": {},
   "outputs": [],
   "source": [
    "breach_dikes = breach_dikes.BreachDikes(\n",
    "    sfincs_inp=set_forcing.output.sfincs_out_inp,\n",
    "    dike_locs=Path(\"data/dikes/all_dikes.gpkg\"),\n",
    "    breach_locs=Path(\"data/dikes/test_breaches.geojson\"),\n",
    "    output_dir=\"models/runs/test_run_breach\"\n",
    ")\n",
    "\n",
    "wf.create_rule(breach_dikes, rule_id=\"breach_dikes\")"
   ]
  },
  {
   "cell_type": "code",
   "execution_count": null,
   "id": "f7767763",
   "metadata": {},
   "outputs": [],
   "source": [
    "wf.plot_rulegraph(plot_rule_attrs=True)"
   ]
  },
  {
   "cell_type": "code",
   "execution_count": null,
   "id": "7ecaab6e",
   "metadata": {},
   "outputs": [],
   "source": [
    "wf.dryrun()"
   ]
  },
  {
   "cell_type": "code",
   "execution_count": null,
   "id": "a10a6397",
   "metadata": {},
   "outputs": [],
   "source": [
    "wf.run()"
   ]
  },
  {
   "cell_type": "code",
   "execution_count": null,
   "id": "ba418126",
   "metadata": {},
   "outputs": [],
   "source": []
  }
 ],
 "metadata": {
  "kernelspec": {
   "display_name": "sfincs_gfm",
   "language": "python",
   "name": "python3"
  },
  "language_info": {
   "codemirror_mode": {
    "name": "ipython",
    "version": 3
   },
   "file_extension": ".py",
   "mimetype": "text/x-python",
   "name": "python",
   "nbconvert_exporter": "python",
   "pygments_lexer": "ipython3",
   "version": "3.11.12"
  }
 },
 "nbformat": 4,
 "nbformat_minor": 5
}
