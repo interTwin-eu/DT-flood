{
 "cells": [
  {
   "cell_type": "code",
   "execution_count": null,
   "id": "04b727af",
   "metadata": {},
   "outputs": [],
   "source": [
    "from pathlib import Path\n",
    "import xarray as xr\n",
    "import geopandas as gpd\n",
    "import pandas as pd\n",
    "from shapely.geometry import Point\n",
    "\n",
    "from hydromt_sfincs import SfincsModel\n",
    "from hydromt_sfincs import utils\n",
    "from hydromt.log import setuplog\n"
   ]
  },
  {
   "cell_type": "markdown",
   "id": "26915a18",
   "metadata": {},
   "source": [
    "## Basic Config"
   ]
  },
  {
   "cell_type": "code",
   "execution_count": null,
   "id": "36df8251",
   "metadata": {},
   "outputs": [],
   "source": [
    "project_root = Path().resolve()\n",
    "model_root = project_root/\"models\"\n",
    "model_name = \"20m_final\"\n",
    "\n",
    "# model resolution in meters\n",
    "res = 20\n",
    "\n",
    "# mask file\n",
    "mask_file = project_root/\"data\"/\"mask\"/\"mask_25833.geojson\"\n",
    "\n",
    "# Initial water levels\n",
    "ini_wl_file = project_root/\"data\"/\"mask\"/\"zsini_regridded_20m_final.tif\"\n",
    "\n",
    "# topobathy datalib\n",
    "datalib = project_root/\"data\"/\"topobathy\"/\"data.yml\"\n",
    "\n",
    "# dike geometry\n",
    "dike_file = project_root/\"data\"/\"dikes\"/\"all_dikes.gpkg\"\n",
    "\n",
    "# waterlevel forcing point\n",
    "x = [372368.1]\n",
    "y = [6033653.6]\n",
    "\n",
    "# Observation points for model validation\n",
    "obs = {'Station': [\"Barhoeft\",\"Barth\",\"Althagen\"], \n",
    "     'geometry': [\n",
    "         Point(371100.0, 6034300.0), \n",
    "         Point(352691.1, 6027443.5),\n",
    "         Point(332296.2, 6027473.9),\n",
    "         ]}\n",
    "\n"
   ]
  },
  {
   "cell_type": "markdown",
   "id": "872e0fd6",
   "metadata": {},
   "source": [
    "## Base SFINCS setup"
   ]
  },
  {
   "cell_type": "code",
   "execution_count": null,
   "id": "27cb127b",
   "metadata": {},
   "outputs": [],
   "source": [
    "logger = setuplog(log_level=20)\n",
    "\n",
    "sf = SfincsModel(\n",
    "    root=model_root/model_name,\n",
    "    data_libs=datalib,\n",
    "    mode=\"w+\",\n",
    "    logger=logger\n",
    ")\n",
    "\n",
    "sf.setup_config(\n",
    "    # timings will be overwritten later in scenario setup\n",
    "    tref=\"20100101 000000\",\n",
    "    tstart=\"20100101 000000\",\n",
    "    tend=\"20100102 000000\",\n",
    "    # misc time options\n",
    "    dtout=10400.0,\n",
    "    dthisout=600.0,\n",
    "    dtmaxout=259200.0,\n",
    "    tspinup=86400,\n",
    "    # zsini will be overwritten later in base setup\n",
    "    zsini=-1,\n",
    ")\n",
    "\n",
    "# Create grid\n",
    "sf.setup_grid_from_region(\n",
    "    region={\"geom\": mask_file},\n",
    "    res=res,\n",
    "    crs=\"EPSG:25833\", # local crs\n",
    "    rotated=False\n",
    ")\n",
    "\n",
    "# setup topobathy\n",
    "datasets_dep = [{\"elevtn\": \"MVtopo_masked\", \"zmin\": 0.01},{\"elevtn\": \"ELC_INSPIRE\"},{\"elevtn\": \"merit_hydro\"}]\n",
    "dep = sf.setup_dep(datasets_dep=datasets_dep)\n",
    "\n",
    "# setup active mask\n",
    "sf.setup_mask_active(\n",
    "    include_mask=mask_file,\n",
    "    zmax=-50.0,\n",
    ")\n",
    "sf.setup_mask_bounds(\n",
    "    btype=\"waterlevel\",\n",
    "    zmax=0.0,\n",
    ")\n",
    "\n",
    "# setup roughness\n",
    "sf.setup_manning_roughness(\n",
    "    manning_land=0.04,\n",
    "    manning_sea=0.02,\n",
    "    rgh_lev_land=0,  # the minimum elevation of the land\n",
    ")\n",
    "\n",
    "# setup initial water levels\n",
    "ini_ds = xr.open_dataset(ini_wl_file, engine=\"rasterio\")\n",
    "ini_ds = ini_ds.rename({\"band_data\": \"zsini\"})\n",
    "sf.set_states(data=ini_ds[\"zsini\"])\n",
    "sf.set_config(\"inifile\", \"sfincs.ini\")"
   ]
  },
  {
   "cell_type": "markdown",
   "id": "13decce1",
   "metadata": {},
   "source": [
    "## Setup waterlevel forcing point and obs stations"
   ]
  },
  {
   "cell_type": "code",
   "execution_count": null,
   "id": "2f28a8b9",
   "metadata": {},
   "outputs": [],
   "source": [
    "pnts = gpd.points_from_xy(x, y)\n",
    "index = [1]  # NOTE that the index should start at one\n",
    "bnd = gpd.GeoDataFrame(index=index, geometry=pnts, crs=sf.crs)\n",
    "\n",
    "# Create some placeholder for waterlevel timeseries\n",
    "# Will be overwritten in scenario setup\n",
    "time = pd.date_range(\n",
    "    start=utils.parse_datetime(sf.config['tstart']),\n",
    "    end=utils.parse_datetime(sf.config['tend']),\n",
    "    periods=3\n",
    ")\n",
    "\n",
    "bzs = [0.0, 1.0, 0.0]\n",
    "bzspd = pd.DataFrame(index=time, data=bzs, columns=index)\n",
    "\n",
    "sf.setup_waterlevel_forcing(timeseries=bzspd, locations=bnd, buffer=1000)\n",
    "\n",
    "# Setup obs points\n",
    "gdf = gpd.GeoDataFrame(obs, crs=sf.crs)\n",
    "sf.setup_observation_points(\n",
    "    locations=gdf, merge=False\n",
    ")"
   ]
  },
  {
   "cell_type": "markdown",
   "id": "22957e11",
   "metadata": {},
   "source": [
    "## Setup dikes"
   ]
  },
  {
   "cell_type": "code",
   "execution_count": null,
   "id": "97015a53",
   "metadata": {},
   "outputs": [],
   "source": [
    "gdf_floodwall = sf.data_catalog.get_geodataframe(\n",
    "    dike_file, geom=sf.region, crs=sf.crs\n",
    ")\n",
    "\n",
    "if (gdf_floodwall.geometry.type == \"MultiLineString\").any():\n",
    "    gdf_floodwall = gdf_floodwall.explode()\n",
    "\n",
    "gdf_floodwall[\"par1\"] = 0.6\n",
    "\n",
    "sf.setup_structures(\n",
    "    structures=gdf_floodwall,\n",
    "    stype=\"weir\",\n",
    "    merge=False,\n",
    ")"
   ]
  },
  {
   "cell_type": "markdown",
   "id": "d1bbba8b",
   "metadata": {},
   "source": [
    "## Save model"
   ]
  },
  {
   "cell_type": "code",
   "execution_count": null,
   "id": "99db7fb9",
   "metadata": {},
   "outputs": [],
   "source": [
    "sf.write()"
   ]
  },
  {
   "cell_type": "markdown",
   "id": "4ddf239f",
   "metadata": {},
   "source": []
  }
 ],
 "metadata": {
  "kernelspec": {
   "display_name": "sfincs_gfm",
   "language": "python",
   "name": "python3"
  },
  "language_info": {
   "codemirror_mode": {
    "name": "ipython",
    "version": 3
   },
   "file_extension": ".py",
   "mimetype": "text/x-python",
   "name": "python",
   "nbconvert_exporter": "python",
   "pygments_lexer": "ipython3",
   "version": "3.11.12"
  }
 },
 "nbformat": 4,
 "nbformat_minor": 5
}
