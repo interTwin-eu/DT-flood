{
 "cells": [
  {
   "cell_type": "markdown",
   "id": "3d07ecc5",
   "metadata": {},
   "source": [
    "# Set up SFINCS model\n",
    "\n",
    "This notebook guides a user through the set up of a SFINCS model for the German Baltic coast in the Barth area. The set up will use locally sourced data as much as possible to aim for the most accurate results."
   ]
  },
  {
   "cell_type": "code",
   "execution_count": null,
   "id": "04b727af",
   "metadata": {},
   "outputs": [],
   "source": [
    "from pathlib import Path\n",
    "import xarray as xr\n",
    "import geopandas as gpd\n",
    "import pandas as pd\n",
    "from shapely.geometry import Point\n",
    "\n",
    "from hydromt_sfincs import SfincsModel\n",
    "from hydromt_sfincs import utils\n",
    "from hydromt.log import setuplog\n"
   ]
  },
  {
   "cell_type": "markdown",
   "id": "26915a18",
   "metadata": {},
   "source": [
    "## Basic Config"
   ]
  },
  {
   "cell_type": "markdown",
   "id": "d418d9b3",
   "metadata": {},
   "source": [
    "### Model path & data location\n",
    "\n",
    "First we define some basic aspects of the model. Here we set data locations i.e. where the model will be saved and how this particular version is called. We also define where to find the necessary data for the setup, though the actual datafiles are defined later when we need them."
   ]
  },
  {
   "cell_type": "code",
   "execution_count": null,
   "id": "d3d7b954",
   "metadata": {},
   "outputs": [],
   "source": [
    "# Top project folder\n",
    "project_root = Path().resolve()\n",
    "\n",
    "# Folder containing different model versions\n",
    "model_root = project_root/\"models\"\n",
    "\n",
    "# This model version's name\n",
    "model_name = \"20m_final\"\n",
    "\n",
    "# Data folder\n",
    "data_root = project_root / \"data\""
   ]
  },
  {
   "cell_type": "markdown",
   "id": "375e2710",
   "metadata": {},
   "source": [
    "### Basic model parameters\n",
    "\n",
    "Here we set some necessary parameter, being the grid resolution (in meters), the point on the boundary where the waterlevels are forced, and the points at which timeseries are written to the output. Note that the units (meters) and coordinates are those of the local crs we define."
   ]
  },
  {
   "cell_type": "code",
   "execution_count": null,
   "id": "36df8251",
   "metadata": {},
   "outputs": [],
   "source": [
    "# Local crs to use in model\n",
    "crs = \"EPSG:25833\"\n",
    "\n",
    "# model resolution in meters\n",
    "res = 20\n",
    "\n",
    "# waterlevel forcing point\n",
    "x = [372368.1]\n",
    "y = [6033653.6]\n",
    "\n",
    "# Observation points for model validation\n",
    "obs = {'Station': [\"Barhoeft\",\"Barth\",\"Althagen\"], \n",
    "     'geometry': [\n",
    "         Point(371100.0, 6034300.0), \n",
    "         Point(352691.1, 6027443.5),\n",
    "         Point(332296.2, 6027473.9),\n",
    "         ]}\n",
    "\n"
   ]
  },
  {
   "cell_type": "markdown",
   "id": "872e0fd6",
   "metadata": {},
   "source": [
    "## Base SFINCS setup"
   ]
  },
  {
   "cell_type": "markdown",
   "id": "a6167ade",
   "metadata": {},
   "source": [
    "### Base SFINCS object"
   ]
  },
  {
   "cell_type": "code",
   "execution_count": null,
   "id": "7e99c231",
   "metadata": {},
   "outputs": [],
   "source": [
    "# topobathy datalib\n",
    "datalib = data_root/\"topobathy\"/\"data.yml\"\n",
    "\n",
    "logger = setuplog(log_level=20)\n",
    "\n",
    "sf = SfincsModel(\n",
    "    root=model_root/model_name,\n",
    "    data_libs=datalib,\n",
    "    mode=\"w+\",\n",
    "    logger=logger\n",
    ")"
   ]
  },
  {
   "cell_type": "markdown",
   "id": "f774d3f3",
   "metadata": {},
   "source": [
    "### Initial settings & grid\n",
    "some will be overwritten either later during setup (zsini) or when updating for an event (timing).\\\n",
    "A custom mask file is used to make sure the entire desired area is covered by the model."
   ]
  },
  {
   "cell_type": "code",
   "execution_count": null,
   "id": "5bde9a1a",
   "metadata": {},
   "outputs": [],
   "source": [
    "# mask file\n",
    "mask_file = data_root/\"mask\"/\"mask_25833.geojson\"\n",
    "\n",
    "sf.setup_config(\n",
    "    # timings will be overwritten later in scenario setup\n",
    "    tref=\"20100101 000000\",\n",
    "    tstart=\"20100101 000000\",\n",
    "    tend=\"20100102 000000\",\n",
    "    # misc time options\n",
    "    dtout=10400.0,\n",
    "    dthisout=600.0,\n",
    "    dtmaxout=259200.0,\n",
    "    tspinup=86400,\n",
    "    # zsini will be overwritten later in base setup\n",
    "    zsini=-1,\n",
    ")\n",
    "\n",
    "# Create grid\n",
    "sf.setup_grid_from_region(\n",
    "    region={\"geom\": mask_file},\n",
    "    res=res,\n",
    "    crs=crs, # local crs\n",
    "    rotated=False\n",
    ")"
   ]
  },
  {
   "cell_type": "markdown",
   "id": "5ce886bf",
   "metadata": {},
   "source": [
    "### Topobathy\n",
    "The data is taken from the datacatalog defined when creating the `SfincsModel` object. The datasets used below are refered to by their name given in that datacatalog."
   ]
  },
  {
   "cell_type": "code",
   "execution_count": null,
   "id": "42de198f",
   "metadata": {},
   "outputs": [],
   "source": [
    "# setup topobathy\n",
    "datasets_dep = [{\"elevtn\": \"MVtopo_masked\", \"zmin\": 0.01},{\"elevtn\": \"ELC_INSPIRE\"},{\"elevtn\": \"merit_hydro\"}]\n",
    "dep = sf.setup_dep(datasets_dep=datasets_dep)"
   ]
  },
  {
   "cell_type": "markdown",
   "id": "4cc98ccb",
   "metadata": {},
   "source": [
    "### (In)active & boundary cells\n",
    "Indicating which cells are (in)active or are boundary cells partly depends on the bathymetry, hence can only be done after setting up the topobathy/\\\n",
    "Here we also set up the friction coefficients for land and sea celss"
   ]
  },
  {
   "cell_type": "code",
   "execution_count": null,
   "id": "27cb127b",
   "metadata": {},
   "outputs": [],
   "source": [
    "# setup active mask\n",
    "sf.setup_mask_active(\n",
    "    include_mask=mask_file,\n",
    "    zmax=-50.0,\n",
    ")\n",
    "sf.setup_mask_bounds(\n",
    "    btype=\"waterlevel\",\n",
    "    zmax=0.0,\n",
    ")\n",
    "\n",
    "# setup roughness\n",
    "sf.setup_manning_roughness(\n",
    "    manning_land=0.04,\n",
    "    manning_sea=0.02,\n",
    "    rgh_lev_land=0,  # the minimum elevation of the land\n",
    ")"
   ]
  },
  {
   "cell_type": "markdown",
   "id": "23d9f0e3",
   "metadata": {},
   "source": [
    "### Initial waterlevels\n",
    "We use a manually created file to indicate what the initial waterlevels. The topography of the area is complicated, with multiple regions below sea level. Using a flat initial waterlevel of 0 or -1 will have these regions start already flooded. Using a low enough initial level so that these areas remain dry will require a longer spinup time to make sure the water reaches an equilibrium position for the event. For this particular area it can take a significant amount of time for the water to properly settle in all corners."
   ]
  },
  {
   "cell_type": "code",
   "execution_count": null,
   "id": "3c7d8c59",
   "metadata": {},
   "outputs": [],
   "source": [
    "# setup initial water levels\n",
    "# Initial water levels file\n",
    "ini_wl_file = data_root/\"mask\"/\"zsini_regridded_20m_final.tif\"\n",
    "\n",
    "ini_ds = xr.open_dataset(ini_wl_file, engine=\"rasterio\")\n",
    "ini_ds = ini_ds.rename({\"band_data\": \"zsini\"})\n",
    "sf.set_states(data=ini_ds[\"zsini\"])\n",
    "sf.set_config(\"inifile\", \"sfincs.ini\")"
   ]
  },
  {
   "cell_type": "markdown",
   "id": "13decce1",
   "metadata": {},
   "source": [
    "## Setup waterlevel forcing point and obs stations\n",
    "We use a dummy timeseries for the setup of the waterlevel forcing just to get the right boundary point set correctly. The time and waterlevel values themselves will be overwritten when updating the model for an event.\\\n",
    "We also include three observation points for comparison with observational data. These points are matched to known locations of waterlevel gauges."
   ]
  },
  {
   "cell_type": "code",
   "execution_count": null,
   "id": "2f28a8b9",
   "metadata": {},
   "outputs": [],
   "source": [
    "pnts = gpd.points_from_xy(x, y)\n",
    "index = [1]  # NOTE that the index should start at one\n",
    "bnd = gpd.GeoDataFrame(index=index, geometry=pnts, crs=sf.crs)\n",
    "\n",
    "# Create some placeholder for waterlevel timeseries\n",
    "# Will be overwritten in scenario setup\n",
    "time = pd.date_range(\n",
    "    start=utils.parse_datetime(sf.config['tstart']),\n",
    "    end=utils.parse_datetime(sf.config['tend']),\n",
    "    periods=3\n",
    ")\n",
    "\n",
    "bzs = [0.0, 1.0, 0.0]\n",
    "bzspd = pd.DataFrame(index=time, data=bzs, columns=index)\n",
    "\n",
    "sf.setup_waterlevel_forcing(timeseries=bzspd, locations=bnd, buffer=1000)\n",
    "\n",
    "# Setup obs points\n",
    "gdf = gpd.GeoDataFrame(obs, crs=sf.crs)\n",
    "sf.setup_observation_points(\n",
    "    locations=gdf, merge=False\n",
    ")"
   ]
  },
  {
   "cell_type": "markdown",
   "id": "22957e11",
   "metadata": {},
   "source": [
    "## Setup dikes\n",
    "Finally we configure the known dike locations in the model. The file containing the dike locations is prepared beforehand and is a merger of dike locations from several local sources of varying regional level."
   ]
  },
  {
   "cell_type": "code",
   "execution_count": null,
   "id": "97015a53",
   "metadata": {},
   "outputs": [],
   "source": [
    "# dike geometry file\n",
    "dike_file = data_root/\"dikes\"/\"all_dikes.gpkg\"\n",
    "\n",
    "gdf_floodwall = sf.data_catalog.get_geodataframe(\n",
    "    dike_file, geom=sf.region, crs=sf.crs\n",
    ")\n",
    "\n",
    "if (gdf_floodwall.geometry.type == \"MultiLineString\").any():\n",
    "    gdf_floodwall = gdf_floodwall.explode()\n",
    "\n",
    "gdf_floodwall[\"par1\"] = 0.6\n",
    "\n",
    "sf.setup_structures(\n",
    "    structures=gdf_floodwall,\n",
    "    stype=\"weir\",\n",
    "    merge=False,\n",
    ")"
   ]
  },
  {
   "cell_type": "markdown",
   "id": "d1bbba8b",
   "metadata": {},
   "source": [
    "## Save model"
   ]
  },
  {
   "cell_type": "code",
   "execution_count": null,
   "id": "99db7fb9",
   "metadata": {},
   "outputs": [],
   "source": [
    "sf.write()"
   ]
  },
  {
   "cell_type": "markdown",
   "id": "4ddf239f",
   "metadata": {},
   "source": []
  }
 ],
 "metadata": {
  "kernelspec": {
   "display_name": "sfincs_gfm",
   "language": "python",
   "name": "python3"
  },
  "language_info": {
   "codemirror_mode": {
    "name": "ipython",
    "version": 3
   },
   "file_extension": ".py",
   "mimetype": "text/x-python",
   "name": "python",
   "nbconvert_exporter": "python",
   "pygments_lexer": "ipython3",
   "version": "3.11.12"
  }
 },
 "nbformat": 4,
 "nbformat_minor": 5
}
