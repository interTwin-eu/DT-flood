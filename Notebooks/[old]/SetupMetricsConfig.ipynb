{
 "cells": [
  {
   "cell_type": "markdown",
   "metadata": {},
   "source": [
    "# Create metrics_config.toml\n",
    "\n",
    "In this notebook we create the metrics_config.toml file. This file contains the SQL queries we want to do on the Delft-FIAT output to extract the data needed for the infographics."
   ]
  },
  {
   "cell_type": "code",
   "execution_count": null,
   "metadata": {},
   "outputs": [],
   "source": [
    "from pathlib import Path\n",
    "import pandas as pd\n",
    "from os import makedirs\n",
    "import tomli_w"
   ]
  },
  {
   "cell_type": "code",
   "execution_count": null,
   "metadata": {},
   "outputs": [],
   "source": [
    "model_root = Path('c:/Repositories/DT-flood/FloodAdapt_database/Humber/')\n",
    "\n",
    "scenario_name = 'empty_event_current_no_measures'\n",
    "\n",
    "fiat_out_path = model_root / 'output' / 'scenarios' / scenario_name / 'Impacts' / ('Impacts_detailed_'+scenario_name+'.csv')\n",
    "\n",
    "metrics_path = model_root / 'static' / 'templates' / 'infometrics' / 'metrics_config.toml'"
   ]
  },
  {
   "cell_type": "code",
   "execution_count": null,
   "metadata": {},
   "outputs": [],
   "source": [
    "fiat_out = pd.read_csv(fiat_out_path)"
   ]
  },
  {
   "cell_type": "code",
   "execution_count": null,
   "metadata": {},
   "outputs": [],
   "source": [
    "fiat_out"
   ]
  },
  {
   "cell_type": "code",
   "execution_count": null,
   "metadata": {},
   "outputs": [],
   "source": [
    "print(fiat_out['Primary Object Type'].unique())\n",
    "print(fiat_out['Secondary Object Type'].unique())"
   ]
  },
  {
   "cell_type": "markdown",
   "metadata": {},
   "source": [
    "## Querie\n",
    "\n",
    "A querie needs to consist of the following:\n",
    "- `name`: ID of the querie\n",
    "- `description`: explanation of what to calculate\n",
    "- `select`: SQL command as str how to calculate quantity (e.g. COUNT, SUM)\n",
    "- `filter`: SQL command as str which data to select (e.g. which column)\n",
    "- `long_name`\n",
    "- `show_in_metrics_table`"
   ]
  },
  {
   "cell_type": "code",
   "execution_count": null,
   "metadata": {},
   "outputs": [],
   "source": [
    "querie_list = []"
   ]
  },
  {
   "cell_type": "markdown",
   "metadata": {},
   "source": [
    "Automate metric generation more. Make widgets with dropdown menu storing values into parameters (one for building type, one for stat to be queried, threshold etc) and make function that takes these parameters in and generates the right SQL querie and block in toml file"
   ]
  },
  {
   "cell_type": "code",
   "execution_count": null,
   "metadata": {},
   "outputs": [],
   "source": [
    "querie_single = {\n",
    "    \"name\": \"ResidentialMajorCount\",\n",
    "    \"description\": \"No. Residential buildings with major damage\",\n",
    "    \"select\": \"SUM(*)\",\n",
    "    \"filter\": \"`Primary Object Type` IN ('RES') AND `Inundation Depth` <= 6 AND `Inundation Depth` > 1\",\n",
    "    \"long_name\": \"Major Damaged Residential Buildings\",\n",
    "    \"show_in_metrics_table\": 'True'\n",
    "}\n"
   ]
  },
  {
   "cell_type": "code",
   "execution_count": null,
   "metadata": {},
   "outputs": [],
   "source": [
    "querie_list.append(querie_single)\n",
    "print(querie_list)"
   ]
  },
  {
   "cell_type": "markdown",
   "metadata": {},
   "source": [
    "## Aggregation\n",
    "\n",
    "A list of some aggregation to be used. Any entry should have a corresponding entry in the site.toml file under fiat.aggregation"
   ]
  },
  {
   "cell_type": "code",
   "execution_count": null,
   "metadata": {},
   "outputs": [],
   "source": [
    "agg_list = []"
   ]
  },
  {
   "cell_type": "markdown",
   "metadata": {},
   "source": [
    "## Write toml file"
   ]
  },
  {
   "cell_type": "code",
   "execution_count": null,
   "metadata": {},
   "outputs": [],
   "source": [
    "metric_dict = {\n",
    "    \"queries\": querie_list,\n",
    "}\n",
    "\n",
    "if len(agg_list) > 0:\n",
    "    metric_dict.update({\"aggregateBy\": agg_list})\n",
    "    \n",
    "print(metric_dict)"
   ]
  },
  {
   "cell_type": "code",
   "execution_count": null,
   "metadata": {},
   "outputs": [],
   "source": [
    "if not metrics_path.parent.exists():\n",
    "    makedirs(metrics_path.parent)\n",
    "\n",
    "with open(metrics_path,'wb') as f:\n",
    "    tomli_w.dump(metric_dict,f)"
   ]
  },
  {
   "cell_type": "code",
   "execution_count": null,
   "metadata": {},
   "outputs": [],
   "source": []
  }
 ],
 "metadata": {
  "kernelspec": {
   "display_name": "Python 3",
   "language": "python",
   "name": "python3"
  },
  "language_info": {
   "codemirror_mode": {
    "name": "ipython",
    "version": 3
   },
   "file_extension": ".py",
   "mimetype": "text/x-python",
   "name": "python",
   "nbconvert_exporter": "python",
   "pygments_lexer": "ipython3",
   "version": "3.10.13"
  },
  "orig_nbformat": 4
 },
 "nbformat": 4,
 "nbformat_minor": 2
}
