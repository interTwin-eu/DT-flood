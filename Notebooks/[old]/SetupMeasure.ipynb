{
 "cells": [
  {
   "cell_type": "markdown",
   "metadata": {},
   "source": [
    "# Create Measure settings\n",
    "\n",
    "In this notebook we will create a .toml file containing the settings for a (set of) FloodAdapt measures.\n",
    "\n",
    "We will create a baseline 'NoMeasures' which does not implement anything, but will include some more general doc."
   ]
  },
  {
   "cell_type": "code",
   "execution_count": null,
   "metadata": {},
   "outputs": [],
   "source": [
    "from pathlib import Path\n",
    "from os import makedirs\n",
    "import tomli_w\n",
    "\n",
    "from flood_adapt.object_model.measure_factory import MeasureFactory"
   ]
  },
  {
   "cell_type": "markdown",
   "metadata": {},
   "source": [
    "## Set base FloodAdapt path"
   ]
  },
  {
   "cell_type": "code",
   "execution_count": 2,
   "metadata": {},
   "outputs": [],
   "source": [
    "model_root = Path('c:/Repositories/DT-flood/FloodAdapt_database/Humber/')"
   ]
  },
  {
   "cell_type": "markdown",
   "metadata": {},
   "source": [
    "## Measure name\n",
    "Set the name of the measure and create the folder where it is saved"
   ]
  },
  {
   "cell_type": "code",
   "execution_count": 3,
   "metadata": {},
   "outputs": [],
   "source": [
    "measure_name = 'NoMeasures'\n",
    "measure_path = model_root / 'input' / 'measures' / measure_name\n",
    "if not measure_path.exists():\n",
    "    makedirs(measure_path)"
   ]
  },
  {
   "cell_type": "markdown",
   "metadata": {},
   "source": [
    "## Measure Dictionary\n",
    "The dict containing all the settings that (can) go into a measure:\n",
    "- `name`: Name of the measure\n",
    "- `description`: Longer description of the measure (optional)\n",
    "- `type`: The type of implemented measure, one of the following:\n",
    "    - `floodwall`\n",
    "        - Hazard attributes\n",
    "        - `elevation`: Height of the floodwall (UnitfulLength)\n",
    "    - `levee`: Same as floodwall\n",
    "    - `pump`\n",
    "        - Hazard attributes\n",
    "        - `discharge`: pump rate (UnitfulDischarge)\n",
    "    - `water_square` (not yet implemented?)\n",
    "    - `greening`;\n",
    "        - Hazard attributes\n",
    "        - `volume`\n",
    "        - `height`\n",
    "        - `aggregation_area_type`\n",
    "        - `aggregation_area_name`\n",
    "        - `percent_area`\n",
    "    - `total_storage` (not yet implemented?)\n",
    "    - `elevate_properties`: How much to elevate properties by (dict containing following)\n",
    "        - Impact attributes\n",
    "        - `elevation`: How much the properties are raised (UnitfulRefLength)\n",
    "    - `buyout_properties`\n",
    "        - Impact attributes\n",
    "    - `floodproof_properties`\n",
    "        - Impact attributes\n",
    "        - `elevation`: Heigth to which the flood proofing goes (UnitfulLength)\n",
    "\n",
    "The Hazard attributes consist of:\n",
    "- `selection_type`: How to select the relevant area, one of 'aggregation_area', 'polygon', 'polyline', 'all'\n",
    "- `polygon_file`: Path to polygon file when selection_type='polygon','polyline'\n",
    "\n",
    "The Impact attributes consist of:\n",
    "- `selection_type`: How to select the relevant area, one of 'aggregation_area', 'polygon', 'polyline', 'all'\n",
    "- `polygon_file`: Path to polygon file when selection_type='polygon','polyline'\n",
    "- `aggregation_type_area`\n",
    "- `aggregation_type_name`\n",
    "- `property_type`"
   ]
  },
  {
   "cell_type": "code",
   "execution_count": 4,
   "metadata": {},
   "outputs": [],
   "source": [
    "measure_dict = {\n",
    "    'name': measure_name\n",
    "}"
   ]
  },
  {
   "cell_type": "markdown",
   "metadata": {},
   "source": [
    "## Save measure to .toml file"
   ]
  },
  {
   "cell_type": "code",
   "execution_count": 8,
   "metadata": {},
   "outputs": [],
   "source": [
    "measure_fn = measure_path / f\"{measure_name}.toml\"\n",
    "\n",
    "with open(measure_fn, 'wb') as f:\n",
    "    tomli_w.dump(measure_dict,f)"
   ]
  },
  {
   "cell_type": "code",
   "execution_count": null,
   "metadata": {},
   "outputs": [],
   "source": []
  }
 ],
 "metadata": {
  "kernelspec": {
   "display_name": "Python 3",
   "language": "python",
   "name": "python3"
  },
  "language_info": {
   "codemirror_mode": {
    "name": "ipython",
    "version": 3
   },
   "file_extension": ".py",
   "mimetype": "text/x-python",
   "name": "python",
   "nbconvert_exporter": "python",
   "pygments_lexer": "ipython3",
   "version": "3.10.13"
  },
  "orig_nbformat": 4
 },
 "nbformat": 4,
 "nbformat_minor": 2
}
