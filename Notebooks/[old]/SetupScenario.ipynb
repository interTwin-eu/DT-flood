{
 "cells": [
  {
   "cell_type": "markdown",
   "metadata": {},
   "source": [
    "# Create Scenario Settings\n",
    "\n",
    "In this notebook we will create a .toml file containing the settings of a scenario ran in FloodAdapt"
   ]
  },
  {
   "cell_type": "code",
   "execution_count": null,
   "metadata": {},
   "outputs": [],
   "source": [
    "from pathlib import Path\n",
    "from os import makedirs\n",
    "import tomli_w\n",
    "\n",
    "from flood_adapt.object_model.scenario import Scenario"
   ]
  },
  {
   "cell_type": "markdown",
   "metadata": {},
   "source": [
    "## Set base FloodAdapt path"
   ]
  },
  {
   "cell_type": "code",
   "execution_count": null,
   "metadata": {},
   "outputs": [],
   "source": [
    "model_root = Path('c:/Repositories/DT-flood/FloodAdapt_database/Humber/')"
   ]
  },
  {
   "cell_type": "markdown",
   "metadata": {},
   "source": [
    "## Scenario name\n",
    "Set the name of the scenario and create its folder.\n",
    "\n",
    "Also specify the event, projection and strategy that make up the scenario in `event_name`, `projection_name`, and `strategy_name` resp. Here we will use the baselines for each of these created in their respective notebooks."
   ]
  },
  {
   "cell_type": "code",
   "execution_count": null,
   "metadata": {},
   "outputs": [],
   "source": [
    "event_name = 'Empty_Event'\n",
    "projection_name = 'current'\n",
    "strategy_name = 'no_measures'\n",
    "\n",
    "scenario_name = f\"{event_name}_{projection_name}_{strategy_name}\"\n",
    "scenario_path = model_root / 'input' / 'scenarios' / scenario_name\n",
    "\n",
    "if not scenario_path.exists():\n",
    "    makedirs(scenario_path)"
   ]
  },
  {
   "cell_type": "markdown",
   "metadata": {},
   "source": [
    "## Scenario dictionary\n",
    "Create a dict containing all the settings that go in a scenario:\n",
    "- `name`: Name of the scenario\n",
    "- `description`: Longer description of the scenario (optional)\n",
    "- `event`: Name of the event used in the scenario. It should have its own toml file at /inputs/events/<event_name>/\n",
    "- `projection`: Name of the projection used in the scenario. It should have its own toml file at /inputs/projections/<projection_name>/\n",
    "- `strategy`: Name of the strategy used in the scenario. It should have its own toml file at /inputs/strategies/<strategy_name>/"
   ]
  },
  {
   "cell_type": "code",
   "execution_count": null,
   "metadata": {},
   "outputs": [],
   "source": [
    "scenario_dict = {\n",
    "    'name': scenario_name,\n",
    "    'event': event_name,\n",
    "    'projection': projection_name,\n",
    "    'strategy': strategy_name\n",
    "}"
   ]
  },
  {
   "cell_type": "markdown",
   "metadata": {},
   "source": [
    "## Save scenario"
   ]
  },
  {
   "cell_type": "code",
   "execution_count": null,
   "metadata": {},
   "outputs": [],
   "source": [
    "scenario_fn = scenario_path / f\"{scenario_name}.toml\"\n",
    "\n",
    "with open(scenario_fn, 'wb') as f:\n",
    "    tomli_w.dump(scenario_dict,f)"
   ]
  },
  {
   "cell_type": "markdown",
   "metadata": {},
   "source": [
    "## Test load"
   ]
  },
  {
   "cell_type": "code",
   "execution_count": null,
   "metadata": {},
   "outputs": [],
   "source": [
    "test_load = Scenario.load_file(scenario_fn)"
   ]
  },
  {
   "cell_type": "code",
   "execution_count": null,
   "metadata": {},
   "outputs": [],
   "source": [
    "test_load.attrs.dict()"
   ]
  },
  {
   "cell_type": "code",
   "execution_count": null,
   "metadata": {},
   "outputs": [],
   "source": []
  }
 ],
 "metadata": {
  "kernelspec": {
   "display_name": "Python 3",
   "language": "python",
   "name": "python3"
  },
  "language_info": {
   "codemirror_mode": {
    "name": "ipython",
    "version": 3
   },
   "file_extension": ".py",
   "mimetype": "text/x-python",
   "name": "python",
   "nbconvert_exporter": "python",
   "pygments_lexer": "ipython3",
   "version": "3.10.13"
  },
  "orig_nbformat": 4
 },
 "nbformat": 4,
 "nbformat_minor": 2
}
