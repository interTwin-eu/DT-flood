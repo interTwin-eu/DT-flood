{
 "cells": [
  {
   "cell_type": "markdown",
   "metadata": {},
   "source": [
    "# Create Projection settings\n",
    "\n",
    "In this notebook we will create a .toml file containing the settings for a projection used in a FloodAdapt scenario.\n",
    "\n",
    "In this particular example we create a baseline projection with no changes."
   ]
  },
  {
   "cell_type": "code",
   "execution_count": null,
   "metadata": {},
   "outputs": [],
   "source": [
    "from pathlib import Path\n",
    "from os import makedirs\n",
    "from pprint import pprint\n",
    "import tomli_w\n",
    "\n",
    "from flood_adapt.object_model.site import Site\n",
    "from flood_adapt.object_model.projection import Projection"
   ]
  },
  {
   "cell_type": "markdown",
   "metadata": {},
   "source": [
    "## Set base FloodAdapt path"
   ]
  },
  {
   "cell_type": "code",
   "execution_count": null,
   "metadata": {},
   "outputs": [],
   "source": [
    "model_root = Path('c:/Repositories/DT-flood/FloodAdapt_database/Humber/')"
   ]
  },
  {
   "cell_type": "markdown",
   "metadata": {},
   "source": [
    "As a first check, load in site.toml of the relevant model/database"
   ]
  },
  {
   "cell_type": "code",
   "execution_count": null,
   "metadata": {},
   "outputs": [],
   "source": [
    "site_fn = model_root / 'static' / 'site' / 'site.toml'\n",
    "site_obj = Site.load_file(site_fn)\n",
    "\n",
    "pprint(vars(site_obj.attrs))"
   ]
  },
  {
   "cell_type": "markdown",
   "metadata": {},
   "source": [
    "## Projection name\n",
    "Set the name of the projection and create the folder where it is saved"
   ]
  },
  {
   "cell_type": "code",
   "execution_count": null,
   "metadata": {},
   "outputs": [],
   "source": [
    "projection_name = 'current'\n",
    "projection_path = model_root / 'input' / 'projections' / projection_name\n",
    "if not projection_path.exists():\n",
    "    makedirs(projection_path)"
   ]
  },
  {
   "cell_type": "markdown",
   "metadata": {},
   "source": [
    "## Projection dictionary\n",
    "\n",
    "The dict containing all the setting that (can) go into a projection toml file:\n",
    "- `name`: Name of the projection\n",
    "- `description`: Longer description of the projection (optional)\n",
    "- `physical_projection`: Projection for climate change (dict, containing the following):\n",
    "    - `sea_level_rise`: Additional sea level rise on top of site.slr (UnitfulLength)\n",
    "    - `subsidence`: Soil subsidence (UnitfulLength)\n",
    "    - `rainfall_increase`: Percentage increase in rainfall\n",
    "    - `storm_frequency_increase`: Percentage increase in storm frequency\n",
    "- `socio_economic_change`: Projection of socio economic changes (dict, containing the following):\n",
    "    - `population_growth_existing`: Current percentage changes in population\n",
    "    - `economic_growth`: Expected economic growth percentage\n",
    "    - `population_growth_new`: Additional percentage change in population\n",
    "    - `new_development_elevation`: Elevation at which new delevopment is built (on top of DEM elevation)\n",
    "    - `new_development_shapefile`: Path to shape file of new (urban) development"
   ]
  },
  {
   "cell_type": "code",
   "execution_count": null,
   "metadata": {},
   "outputs": [],
   "source": [
    "projection_dict = {\n",
    "    'name': projection_name,\n",
    "    'physical_projection': {},\n",
    "    'socio_economic_change': {}\n",
    "}"
   ]
  },
  {
   "cell_type": "markdown",
   "metadata": {},
   "source": [
    "## Save projection to file"
   ]
  },
  {
   "cell_type": "code",
   "execution_count": null,
   "metadata": {},
   "outputs": [],
   "source": [
    "projection_fn = projection_path / f\"{projection_name}.toml\"\n",
    "\n",
    "with open(projection_fn, 'wb') as f:\n",
    "    tomli_w.dump(projection_dict,f)"
   ]
  },
  {
   "cell_type": "markdown",
   "metadata": {},
   "source": [
    "## Test load"
   ]
  },
  {
   "cell_type": "code",
   "execution_count": null,
   "metadata": {},
   "outputs": [],
   "source": [
    "test_load = Projection.load_file(projection_fn)"
   ]
  },
  {
   "cell_type": "code",
   "execution_count": null,
   "metadata": {},
   "outputs": [],
   "source": [
    "pprint(test_load.attrs.dict())"
   ]
  },
  {
   "cell_type": "code",
   "execution_count": null,
   "metadata": {},
   "outputs": [],
   "source": []
  }
 ],
 "metadata": {
  "kernelspec": {
   "display_name": "Python 3",
   "language": "python",
   "name": "python3"
  },
  "language_info": {
   "codemirror_mode": {
    "name": "ipython",
    "version": 3
   },
   "file_extension": ".py",
   "mimetype": "text/x-python",
   "name": "python",
   "nbconvert_exporter": "python",
   "pygments_lexer": "ipython3",
   "version": "3.10.13"
  },
  "orig_nbformat": 4
 },
 "nbformat": 4,
 "nbformat_minor": 2
}
