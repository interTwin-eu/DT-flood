{
 "cells": [
  {
   "cell_type": "markdown",
   "metadata": {},
   "source": [
    "# Create Event settings\n",
    "\n",
    "Here we create a toml file specifying the settings for a given event."
   ]
  },
  {
   "cell_type": "code",
   "execution_count": null,
   "metadata": {},
   "outputs": [],
   "source": [
    "from pathlib import Path\n",
    "from hydromt_sfincs import SfincsModel\n",
    "from pprint import pprint\n",
    "from os import makedirs\n",
    "import pandas as pd\n",
    "import tomli_w\n",
    "\n",
    "\n",
    "from flood_adapt.object_model.site import Site\n",
    "from flood_adapt.object_model.hazard.event.eventset import EventSet"
   ]
  },
  {
   "cell_type": "markdown",
   "metadata": {},
   "source": [
    "## Base FloodAdapt path"
   ]
  },
  {
   "cell_type": "code",
   "execution_count": null,
   "metadata": {},
   "outputs": [],
   "source": [
    "model_root = Path('c:/Repositories/DT-flood/FloodAdapt_database/Humber/')"
   ]
  },
  {
   "cell_type": "markdown",
   "metadata": {},
   "source": [
    "As a first check, load in site.toml of the relevant model/database"
   ]
  },
  {
   "cell_type": "code",
   "execution_count": null,
   "metadata": {},
   "outputs": [],
   "source": [
    "site_fn = model_root / 'static' / 'site' / 'site.toml'\n",
    "site_obj = Site.load_file(site_fn)\n",
    "\n",
    "pprint(vars(site_obj.attrs))"
   ]
  },
  {
   "cell_type": "code",
   "execution_count": null,
   "metadata": {},
   "outputs": [],
   "source": [
    "site_obj.attrs.sfincs.overland_model"
   ]
  },
  {
   "cell_type": "markdown",
   "metadata": {},
   "source": [
    "## Read in overland SFINCS model"
   ]
  },
  {
   "cell_type": "code",
   "execution_count": null,
   "metadata": {},
   "outputs": [],
   "source": [
    "sf_root = model_root / 'static' / 'templates' / site_obj.attrs.sfincs.overland_model\n",
    "print(sf_root)\n",
    "sf = SfincsModel(root=sf_root, mode='r')\n",
    "sf.read()"
   ]
  },
  {
   "cell_type": "markdown",
   "metadata": {},
   "source": [
    "## Create empty event\n",
    "\n",
    "We will create an empty event, where we only use the baseline/default forcings we specified when building the SFINCS overland model and add nothing else. This most convienently done in the 'Historical_nearshore' event. This requires a tides timeseries, so we take the bzs forcing created during the SFINCS setup and write it away as a timeseries in the correct event folder.\n",
    "\n",
    "The 'synthetic' template requires tides setup through the site.toml with tide.source='harmonic'. Using 'Historical_offshore' template will override the SFINCS meteo forcings by downloading US(!!) meteo data and set those up as forcing.\n",
    "\n"
   ]
  },
  {
   "cell_type": "code",
   "execution_count": null,
   "metadata": {},
   "outputs": [],
   "source": [
    "# Create folder for empty event\n",
    "event_name = 'Empty_Event'\n",
    "event_path = model_root / 'input' / 'events' / event_name\n",
    "if not event_path.exists():\n",
    "    makedirs(event_path)\n"
   ]
  },
  {
   "cell_type": "code",
   "execution_count": null,
   "metadata": {},
   "outputs": [],
   "source": [
    "## Prep sfincs bzs as timeseries\n",
    "pd_bzs = pd.DataFrame(data=sf.forcing['bzs'].values.transpose(), index=sf.forcing['bzs'].time.values)\n",
    "pd_bzs.to_csv((event_path / 'bzs_timeseries.csv'),header=None)"
   ]
  },
  {
   "cell_type": "markdown",
   "metadata": {},
   "source": [
    "Below we specify all the entries into the .toml file for the event:\n",
    "- `event_mode`: Risk type of the event. One of 'single_event' or 'risk'. The latter makes use of the site.risk settings\n",
    "- `event_template`: Base template of the event. One of 'synthetic', 'Historical_nearshore', 'Historical_offshore', 'Historical_hurricane'\n",
    "- `event_timing`: One of 'historical' or 'idealized'\n",
    "- `event_time`: dates of the event, can also be specified as a time before and after a reference time (usually when using forcings through shape sources?). Here taken from the SFINCS config\n",
    "- `event_tide`: Waterlevel forcings used in the event (a dict containing settings):\n",
    "    - `source`: Where to take tides from, one of 'harmonic', 'timeseries', 'model'\n",
    "    - `harmonic_amplitude`: Tide amplitude (UnitfulLength, used when source='harmonic')\n",
    "    - `timeseries_file`: Path to file containing timeseries (used when source='timeseries')\n",
    "- `event_wind`: Wind forcings used in the event (dict containing settings):\n",
    "    - `source`: Where to take winds from, one of 'track', 'map', 'constant', 'timeseries', 'shape', 'none'\n",
    "    - `constant_speed`: wind speed (used when source='constant', UnitfulVelocity)\n",
    "    - `constant_direction`: wind direction (used when source='constant', UnitfulDirection)\n",
    "- `event_rain`: Precipitation forcing used in event (dict containing settings):\n",
    "    - `source`: Where to take precipitation from, one of 'track', 'map', 'constant', 'timeseries', 'shape', 'none'\n",
    "    - `increase`: projected relative increase in rainfall (optional)\n",
    "    - `constant_intensity`: Amount of precipitation (used when source='constant', UnitfulIntensity)\n",
    "    - `timeseries_file`: path to file containing timeseries (used when source='timeseries')\n",
    "    - `shape_type`: Intensity profile of precipitation event, one of 'gaussian', 'block', 'triangle', 'scs' (a file in /static/scs) (used when source='shape')\n",
    "    - `cumulative`: Total amount of rainfall in event (used when source='shape', UnitfulLength)\n",
    "    - `shape_duration`: Time interval of rainfall event (used when source='shape')\n",
    "    - `shape_peak_time`: When peak rainfall occurs (used when source='shape')\n",
    "    - `shape_start_time`: When rainfall event begins (used when source='shape')\n",
    "    - `shape_end_time`: When rainfall event ends (used when source='shape')\n",
    "- `event_surge`: Additional water level surge on top of tides (dict containing settings):\n",
    "    - `source`: Where to take surge data from, one of 'shape', 'none'\n",
    "    - `shape_type`: surge profile (string, default 'gaussian', not same type of option as event_rain.shape_type)\n",
    "    - `shape_duration`: Time interval of surge\n",
    "    - `shape_peak_time`: When peak of the surge occurs\n",
    "    - `shape_peak`: Height of surge peak\n",
    "- `event_river`: River discharges used in event (list of dicts, same length as site.river)\n",
    "    - `source`: Where to take discharges from, one of 'constant', 'timeseries', 'shape'\n",
    "    - `constant_discharge`: River discharge (list of UnitfulDischarge, used when source='constant')\n",
    "    - `timeseries_file`: path to file containing discharge timeseries (list of files, used when source='timeseries')\n",
    "    - `shape_type`: Shape of discharge profile (list, see event_rain.shape_type for options, used when source='shape')\n",
    "    - `cumulative`: Total amount of discharge during event (list, used when source='shape')\n",
    "    - `shape_duration`: Time interval of discharge event (list, used when source='shape')\n",
    "    - `shape_peak_time`: When peak discharge occurs (list, used when source='shape')\n",
    "    - `shape_start_time`: When discharge event begins (list, used when source='shape')\n",
    "    - `shape_end_time`: When discharge event ends (list, used when source='shape')\n",
    "- `event_water_offset`: Offset of waterlevels vs model base on top of site.slr settings (UnitfulLength)\n"
   ]
  },
  {
   "cell_type": "code",
   "execution_count": null,
   "metadata": {},
   "outputs": [],
   "source": [
    "\n",
    "event_mode = 'single_event'\n",
    "event_template = 'Historical_nearshore'\n",
    "event_timing = 'historical'\n",
    "event_time = {'start_time': sf.config['tstart'].strftime('%Y%m%d %H%M%S'),\n",
    "              'end_time': sf.config['tstop'].strftime('%Y%m%d %H%M%S')}\n",
    "event_tide = {'source': 'timeseries',\n",
    "              'timeseries_file': 'bzs_timeseries.csv'}\n",
    "event_wind = {'source': 'none'}\n",
    "event_rain = {'source': 'none'}\n",
    "event_surge = {'source': 'none'}\n",
    "event_river = {'source': 'timeseries'}\n",
    "event_water_offset = {'value': 0,\n",
    "                      'units': 'meters'}"
   ]
  },
  {
   "cell_type": "markdown",
   "metadata": {},
   "source": [
    "## Create event dict\n",
    "Put all the above specified settings in a dict with the necessary keys"
   ]
  },
  {
   "cell_type": "code",
   "execution_count": null,
   "metadata": {},
   "outputs": [],
   "source": [
    "event_dict = {\n",
    "    'name': event_name,\n",
    "    'mode': event_mode,\n",
    "    'template': event_template,\n",
    "    'timing': event_timing,\n",
    "    'time': event_time,\n",
    "    'tide': event_tide,\n",
    "    'wind': event_wind,\n",
    "    'rainfall': event_rain,\n",
    "    'river': [event_river],\n",
    "    'surge': event_surge,\n",
    "    'water_level_offset': event_water_offset\n",
    "}"
   ]
  },
  {
   "cell_type": "markdown",
   "metadata": {},
   "source": [
    "## Save event toml"
   ]
  },
  {
   "cell_type": "code",
   "execution_count": null,
   "metadata": {},
   "outputs": [],
   "source": [
    "event_fn = event_path / f\"{event_name}.toml\"\n",
    "with open(event_fn,'wb') as f:\n",
    "    tomli_w.dump(event_dict,f)"
   ]
  },
  {
   "cell_type": "markdown",
   "metadata": {},
   "source": [
    "## Test load"
   ]
  },
  {
   "cell_type": "code",
   "execution_count": null,
   "metadata": {},
   "outputs": [],
   "source": [
    "loaded_event = EventSet.load_file(event_fn)"
   ]
  },
  {
   "cell_type": "code",
   "execution_count": null,
   "metadata": {},
   "outputs": [],
   "source": [
    "loaded_event.attrs"
   ]
  },
  {
   "cell_type": "code",
   "execution_count": null,
   "metadata": {},
   "outputs": [],
   "source": []
  }
 ],
 "metadata": {
  "kernelspec": {
   "display_name": "Python 3",
   "language": "python",
   "name": "python3"
  },
  "language_info": {
   "codemirror_mode": {
    "name": "ipython",
    "version": 3
   },
   "file_extension": ".py",
   "mimetype": "text/x-python",
   "name": "python",
   "nbconvert_exporter": "python",
   "pygments_lexer": "ipython3",
   "version": "3.10.13"
  },
  "orig_nbformat": 4
 },
 "nbformat": 4,
 "nbformat_minor": 2
}
