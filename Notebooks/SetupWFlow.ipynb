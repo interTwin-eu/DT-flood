{
 "cells": [
  {
   "cell_type": "markdown",
   "metadata": {},
   "source": [
    "# Build a WFlow model anywhere\n",
    "\n",
    "In this notebook we will setup a WFlow model coupled to the FloodAdapt backend\n",
    "\n",
    "## **Step 0:** Import dependencies"
   ]
  },
  {
   "cell_type": "code",
   "execution_count": null,
   "metadata": {},
   "outputs": [],
   "source": [
    "from pathlib import Path\n",
    "import hydromt\n",
    "import geopandas as gpd\n",
    "from hydromt.log import setuplog\n",
    "from hydromt.config import configread\n",
    "from hydromt_wflow import WflowModel\n",
    "\n",
    "import sys\n",
    "sys.path.append(\"/home/jovyan/work\")\n",
    "from DT_flood.utils.plot_utils import plot_wflow_model"
   ]
  },
  {
   "cell_type": "code",
   "execution_count": null,
   "metadata": {},
   "outputs": [],
   "source": [
    "model_name = 'Humber'\n",
    "model_path = Path('/home/jovyan/work/Project') / model_name\n",
    "#model_path = Path(\"/home/wotromp/InterTwin/FloodAdapt_database\") / model_name\n",
    "# model_path = Path('c:/Repositories/DT-flood/FloodAdapt_database') / model_name\n",
    "# model_path = Path(\"../FloodAdapt_database\") / model_name\n",
    "\n",
    "wf_root = model_path / Path('static/templates/wflow')\n",
    "\n",
    "wf_logger_name = 'WFlow_Logger'\n",
    "\n",
    "region_fn = Path('/home/jovyan/work/Data/region') / 'HumberDelta_large.geojson'\n",
    "#region_fn = model_path / 'HumberDelta_large.geojson'"
   ]
  },
  {
   "cell_type": "code",
   "execution_count": null,
   "metadata": {},
   "outputs": [],
   "source": [
    "# Use this for own data_catalog file\n",
    "data_catalog_fn = Path('/home/jovyan/work/Data/data_catalog.yml')\n",
    "#data_catalog_fn = Path(\"/home/wotromp/InterTwin/Data/Humber/data_catalog.yml\")\n",
    "# data_catalog_fn = Path('c:/Users/tromp_wm/OneDrive - Stichting Deltares/Documents/InterTwin Project/Data/DTFlood_test_catalog.yml')\n",
    "\n",
    "# data_dict = {\n",
    "#     'topo': 'copdem30',\n",
    "#     'bathy': 'gebco',\n",
    "#     'waterlevels': 'gtsm_hourly',\n",
    "#     'meteo': 'era5_hourly',\n",
    "#     'infiltration': 'gcn250',\n",
    "#     'lulc': 'esa_worldcover',\n",
    "#     'basins': 'BasinAtlas',\n",
    "# }"
   ]
  },
  {
   "cell_type": "code",
   "execution_count": null,
   "metadata": {},
   "outputs": [],
   "source": [
    "wf_logger = setuplog(wf_logger_name,log_level=10)\n",
    "\n",
    "# data_catalog = hydromt.DataCatalog(data_libs=data_catalog_fn,logger=wf_logger)\n",
    "\n",
    "# wf = WflowModel(data_libs=[data_catalog_fn, 'deltares_data=v2023.2'], root=wf_root, mode='w+')\n",
    "wf = WflowModel(data_libs=[data_catalog_fn], root=wf_root, mode='w+')"
   ]
  },
  {
   "cell_type": "code",
   "execution_count": null,
   "metadata": {},
   "outputs": [],
   "source": [
    "ini_fn = model_path / \"wflow_build.ini\"\n",
    "opt = configread(ini_fn)\n",
    "\n",
    "region = gpd.read_file(region_fn)"
   ]
  },
  {
   "cell_type": "code",
   "execution_count": null,
   "metadata": {},
   "outputs": [],
   "source": [
    "opt"
   ]
  },
  {
   "cell_type": "code",
   "execution_count": null,
   "metadata": {},
   "outputs": [],
   "source": [
    "wf.build(region={'basin': region, 'outlets': True}, opt=opt)"
   ]
  },
  {
   "cell_type": "code",
   "execution_count": null,
   "metadata": {},
   "outputs": [],
   "source": [
    "gauges_fn = wf_root.parent/\"overland\"/\"gis\"/\"src.geojson\"\n",
    "wf.setup_gauges(\n",
    "    gauges_fn=gauges_fn,\n",
    "    index_col='index',\n",
    "    snap_to_river=True,\n",
    "    snap_uparea=True,\n",
    "    derive_subcatch=False,\n",
    ")"
   ]
  },
  {
   "cell_type": "code",
   "execution_count": null,
   "metadata": {},
   "outputs": [],
   "source": [
    "wf.geoms[\"gauges_src\"]"
   ]
  },
  {
   "cell_type": "code",
   "execution_count": null,
   "metadata": {},
   "outputs": [],
   "source": [
    "setting_toml = {\n",
    "    \"netcdf.path\": f\"output_scalar.nc\",\n",
    "    \"netcdf.variable\": [\n",
    "        {\n",
    "            \"name\": \"Q_src\",\n",
    "            \"map\": \"gauges_src\",\n",
    "            \"parameter\": \"lateral.river.q_av\",\n",
    "        }\n",
    "    ],\n",
    "}\n",
    "for option in setting_toml:\n",
    "    wf.set_config(option, setting_toml[option])\n",
    "wf.write_config()"
   ]
  },
  {
   "cell_type": "code",
   "execution_count": null,
   "metadata": {},
   "outputs": [],
   "source": [
    "wf.write()"
   ]
  },
  {
   "cell_type": "code",
   "execution_count": null,
   "metadata": {},
   "outputs": [],
   "source": [
    "wf_read = WflowModel(root=wf_root, mode=\"r\")\n",
    "wf_read.read()"
   ]
  },
  {
   "cell_type": "code",
   "execution_count": null,
   "metadata": {},
   "outputs": [],
   "source": [
    "plot_wflow_model(wf_read)"
   ]
  },
  {
   "cell_type": "code",
   "execution_count": null,
   "metadata": {},
   "outputs": [],
   "source": []
  }
 ],
 "metadata": {
  "kernelspec": {
   "display_name": "Python 3 (ipykernel)",
   "language": "python",
   "name": "python3"
  },
  "language_info": {
   "codemirror_mode": {
    "name": "ipython",
    "version": 3
   },
   "file_extension": ".py",
   "mimetype": "text/x-python",
   "name": "python",
   "nbconvert_exporter": "python",
   "pygments_lexer": "ipython3",
   "version": "3.11.9"
  }
 },
 "nbformat": 4,
 "nbformat_minor": 4
}
