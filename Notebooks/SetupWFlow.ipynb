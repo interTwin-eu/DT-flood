{
 "cells": [
  {
   "cell_type": "markdown",
   "metadata": {},
   "source": [
    "# Build a WFlow model anywhere\n",
    "\n",
    "In this notebook we will setup a WFlow model coupled to the FloodAdapt backend\n",
    "\n",
    "## **Step 0:** Import dependencies"
   ]
  },
  {
   "cell_type": "code",
   "execution_count": 22,
   "metadata": {},
   "outputs": [],
   "source": [
    "from pathlib import Path\n",
    "import hydromt\n",
    "import geopandas as gpd\n",
    "from hydromt.log import setuplog\n",
    "from hydromt.config import configread\n",
    "from hydromt_wflow import WflowModel\n",
    "\n",
    "from DT_flood.utils.plot_utils import plot_wflow_model"
   ]
  },
  {
   "cell_type": "code",
   "execution_count": 23,
   "metadata": {},
   "outputs": [],
   "source": [
    "model_name = 'Humber'\n",
    "model_path = Path(\"/home/wotromp/InterTwin/FloodAdapt_database\") / model_name\n",
    "# model_path = Path('c:/Repositories/DT-flood/FloodAdapt_database') / model_name\n",
    "# model_path = Path(\"../FloodAdapt_database\") / model_name\n",
    "\n",
    "wf_root = model_path / Path('static/templates/wflow')\n",
    "\n",
    "wf_logger_name = 'WFlow_Logger'\n",
    "\n",
    "region_fn = model_path / 'HumberDelta_large.geojson'"
   ]
  },
  {
   "cell_type": "code",
   "execution_count": 24,
   "metadata": {},
   "outputs": [],
   "source": [
    "# Use this for own data_catalog file\n",
    "data_catalog_fn = Path(\"/home/wotromp/InterTwin/Data/Humber/data_catalog.yml\")\n",
    "# data_catalog_fn = Path('c:/Users/tromp_wm/OneDrive - Stichting Deltares/Documents/InterTwin Project/Data/DTFlood_test_catalog.yml')\n",
    "\n",
    "# data_dict = {\n",
    "#     'topo': 'copdem30',\n",
    "#     'bathy': 'gebco',\n",
    "#     'waterlevels': 'gtsm_hourly',\n",
    "#     'meteo': 'era5_hourly',\n",
    "#     'infiltration': 'gcn250',\n",
    "#     'lulc': 'esa_worldcover',\n",
    "#     'basins': 'BasinAtlas',\n",
    "# }"
   ]
  },
  {
   "cell_type": "code",
   "execution_count": 25,
   "metadata": {},
   "outputs": [
    {
     "name": "stdout",
     "output_type": "stream",
     "text": [
      "2024-05-24 13:25:49,553 - WFlow_Logger - log - INFO - HydroMT version: 0.9.4\n"
     ]
    }
   ],
   "source": [
    "wf_logger = setuplog(wf_logger_name,log_level=10)\n",
    "\n",
    "# data_catalog = hydromt.DataCatalog(data_libs=data_catalog_fn,logger=wf_logger)\n",
    "\n",
    "# wf = WflowModel(data_libs=[data_catalog_fn, 'deltares_data=v2023.2'], root=wf_root, mode='w+')\n",
    "wf = WflowModel(data_libs=[data_catalog_fn], root=wf_root, mode='w+')"
   ]
  },
  {
   "cell_type": "code",
   "execution_count": 26,
   "metadata": {},
   "outputs": [],
   "source": [
    "ini_fn = model_path / \"wflow_build.ini\"\n",
    "opt = configread(ini_fn)\n",
    "\n",
    "region = gpd.read_file(region_fn)"
   ]
  },
  {
   "cell_type": "code",
   "execution_count": 27,
   "metadata": {},
   "outputs": [
    {
     "data": {
      "text/plain": [
       "{'setup_config': {'starttime': '2010-01-01T00:00:00',\n",
       "  'endtime': '2010-03-31T00:00:00',\n",
       "  'timestepsecs': 86400,\n",
       "  'input.path_forcing': 'inmaps-era5-2010.nc'},\n",
       " 'setup_basemaps': {'hydrography_fn': 'merit_hydro',\n",
       "  'basin_index_fn': 'merit_hydro_index',\n",
       "  'upscale_method': 'ihu',\n",
       "  'res': 0.00833},\n",
       " 'setup_rivers': {'hydrography_fn': 'merit_hydro',\n",
       "  'river_geom_fn': 'rivers_lin2019_v1',\n",
       "  'river_upa': 10,\n",
       "  'rivdph_method': 'powlaw',\n",
       "  'min_rivdph': 1,\n",
       "  'min_rivwth': 30,\n",
       "  'slope_len': 2000,\n",
       "  'smooth_len': 5000},\n",
       " 'setup_reservoirs': {'reservoirs_fn': 'hydro_reservoirs',\n",
       "  'timeseries_fn': 'gww',\n",
       "  'min_area': 1.0},\n",
       " 'setup_lakes': {'lakes_fn': 'hydro_lakes', 'min_area': 10.0},\n",
       " 'setup_lulcmaps': {'lulc_fn': 'globcover'},\n",
       " 'setup_laimaps': {'lai_fn': 'modis_lai'},\n",
       " 'setup_soilmaps': {'soil_fn': 'soilgrids', 'ptf_ksatver': 'brakensiek'},\n",
       " 'setup_outlets': {'river_only': True},\n",
       " 'setup_constant_pars': {'KsatHorFrac': 100,\n",
       "  'Cfmax': 3.75653,\n",
       "  'cf_soil': 0.038,\n",
       "  'EoverR': 0.11,\n",
       "  'InfiltCapPath': 5,\n",
       "  'InfiltCapSoil': 600,\n",
       "  'MaxLeakage': 0,\n",
       "  'rootdistpar': -500,\n",
       "  'TT': 0,\n",
       "  'TTI': 2,\n",
       "  'TTM': 0,\n",
       "  'WHC': 0.1,\n",
       "  'G_Cfmax': 5.3,\n",
       "  'G_SIfrac': 0.002,\n",
       "  'G_TT': 1.3}}"
      ]
     },
     "execution_count": 27,
     "metadata": {},
     "output_type": "execute_result"
    }
   ],
   "source": [
    "opt"
   ]
  },
  {
   "cell_type": "code",
   "execution_count": 28,
   "metadata": {},
   "outputs": [
    {
     "name": "stderr",
     "output_type": "stream",
     "text": [
      "No numerical nodata value found, skipping set_nodata\n",
      "No numerical nodata value found, skipping set_nodata\n",
      "No numerical nodata value found, skipping set_nodata\n",
      "No numerical nodata value found, skipping set_nodata\n",
      "No numerical nodata value found, skipping set_nodata\n",
      "No numerical nodata value found, skipping set_nodata\n",
      "No numerical nodata value found, skipping set_nodata\n",
      "No numerical nodata value found, skipping set_nodata\n",
      "No numerical nodata value found, skipping set_nodata\n"
     ]
    }
   ],
   "source": [
    "wf.build(region={'basin': region, 'outlets': True}, opt=opt)"
   ]
  },
  {
   "cell_type": "code",
   "execution_count": 29,
   "metadata": {},
   "outputs": [],
   "source": [
    "gauges_fn = wf_root.parent/\"overland\"/\"gis\"/\"src.geojson\"\n",
    "wf.setup_gauges(\n",
    "    gauges_fn=gauges_fn,\n",
    "    index_col='index',\n",
    "    snap_to_river=True,\n",
    "    snap_uparea=True,\n",
    "    derive_subcatch=False,\n",
    ")"
   ]
  },
  {
   "cell_type": "code",
   "execution_count": 30,
   "metadata": {},
   "outputs": [
    {
     "data": {
      "text/html": [
       "<div>\n",
       "<style scoped>\n",
       "    .dataframe tbody tr th:only-of-type {\n",
       "        vertical-align: middle;\n",
       "    }\n",
       "\n",
       "    .dataframe tbody tr th {\n",
       "        vertical-align: top;\n",
       "    }\n",
       "\n",
       "    .dataframe thead th {\n",
       "        text-align: right;\n",
       "    }\n",
       "</style>\n",
       "<table border=\"1\" class=\"dataframe\">\n",
       "  <thead>\n",
       "    <tr style=\"text-align: right;\">\n",
       "      <th></th>\n",
       "      <th>geometry</th>\n",
       "      <th>uparea</th>\n",
       "    </tr>\n",
       "    <tr>\n",
       "      <th>index</th>\n",
       "      <th></th>\n",
       "      <th></th>\n",
       "    </tr>\n",
       "  </thead>\n",
       "  <tbody>\n",
       "    <tr>\n",
       "      <th>1</th>\n",
       "      <td>POINT (-0.78667 53.41583)</td>\n",
       "      <td>9470.755859</td>\n",
       "    </tr>\n",
       "    <tr>\n",
       "      <th>2</th>\n",
       "      <td>POINT (-1.12000 53.84917)</td>\n",
       "      <td>3598.632812</td>\n",
       "    </tr>\n",
       "    <tr>\n",
       "      <th>3</th>\n",
       "      <td>POINT (-1.36167 53.74083)</td>\n",
       "      <td>1850.429321</td>\n",
       "    </tr>\n",
       "    <tr>\n",
       "      <th>4</th>\n",
       "      <td>POINT (-0.94500 53.89083)</td>\n",
       "      <td>1547.833862</td>\n",
       "    </tr>\n",
       "    <tr>\n",
       "      <th>5</th>\n",
       "      <td>POINT (-1.12000 53.54083)</td>\n",
       "      <td>1252.166992</td>\n",
       "    </tr>\n",
       "    <tr>\n",
       "      <th>6</th>\n",
       "      <td>POINT (-1.14500 53.84083)</td>\n",
       "      <td>989.947021</td>\n",
       "    </tr>\n",
       "    <tr>\n",
       "      <th>7</th>\n",
       "      <td>POINT (-1.37000 53.73250)</td>\n",
       "      <td>956.146118</td>\n",
       "    </tr>\n",
       "    <tr>\n",
       "      <th>8</th>\n",
       "      <td>POINT (-1.37000 53.74083)</td>\n",
       "      <td>893.932739</td>\n",
       "    </tr>\n",
       "    <tr>\n",
       "      <th>9</th>\n",
       "      <td>POINT (-1.00333 53.40750)</td>\n",
       "      <td>561.345154</td>\n",
       "    </tr>\n",
       "    <tr>\n",
       "      <th>10</th>\n",
       "      <td>POINT (-0.37833 53.91583)</td>\n",
       "      <td>549.303589</td>\n",
       "    </tr>\n",
       "    <tr>\n",
       "      <th>11</th>\n",
       "      <td>POINT (-0.99500 53.40750)</td>\n",
       "      <td>533.542114</td>\n",
       "    </tr>\n",
       "    <tr>\n",
       "      <th>12</th>\n",
       "      <td>POINT (-1.02000 53.41583)</td>\n",
       "      <td>243.440506</td>\n",
       "    </tr>\n",
       "    <tr>\n",
       "      <th>13</th>\n",
       "      <td>POINT (-0.92000 53.89083)</td>\n",
       "      <td>150.482361</td>\n",
       "    </tr>\n",
       "    <tr>\n",
       "      <th>14</th>\n",
       "      <td>POINT (-1.12000 53.57417)</td>\n",
       "      <td>122.519356</td>\n",
       "    </tr>\n",
       "    <tr>\n",
       "      <th>15</th>\n",
       "      <td>POINT (-0.42833 53.90750)</td>\n",
       "      <td>70.854950</td>\n",
       "    </tr>\n",
       "    <tr>\n",
       "      <th>16</th>\n",
       "      <td>POINT (-0.75333 53.89083)</td>\n",
       "      <td>45.094940</td>\n",
       "    </tr>\n",
       "    <tr>\n",
       "      <th>17</th>\n",
       "      <td>POINT (-1.02000 53.88250)</td>\n",
       "      <td>42.606216</td>\n",
       "    </tr>\n",
       "    <tr>\n",
       "      <th>18</th>\n",
       "      <td>POINT (-1.22833 53.80750)</td>\n",
       "      <td>42.445541</td>\n",
       "    </tr>\n",
       "    <tr>\n",
       "      <th>19</th>\n",
       "      <td>POINT (-1.01167 53.40750)</td>\n",
       "      <td>27.122284</td>\n",
       "    </tr>\n",
       "    <tr>\n",
       "      <th>20</th>\n",
       "      <td>POINT (-0.47000 53.87417)</td>\n",
       "      <td>14.559945</td>\n",
       "    </tr>\n",
       "  </tbody>\n",
       "</table>\n",
       "</div>"
      ],
      "text/plain": [
       "                        geometry       uparea\n",
       "index                                        \n",
       "1      POINT (-0.78667 53.41583)  9470.755859\n",
       "2      POINT (-1.12000 53.84917)  3598.632812\n",
       "3      POINT (-1.36167 53.74083)  1850.429321\n",
       "4      POINT (-0.94500 53.89083)  1547.833862\n",
       "5      POINT (-1.12000 53.54083)  1252.166992\n",
       "6      POINT (-1.14500 53.84083)   989.947021\n",
       "7      POINT (-1.37000 53.73250)   956.146118\n",
       "8      POINT (-1.37000 53.74083)   893.932739\n",
       "9      POINT (-1.00333 53.40750)   561.345154\n",
       "10     POINT (-0.37833 53.91583)   549.303589\n",
       "11     POINT (-0.99500 53.40750)   533.542114\n",
       "12     POINT (-1.02000 53.41583)   243.440506\n",
       "13     POINT (-0.92000 53.89083)   150.482361\n",
       "14     POINT (-1.12000 53.57417)   122.519356\n",
       "15     POINT (-0.42833 53.90750)    70.854950\n",
       "16     POINT (-0.75333 53.89083)    45.094940\n",
       "17     POINT (-1.02000 53.88250)    42.606216\n",
       "18     POINT (-1.22833 53.80750)    42.445541\n",
       "19     POINT (-1.01167 53.40750)    27.122284\n",
       "20     POINT (-0.47000 53.87417)    14.559945"
      ]
     },
     "execution_count": 30,
     "metadata": {},
     "output_type": "execute_result"
    }
   ],
   "source": [
    "wf.geoms[\"gauges_src\"]"
   ]
  },
  {
   "cell_type": "code",
   "execution_count": 31,
   "metadata": {},
   "outputs": [],
   "source": [
    "setting_toml = {\n",
    "    \"netcdf.path\": f\"output_scalar.nc\",\n",
    "    \"netcdf.variable\": [\n",
    "        {\n",
    "            \"name\": \"Q_src\",\n",
    "            \"map\": \"gauges_src\",\n",
    "            \"parameter\": \"lateral.river.q_av\",\n",
    "        }\n",
    "    ],\n",
    "}\n",
    "for option in setting_toml:\n",
    "    wf.set_config(option, setting_toml[option])\n",
    "wf.write_config()"
   ]
  },
  {
   "cell_type": "code",
   "execution_count": null,
   "metadata": {},
   "outputs": [],
   "source": [
    "plot_wflow_model(wf)"
   ]
  },
  {
   "cell_type": "code",
   "execution_count": 32,
   "metadata": {},
   "outputs": [
    {
     "ename": "",
     "evalue": "",
     "output_type": "error",
     "traceback": [
      "\u001b[1;31mThe Kernel crashed while executing code in the current cell or a previous cell. \n",
      "\u001b[1;31mPlease review the code in the cell(s) to identify a possible cause of the failure. \n",
      "\u001b[1;31mClick <a href='https://aka.ms/vscodeJupyterKernelCrash'>here</a> for more info. \n",
      "\u001b[1;31mView Jupyter <a href='command:jupyter.viewOutput'>log</a> for further details."
     ]
    }
   ],
   "source": [
    "wf.write()"
   ]
  },
  {
   "cell_type": "code",
   "execution_count": null,
   "metadata": {},
   "outputs": [],
   "source": []
  }
 ],
 "metadata": {
  "kernelspec": {
   "display_name": "Python 3",
   "language": "python",
   "name": "python3"
  },
  "language_info": {
   "codemirror_mode": {
    "name": "ipython",
    "version": 3
   },
   "file_extension": ".py",
   "mimetype": "text/x-python",
   "name": "python",
   "nbconvert_exporter": "python",
   "pygments_lexer": "ipython3",
   "version": "3.11.9"
  }
 },
 "nbformat": 4,
 "nbformat_minor": 2
}
