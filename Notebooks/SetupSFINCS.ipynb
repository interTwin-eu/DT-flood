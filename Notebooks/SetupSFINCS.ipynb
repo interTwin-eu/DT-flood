{
 "cells": [
  {
   "cell_type": "markdown",
   "metadata": {},
   "source": [
    "# Build a SFINCS model for FloodAdapt anywhere on the globe\n",
    "\n",
    "In this notebook we demonstrate how to setup a SFINCS model for the FloodAdapt backend at any given location. As an example we will use the Humber delta in the UK.\n",
    "\n",
    "## **Step 0:** Import dependencies"
   ]
  },
  {
   "cell_type": "code",
   "execution_count": null,
   "metadata": {},
   "outputs": [],
   "source": [
    "import geopandas as gpd\n",
    "import matplotlib.pyplot as plt\n",
    "\n",
    "import hydromt\n",
    "from hydromt_sfincs import SfincsModel\n",
    "from hydromt.log import setuplog\n",
    "from pathlib import Path\n",
    "\n",
    "import cartopy.crs as ccrs\n",
    "import cartopy.io.img_tiles as cimgt\n",
    "\n",
    "proj = ccrs.PlateCarree() # plot projection"
   ]
  },
  {
   "cell_type": "markdown",
   "metadata": {},
   "source": [
    "## **Step 1a:** Configuration - List inputs\n",
    "\n",
    "Here we list some basic inputs, e.g. relevant names, input path, datasets.\n",
    "- `model_name`: This is the name for the overall FloodAdapt folder where everything will be stored. Named after region of interest (in this case)\n",
    "- `model_path`: The full path of the FloodAdapt model folder\n",
    "- `sf_root`: Path to folder parsed by FloodAdapt where SFINCS model is stored. \n",
    "- `sf_logger_name`: Name for the SFINCS logger\n",
    "- `region_fn`: Path to geojson file of the region of interest. Used when building SFINCS domain\n",
    "- `tref`: SFCINS reference time\n",
    "- `tstart`: SFINCS start time\n",
    "- `tstop`: SFINCS stop time\n",
    "\n",
    "The SFINCS start and stop time can later be overwritten through scenarios. The values given here serve as a default."
   ]
  },
  {
   "cell_type": "code",
   "execution_count": null,
   "metadata": {},
   "outputs": [],
   "source": [
    "model_name = 'Humber'\n",
    "model_path = Path('/home/wotromp/InterTwin/workflow_refactor/models') / model_name\n",
    "\n",
    "sf_root = model_path / \"overland\"\n",
    "\n",
    "sf_logger_name = 'SFINCS_Logger'\n",
    "region_fn = Path('/home/wotromp/InterTwin/Data') / 'HumberDelta_large.geojson'"
   ]
  },
  {
   "cell_type": "markdown",
   "metadata": {},
   "source": [
    "We use `data_dict` as a central object for input data. The dict values are currently the dataset names used in the deltares_data data_catalog. When changing datacatalog, make sure to also change the names here. Using file paths as dict values should also work.\n",
    "\n",
    "In this particular example we use only global data or models as input. For better results use local data from the region of interest whenever available\n",
    "\n",
    "The `meteo` key is used when precipitation, airpressure, and wind velocities are bundled in one data set (e.g. in the case of ERA5). When using separate dataset for these three, use the `precip`, `pressure`, and `winds` keys respectively"
   ]
  },
  {
   "cell_type": "code",
   "execution_count": null,
   "metadata": {},
   "outputs": [],
   "source": [
    "# Use this for own data_catalog file\n",
    "data_catalog_fn = Path('/home/wotromp/InterTwin/Data/Humber/data_catalog.yml')\n",
    "\n",
    "data_dict = {\n",
    "    'topo': 'fabdem',\n",
    "    'bathy': 'gebco',\n",
    "    'infiltration': 'gcn250',\n",
    "    'lulc': 'globcover',\n",
    "    'basins': 'basin_atlas_level12_v10',\n",
    "    \"hydrography\": \"merit_hydro\"\n",
    "}"
   ]
  },
  {
   "cell_type": "markdown",
   "metadata": {},
   "source": [
    "## **Step 1b:** Configuration - Initialize tools\n",
    "\n",
    "Here we initialize some useful tools:\n",
    "- `sf_logger`: logger object keeping track of changes to SFINCS model\n",
    "- `data_catalog`: The data_catalog containing the data we want to use. Here the deltares_data catalog\n",
    "- `sf`: SFINCS model instance"
   ]
  },
  {
   "cell_type": "code",
   "execution_count": null,
   "metadata": {},
   "outputs": [],
   "source": [
    "sf_logger = setuplog(sf_logger_name,log_level=10)\n",
    "\n",
    "data_catalog = hydromt.DataCatalog(data_libs=data_catalog_fn,logger=sf_logger)\n",
    "\n",
    "sf = SfincsModel(data_libs=[data_catalog_fn], root=sf_root, mode='w+')"
   ]
  },
  {
   "cell_type": "markdown",
   "metadata": {},
   "source": [
    "## **Step 2a:** Model building - Domain\n",
    "\n",
    "Here we configure the model domain based on the geojson file given in `region_fn`.\n",
    "\n",
    "In general we don't assume the provided geojson geometry to conform nicely to any geographical/hydrographical features, something that is desirable for the final model domain. We fix this by looking up all the river basins that lie (partially) in the provided geometry. The Hydrosheds Basin Atlas is a good global source for watersheds.\n",
    "\n",
    "![Alt text](image.png)"
   ]
  },
  {
   "cell_type": "code",
   "execution_count": null,
   "metadata": {},
   "outputs": [],
   "source": [
    "region = gpd.read_file(region_fn)\n",
    "\n",
    "ds_basins = data_catalog.get_geodataframe(\n",
    "    data_dict['basins'],\n",
    "    geom=region\n",
    ")"
   ]
  },
  {
   "cell_type": "code",
   "execution_count": null,
   "metadata": {},
   "outputs": [],
   "source": [
    "# Plot the initially specified region (black) and the SFINCS domain (blue)\n",
    "\n",
    "fig = plt.figure(figsize=(10,8))\n",
    "ax= plt.subplot(projection=proj)\n",
    "ax.add_image(cimgt.QuadtreeTiles(),9)\n",
    "ds_basins['geometry'].boundary.plot(ax=ax)\n",
    "ax.set_extent(ds_basins['geometry'].total_bounds[[0,2,1,3]], crs=proj)\n",
    "region.boundary.plot(ax=ax,color='w')"
   ]
  },
  {
   "cell_type": "markdown",
   "metadata": {},
   "source": [
    "## **Step 2b:** Model building - The Grid\n",
    "\n",
    "Next we build the model grid in our domain. This will start as the bounding box of the domain, but we will refine this later by specifying active cells. Any input we provide will automatically be converted to the `crs` we specify here. The resolution `res` is in units of the `crs`."
   ]
  },
  {
   "cell_type": "code",
   "execution_count": null,
   "metadata": {},
   "outputs": [],
   "source": [
    "sf.setup_grid_from_region(\n",
    "    region = {'bbox': ds_basins['geometry'].total_bounds},\n",
    "    res = 200,\n",
    "    rotated=False,\n",
    "    crs='utm'\n",
    ")"
   ]
  },
  {
   "cell_type": "code",
   "execution_count": null,
   "metadata": {},
   "outputs": [],
   "source": [
    "# Plot model region\n",
    "_ = sf.plot_basemap(plot_region=True,bmap='sat',zoomlevel=10)"
   ]
  },
  {
   "cell_type": "markdown",
   "metadata": {},
   "source": [
    "## Elevation data\n",
    "\n",
    "Refining the grid is generally done based on elevation data, so first we need to load those in. By using the `elevtn` key in the dictionary we tell the *setup_dep()* function to look for that variable in the specified dataset. It is possible to provide multiple datasets for the elevation data as we do below. The second data set will fill in the gaps of the first one, or we can manually tell it to switch at a given elevation, done here by providing a `zmin` for the first data set.\n",
    "  \n",
    "Here we use global data sets, Copernicus DEM for topography (resolution 1arcsec ~ 30m) and GEBCO (resolution 450m) for bathymetry. When available for your region we highly recommend using more high resolution data (in this case particularly for bathymetry)"
   ]
  },
  {
   "cell_type": "code",
   "execution_count": null,
   "metadata": {},
   "outputs": [],
   "source": [
    "datasets_dep = [{'elevtn': data_dict['topo'], 'zmin': 0.001}, {'elevtn': data_dict['bathy']}]\n",
    "_ = sf.setup_dep(datasets_dep=datasets_dep)"
   ]
  },
  {
   "cell_type": "code",
   "execution_count": null,
   "metadata": {},
   "outputs": [],
   "source": [
    "_ = sf.plot_basemap(variable='dep',bmap='sat',zoomlevel=10, plot_region=True)"
   ]
  },
  {
   "cell_type": "markdown",
   "metadata": {},
   "source": [
    "## Active cells\n",
    "\n",
    "Next we refine the grid by specifying which cells are active by calling the function *setup_mask_active()*. Active cells can be defined through a minimum and maximum height they should have (with `zmin` and `zmax`) or by providing a mask. The argument `reset_mask` specifies whether to override the existing mask, of which we have to be mindful in this case as we define our active cells with multiple calls.\n",
    "\n",
    "In our example the mask of active cells consists of two parts: one on open water (defined by a `zmin` of -25m and `zmax` of 0m) and one on land defined by the domain we created earlier (using `include_mask`). Finally we plug any gaps that might exist between the two with a final call providing only the `fill_area` argument. This will turn any isolated patches of inactive cells smaller than some specified area (10km<sup>2</sup> in this case) active. This is usually done automatically for patches smaller than a default value, but due to the particular ordering inside the *setup_mask_active* function we need fill the gaps with an additional call.\n",
    "\n",
    "\n",
    "*Note: The value of -25m for `zmin` is much lower than what is typically used (-2 or -5m). The reason is that we want to include the full Humber estuary which is much deeper than -5m*"
   ]
  },
  {
   "cell_type": "code",
   "execution_count": null,
   "metadata": {},
   "outputs": [],
   "source": [
    "mask_active = gpd.GeoDataFrame(geometry=ds_basins['geometry'])\n",
    "\n",
    "sf.setup_mask_active(zmax=0, zmin=-30, include_mask=mask_active, reset_mask=True)\n",
    "sf.setup_mask_active(fill_area=10, reset_mask=False)\n",
    "\n",
    "_ = sf.plot_basemap(variable='msk', bmap='sat', zoomlevel=10)"
   ]
  },
  {
   "cell_type": "markdown",
   "metadata": {},
   "source": [
    "## Waterlevel bound\n",
    "\n",
    "The boundaries function by default as hard walls, allowing no flow in or out. We want to use the boundaries on open water to force the water levels there. We can change what type of cell they are by calling *setup_mask_bounds* and providing the argument `btype` with the desired cell type. Setting `btype` to *waterlevel* will specify waterlevel boundaries, where we provide the additional condition that those cells have to be below -1m with `zmax`.\n",
    "\n",
    "If you suspect any significant flow to outside the model to occur at some boundaries, you can set those boundaries as outflow boundaries by setting `btype` to *outflow* and providing the geometry of the desired bounds. This is usually only done as a refinement step after the model has run once."
   ]
  },
  {
   "cell_type": "code",
   "execution_count": null,
   "metadata": {},
   "outputs": [],
   "source": [
    "excl_bounds = gpd.GeoDataFrame(geometry=mask_active.to_crs(sf.crs).buffer(1000))\n",
    "sf.setup_mask_bounds(btype='waterlevel', zmax=-5, reset_bounds=True, exclude_mask=excl_bounds)\n",
    "\n",
    "_ = sf.plot_basemap(variable='msk', bmap='sat', zoomlevel=10)"
   ]
  },
  {
   "cell_type": "markdown",
   "metadata": {},
   "source": [
    "## River Inflow Points\n",
    "\n",
    "Here we define the points where rivers flow into the model domain. For these points river discharge time series can be specified that function as additional forcing for the model. These time series can either be manually created, taken from a larger datasets, or come from a hydrological model such as WFlow. In this particular case we will opt for the latter."
   ]
  },
  {
   "cell_type": "code",
   "execution_count": null,
   "metadata": {},
   "outputs": [],
   "source": [
    "sf.setup_river_inflow(\n",
    "    hydrography=data_dict[\"hydrography\"],\n",
    "    river_len=1000,\n",
    "    river_upa=10,\n",
    "    keep_rivers_geom=True\n",
    ")"
   ]
  },
  {
   "cell_type": "code",
   "execution_count": null,
   "metadata": {},
   "outputs": [],
   "source": [
    "_ = sf.plot_basemap(variable='dep', bmap='sat', zoomlevel=10)"
   ]
  },
  {
   "cell_type": "markdown",
   "metadata": {},
   "source": [
    "## Land roughness and infiltration\n",
    "\n",
    "For the flow of water on land we need to know how much water gets absorped into the soil and how ruogh the surface is.\n",
    "\n",
    "For the soil infiltration we use global curve numbers indicating hwo much water will run off or be absorped based on soil types and antecedent moisture levels.\n",
    "\n",
    "For the surface roughness we specify land uses, which are automatically converted into manning roughness values. Any gaps in the dataset will be plugged with default values."
   ]
  },
  {
   "cell_type": "code",
   "execution_count": null,
   "metadata": {},
   "outputs": [],
   "source": [
    "# Setup soil infiltration\n",
    "sf.setup_cn_infiltration(data_dict['infiltration'], antecedent_moisture='avg')\n",
    "\n",
    "# Setup surface roughness\n",
    "datasets_rgh = [{'lulc': data_dict['lulc']}]"
   ]
  },
  {
   "cell_type": "markdown",
   "metadata": {},
   "source": [
    "## **Step 2d:** Model Building - The Subgrid\n",
    "\n",
    "So far our model uses the grid we specified with the resolution we specified, in this case 200m. This means we are not making optimal use of our DEM as a grid cell is much larger than the DEM resolution. Increasing the grid resolution however is not a good idea as the computing time scales with the 3rd power of the grid size.\n",
    "\n",
    "Instead we make use of a so-called subgrid. The idea is that for a given water level in a grid cell we calculate a more realistic water volume in the cell using the high-res DEM. The water flow is only calculated between regular grid cells but using these new water volumes. Computationally this is much more efficient.\n",
    "\n",
    "To setup the subgrid we need to provide the relevant topographical data. These are the high-res DEM, the roughness data (not strictly needed, a default will be used when no argument is provided), and river data (although we don't use this in our example). Finally we need to specify the number of subgrid cells in each grid cell (lateral size, total nr of subgrid pixels per cell is `nr_subgrid_pixels`<sup>2</sup>). This we want to match our DEM resolution as close as possible. In our example the grid resolution is 200m while the DEM resolution is 1arcsec ~ 30m, so we will use `nr_subgrid_pixels` = 6, as 200m/6 is slightly more than 30m.\n",
    "\n",
    "Finally we write the elevation subgrid data, which is later used by FloodAdapt.\n",
    "\n",
    "Creating the subgrid may take a few minutes"
   ]
  },
  {
   "cell_type": "code",
   "execution_count": null,
   "metadata": {},
   "outputs": [],
   "source": [
    "sf.setup_subgrid(\n",
    "    datasets_dep=datasets_dep,  # The elevation data\n",
    "    datasets_rgh=datasets_rgh,  # The roughness data\n",
    "    nr_subgrid_pixels=6,\n",
    "    write_dep_tif=True,         # Whether to write the subgrid elevation data\n",
    "    write_man_tif=False         # Whether to write the subgrid roughness data\n",
    ")"
   ]
  },
  {
   "cell_type": "code",
   "execution_count": null,
   "metadata": {},
   "outputs": [],
   "source": [
    "_ = sf.plot_basemap(variable='subgrid.z_zmin',bmap='sat',zoomlevel=10)"
   ]
  },
  {
   "cell_type": "markdown",
   "metadata": {},
   "source": [
    "# Obs stations"
   ]
  },
  {
   "cell_type": "code",
   "execution_count": null,
   "metadata": {},
   "outputs": [],
   "source": [
    "obs_points_fn = \"/home/wotromp/InterTwin/Data/HumberDelta_ObsPoints.geojson\"\n",
    "\n",
    "sf.setup_observation_points(locations=obs_points_fn)"
   ]
  },
  {
   "cell_type": "code",
   "execution_count": null,
   "metadata": {},
   "outputs": [],
   "source": [
    "_ = sf.plot_basemap(variable='dep',bmap='sat', zoomlevel=10)"
   ]
  },
  {
   "cell_type": "markdown",
   "metadata": {},
   "source": [
    "## Write model to appropriate folders\n",
    "\n",
    "Save all the model files to `sf_root`. This particular folder structure is parsed later by FloodAdapt"
   ]
  },
  {
   "cell_type": "code",
   "execution_count": null,
   "metadata": {},
   "outputs": [],
   "source": [
    "sf.write()"
   ]
  },
  {
   "cell_type": "code",
   "execution_count": null,
   "metadata": {},
   "outputs": [],
   "source": [
    "def tree(directory):\n",
    "    print(f\"+ {directory}\")\n",
    "    for path in sorted(directory.rglob('*')):\n",
    "        depth = len(path.relative_to(directory).parts)\n",
    "        spacer = \"  \" * depth\n",
    "        print(f\"{spacer}+ {path.name}\")\n",
    "\n",
    "\n",
    "tree(Path(sf.root))"
   ]
  },
  {
   "cell_type": "code",
   "execution_count": null,
   "metadata": {},
   "outputs": [],
   "source": [
    "sf_new = SfincsModel(root=sf_root, mode='r')\n",
    "sf_new.read()"
   ]
  },
  {
   "cell_type": "code",
   "execution_count": null,
   "metadata": {},
   "outputs": [],
   "source": []
  }
 ],
 "metadata": {
  "kernelspec": {
   "display_name": "DT-flood",
   "language": "python",
   "name": "python3"
  },
  "language_info": {
   "codemirror_mode": {
    "name": "ipython",
    "version": 3
   },
   "file_extension": ".py",
   "mimetype": "text/x-python",
   "name": "python",
   "nbconvert_exporter": "python",
   "pygments_lexer": "ipython3",
   "version": "3.11.11"
  }
 },
 "nbformat": 4,
 "nbformat_minor": 4
}
