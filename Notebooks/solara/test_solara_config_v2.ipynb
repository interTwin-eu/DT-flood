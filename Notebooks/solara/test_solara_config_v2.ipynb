{
 "cells": [
  {
   "cell_type": "markdown",
   "metadata": {},
   "source": [
    "# config file into solara web app"
   ]
  },
  {
   "cell_type": "code",
   "execution_count": 1,
   "metadata": {},
   "outputs": [],
   "source": [
    "import solara\n",
    "from ipyleaflet import Map, DrawControl, basemaps\n",
    "from ipywidgets import Output, Dropdown, FloatSlider, Text\n",
    "import json\n",
    "\n"
   ]
  },
  {
   "cell_type": "code",
   "execution_count": 2,
   "metadata": {},
   "outputs": [
    {
     "data": {
      "application/vnd.jupyter.widget-view+json": {
       "model_id": "e2da5ea40f3448e2a5a64379ff0c01fb",
       "version_major": 2,
       "version_minor": 0
      },
      "text/html": [
       "Cannot show widget. You probably want to rerun the code cell above (<i>Click in the code cell, and press Shift+Enter <kbd>⇧</kbd>+<kbd>↩</kbd></i>)."
      ],
      "text/plain": [
       "Cannot show ipywidgets in text"
      ]
     },
     "metadata": {},
     "output_type": "display_data"
    }
   ],
   "source": [
    "# HERE: DROP-DOWN MENU; people won't have datasets on their local drive\n",
    "\n",
    "FA_databases = [\"Scheveningen\", \"Option B\", \"Option C\"] #################################\n",
    "FA_database = solara.reactive(\"Scheveningen\")\n",
    "\n",
    "\n",
    "@solara.component\n",
    "def Page():\n",
    "    solara.Select(label=\"FloodAdapt data base\", value=FA_database, values=FA_databases)\n",
    "    \n",
    "    solara.Markdown(f\"**Selected**: {FA_database.value}\")\n",
    "\n",
    "\n",
    "########################################################################################################################################################################################\n",
    "# The following line is required only when running the code in a Jupyter notebook:\n",
    "Page()"
   ]
  },
  {
   "cell_type": "code",
   "execution_count": 3,
   "metadata": {},
   "outputs": [
    {
     "ename": "NameError",
     "evalue": "name 'Path' is not defined",
     "output_type": "error",
     "traceback": [
      "\u001b[1;31m---------------------------------------------------------------------------\u001b[0m",
      "\u001b[1;31mNameError\u001b[0m                                 Traceback (most recent call last)",
      "Cell \u001b[1;32mIn[3], line 2\u001b[0m\n\u001b[0;32m      1\u001b[0m \u001b[38;5;28;01mif\u001b[39;00m FA_database\u001b[38;5;241m.\u001b[39mvalue \u001b[38;5;241m==\u001b[39m \u001b[38;5;124m\"\u001b[39m\u001b[38;5;124mScheveningen\u001b[39m\u001b[38;5;124m\"\u001b[39m:\n\u001b[1;32m----> 2\u001b[0m     fa_database \u001b[38;5;241m=\u001b[39m Path(\u001b[38;5;124mr\u001b[39m\u001b[38;5;124m\"\u001b[39m\u001b[38;5;124m/mnt/c/Users/santjer/OneDrive - Stichting Deltares/Documents/DestinE/Technical/01_FloodAdapt/scheveningen\u001b[39m\u001b[38;5;124m\"\u001b[39m)\n\u001b[0;32m      3\u001b[0m \u001b[38;5;28;01melif\u001b[39;00m FA_database\u001b[38;5;241m.\u001b[39mvalue \u001b[38;5;241m==\u001b[39m \u001b[38;5;124m\"\u001b[39m\u001b[38;5;124mOption B\u001b[39m\u001b[38;5;124m\"\u001b[39m:\n\u001b[0;32m      4\u001b[0m     fa_database \u001b[38;5;241m=\u001b[39m Path(\u001b[38;5;124mr\u001b[39m\u001b[38;5;124m\"\u001b[39m\u001b[38;5;124m/mnt/c/Users/santjer/OneDrive - Stichting Deltares/Documents/DestinE/Technical/01_FloodAdapt/OPTIONB/\u001b[39m\u001b[38;5;124m\"\u001b[39m) \u001b[38;5;66;03m#########################\u001b[39;00m\n",
      "\u001b[1;31mNameError\u001b[0m: name 'Path' is not defined"
     ]
    }
   ],
   "source": [
    "if FA_database.value == \"Scheveningen\":\n",
    "    fa_database = Path(r\"/mnt/c/Users/santjer/OneDrive - Stichting Deltares/Documents/DestinE/Technical/01_FloodAdapt/scheveningen\")\n",
    "elif FA_database.value == \"Option B\":\n",
    "    fa_database = Path(r\"/mnt/c/Users/santjer/OneDrive - Stichting Deltares/Documents/DestinE/Technical/01_FloodAdapt/OPTIONB/\") #########################\n",
    "else:\n",
    "    fa_database = Path(r\"/mnt/c/Users/santjer/OneDrive - Stichting Deltares/Documents/DestinE/Technical/01_FloodAdapt/OPTIONC/\") #########################\n",
    "\n",
    "\n",
    "# HERE: whatever the solutoin is; people won't have datasets on their local drive\n",
    "\n",
    "# Path to data folder. If (relative) file paths are used when specifying data sets, it will be looked for in this folder.\n",
    "# data_folder = Path(\"/home/wotromp/InterTwin/Data\")  \n",
    "\n",
    "\n",
    "# OPTIONAL: HydroMT data catalogue from which to fetch data. The order matters here, as datasets are looked for in a catalogue in order from first catalogue name in list to last.\n",
    "data_catalogues = [Path(r\"/mnt/c/Users/santjer/OneDrive - Stichting Deltares/Documents/DestinE/Technical/01_FloodAdapt/deltares_data_wsl.yml\")]"
   ]
  },
  {
   "cell_type": "markdown",
   "metadata": {},
   "source": [
    "# Page map and tabs"
   ]
  },
  {
   "cell_type": "code",
   "execution_count": 7,
   "metadata": {},
   "outputs": [
    {
     "data": {
      "application/vnd.jupyter.widget-view+json": {
       "model_id": "b9f13942f7694fb69e6417e91f60b620",
       "version_major": 2,
       "version_minor": 0
      },
      "text/html": [
       "Cannot show widget. You probably want to rerun the code cell above (<i>Click in the code cell, and press Shift+Enter <kbd>⇧</kbd>+<kbd>↩</kbd></i>)."
      ],
      "text/plain": [
       "Cannot show ipywidgets in text"
      ]
     },
     "metadata": {},
     "output_type": "display_data"
    }
   ],
   "source": [
    "\n",
    "\n",
    "# Reactive variables to store drawn polygons and their coordinates\n",
    "polygon_coordinates = solara.reactive([])\n",
    "drawn_polygons = solara.reactive([])\n",
    "selected_tab = solara.reactive('Tab 1')  # Track the selected tab\n",
    "\n",
    "# Function to handle drawing events\n",
    "def handle_draw(target, action, geo_json):\n",
    "    print(f\"Action: {action}, GeoJSON: {geo_json}\")  # Debugging: Check incoming data\n",
    "    if action == 'created' and 'geometry' in geo_json:\n",
    "        if geo_json['geometry']['type'] == 'Polygon':\n",
    "            coords = geo_json['geometry']['coordinates'][0]\n",
    "            polygon_coordinates.value = coords\n",
    "            drawn_polygons.value.append({'type': 'Polygon', 'coordinates': coords})\n",
    "            print(\"Polygon coordinates updated:\", polygon_coordinates.value)\n",
    "            print(\"All drawn polygons updated:\", drawn_polygons.value)\n",
    "\n",
    "# Initialize the map\n",
    "m = Map(center=(52.08654741528378, 4.295223531699989), zoom=10, scroll_wheel_zoom=True, basemap=basemaps.OpenStreetMap.Mapnik)\n",
    "\n",
    "# Add draw control to the map\n",
    "draw_control = DrawControl(\n",
    "    polyline={'shapeOptions': {'color': 'blue', 'weight': 4}},\n",
    "    polygon={'shapeOptions': {'color': 'red', 'weight': 4}},\n",
    "    rectangle={},\n",
    "    circle={},\n",
    "    marker={}\n",
    ")\n",
    "draw_control.on_draw(handle_draw)\n",
    "m.add_control(draw_control)\n",
    "\n",
    "# Create an Output widget to display the map\n",
    "map_output = Output()\n",
    "with map_output:\n",
    "    display(m)\n",
    "\n",
    "\n",
    "\n",
    "# Define UI components for tabs\n",
    "@solara.component\n",
    "def Tab1():\n",
    "    with solara.Card(\"Weather Event\"):\n",
    "        # solara.Text(\"Configure the weather Event:\")\n",
    "        # dropdown = Dropdown(options=['Option 1', 'Option 2', 'Option 3'], value='Option 1')\n",
    "        # solara.Card(dropdown)  # Directly include the widget in the Card\n",
    "\n",
    "        # solara.Text(\"Slider:\")\n",
    "        # slider = FloatSlider(value=50, min=0, max=100, step=1)\n",
    "        # solara.Card(slider)  # Directly include the widget in the Card\n",
    "\n",
    "        # solara.Text(\"Text Input:\")\n",
    "        # text_input = Text(value='Type here')\n",
    "        # solara.Card(text_input)  # Directly include the widget in the Card\n",
    "        event_name_input = solara.reactive(\"Event name\") \n",
    "        solara.Text(\"Configure the weather Event:\")\n",
    "        solara.InputText(\"Name of the event\", value=event_name_input)\n",
    "        solara.Markdown(f\"**Your name of the event**: {event_name_input.value}\")\n",
    "\n",
    "@solara.component\n",
    "def Tab2():\n",
    "    with solara.Card(\"Projections\"):\n",
    "        solara.Text(\"Another Dropdown Menu:\")\n",
    "        dropdown2 = Dropdown(options=['Option A', 'Option B', 'Option C'], value='Option A')\n",
    "        solara.Card(dropdown2)  # Directly include the widget in the Card\n",
    "\n",
    "        solara.Text(\"Another Slider:\")\n",
    "        slider2 = FloatSlider(value=25, min=0, max=50, step=0.5)\n",
    "        solara.Card(slider2)  # Directly include the widget in the Card\n",
    "\n",
    "        solara.Text(\"Another Text Input:\")\n",
    "        text_input2 = Text(value='Enter text')\n",
    "        solara.Card(text_input2)  # Directly include the widget in the Card\n",
    "\n",
    "@solara.component\n",
    "def Tab3():\n",
    "    with solara.Card(\"Measures\"):\n",
    "        solara.Text(\"Yet Another Dropdown Menu:\")\n",
    "        dropdown3 = Dropdown(options=['Choice X', 'Choice Y', 'Choice Z'], value='Choice X')\n",
    "        solara.Card(dropdown3)  # Directly include the widget in the Card\n",
    "\n",
    "        solara.Text(\"Yet Another Slider:\")\n",
    "        slider3 = FloatSlider(value=75, min=0, max=150, step=5)\n",
    "        solara.Card(slider3)  # Directly include the widget in the Card\n",
    "\n",
    "        solara.Text(\"Yet Another Text Input:\")\n",
    "        text_input3 = Text(value='Write here')\n",
    "        solara.Card(text_input3)  # Directly include the widget in the Card\n",
    "\n",
    "@solara.component\n",
    "def SettingsTabs():\n",
    "    with solara.Row():\n",
    "        solara.Button(\"Tab 1\", on_click=lambda: selected_tab.set('Tab 1'))\n",
    "        solara.Button(\"Tab 2\", on_click=lambda: selected_tab.set('Tab 2'))\n",
    "        solara.Button(\"Tab 3\", on_click=lambda: selected_tab.set('Tab 3'))\n",
    "\n",
    "    if selected_tab.value == 'Tab 1':\n",
    "        Tab1()\n",
    "    elif selected_tab.value == 'Tab 2':\n",
    "        Tab2()\n",
    "    elif selected_tab.value == 'Tab 3':\n",
    "        Tab3()\n",
    "\n",
    "@solara.component\n",
    "def App():\n",
    "    # Layout with columns\n",
    "    with solara.Columns():\n",
    "        with solara.Column(style={\"width\": \"70%\", \"min-width\": \"500px\"}):\n",
    "            solara.use_memo(lambda: display(m), [])\n",
    "        with solara.Column(style={\"width\": \"30%\", \"min-width\": \"200px\"}):\n",
    "            SettingsTabs()\n",
    "\n",
    "# Run the Solara app\n",
    "App()"
   ]
  },
  {
   "cell_type": "code",
   "execution_count": 31,
   "metadata": {},
   "outputs": [
    {
     "data": {
      "text/plain": [
       "[{'type': 'Polygon',\n",
       "  'coordinates': [[4.198425, 52.053166],\n",
       "   [4.24649, 52.010077],\n",
       "   [4.37146, 52.036273],\n",
       "   [4.326141, 52.051477],\n",
       "   [4.272583, 52.079337],\n",
       "   [4.198425, 52.053166]]}]"
      ]
     },
     "execution_count": 31,
     "metadata": {},
     "output_type": "execute_result"
    }
   ],
   "source": [
    "drawn_polygons.value\n"
   ]
  }
 ],
 "metadata": {
  "kernelspec": {
   "display_name": "DestinE",
   "language": "python",
   "name": "python3"
  },
  "language_info": {
   "codemirror_mode": {
    "name": "ipython",
    "version": 3
   },
   "file_extension": ".py",
   "mimetype": "text/x-python",
   "name": "python",
   "nbconvert_exporter": "python",
   "pygments_lexer": "ipython3",
   "version": "3.11.5"
  }
 },
 "nbformat": 4,
 "nbformat_minor": 2
}
