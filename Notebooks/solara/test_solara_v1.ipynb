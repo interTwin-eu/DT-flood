{
 "cells": [
  {
   "cell_type": "markdown",
   "id": "3f842604",
   "metadata": {},
   "source": [
    "# First script SOLARA try-out (Rieke)"
   ]
  },
  {
   "cell_type": "markdown",
   "id": "5d315cec",
   "metadata": {},
   "source": [
    "Text: first script from solara website under 'getting started': https://solara.dev/documentation/getting_started"
   ]
  },
  {
   "cell_type": "markdown",
   "id": "76a61c3e",
   "metadata": {},
   "source": [
    "## Example word count"
   ]
  },
  {
   "cell_type": "code",
   "execution_count": 1,
   "id": "82c24437",
   "metadata": {},
   "outputs": [
    {
     "data": {
      "application/vnd.jupyter.widget-view+json": {
       "model_id": "30ce6be226654f5aba6be7269338a603",
       "version_major": 2,
       "version_minor": 0
      },
      "text/html": [
       "Cannot show widget. You probably want to rerun the code cell above (<i>Click in the code cell, and press Shift+Enter <kbd>⇧</kbd>+<kbd>↩</kbd></i>)."
      ],
      "text/plain": [
       "Cannot show ipywidgets in text"
      ]
     },
     "metadata": {},
     "output_type": "display_data"
    }
   ],
   "source": [
    "import solara\n",
    "\n",
    "# Declare reactive variables at the top level. Components using these variables\n",
    "# will be re-executed when their values change.\n",
    "sentence = solara.reactive(\"Solara makes our team more productive.\")\n",
    "word_limit = solara.reactive(10)\n",
    "\n",
    "\n",
    "@solara.component\n",
    "def Page():\n",
    "    # Calculate word_count within the component to ensure re-execution when reactive variables change.\n",
    "    word_count = len(sentence.value.split())\n",
    "\n",
    "    solara.SliderInt(\"Word limit\", value=word_limit, min=2, max=20)\n",
    "    solara.InputText(label=\"Your sentence\", value=sentence, continuous_update=True)\n",
    "\n",
    "    # Display messages based on the current word count and word limit.\n",
    "    if word_count >= int(word_limit.value):\n",
    "        solara.Error(f\"With {word_count} words, you passed the word limit of {word_limit.value}.\")\n",
    "    elif word_count >= int(0.8 * word_limit.value):\n",
    "        solara.Warning(f\"With {word_count} words, you are close to the word limit of {word_limit.value}.\")\n",
    "    else:\n",
    "        solara.Success(\"Great short writing!\")\n",
    "\n",
    "\n",
    "# The following line is required only when running the code in a Jupyter notebook:\n",
    "Page()"
   ]
  },
  {
   "cell_type": "markdown",
   "id": "1bf87f85",
   "metadata": {},
   "source": [
    "Reuse your code in the Jupyter notebook"
   ]
  },
  {
   "cell_type": "code",
   "execution_count": 2,
   "id": "4849e494",
   "metadata": {},
   "outputs": [
    {
     "data": {
      "application/vnd.jupyter.widget-view+json": {
       "model_id": "41d44914683746ab9ef98de00a3e1239",
       "version_major": 2,
       "version_minor": 0
      },
      "text/html": [
       "Cannot show widget. You probably want to rerun the code cell above (<i>Click in the code cell, and press Shift+Enter <kbd>⇧</kbd>+<kbd>↩</kbd></i>)."
      ],
      "text/plain": [
       "Cannot show ipywidgets in text"
      ]
     },
     "metadata": {},
     "output_type": "display_data"
    }
   ],
   "source": [
    "from test_solara_v1 import Page\n",
    "display(Page())"
   ]
  },
  {
   "cell_type": "markdown",
   "id": "a86242c9",
   "metadata": {},
   "source": [
    "## Example count clicks"
   ]
  },
  {
   "cell_type": "code",
   "execution_count": 3,
   "id": "f18e887d",
   "metadata": {},
   "outputs": [
    {
     "data": {
      "application/vnd.jupyter.widget-view+json": {
       "model_id": "e39d9dff58fa46a4a9d0865b19c82159",
       "version_major": 2,
       "version_minor": 0
      },
      "text/html": [
       "Cannot show widget. You probably want to rerun the code cell above (<i>Click in the code cell, and press Shift+Enter <kbd>⇧</kbd>+<kbd>↩</kbd></i>)."
      ],
      "text/plain": [
       "Cannot show ipywidgets in text"
      ]
     },
     "metadata": {},
     "output_type": "display_data"
    }
   ],
   "source": [
    "import solara\n",
    "\n",
    "clicks = solara.reactive(0)\n",
    "\n",
    "\n",
    "@solara.component\n",
    "def Page():\n",
    "    def increase_clicks():\n",
    "        clicks.value += 1\n",
    "\n",
    "    solara.Button(label=f\"Clicked {clicks} times\", on_click=increase_clicks)\n",
    "\n",
    "# in the Jupyter notebook, uncomment the next line:\n",
    "display(Page())"
   ]
  },
  {
   "cell_type": "markdown",
   "id": "e1881ecd",
   "metadata": {},
   "source": [
    "## Example count clicks and reset"
   ]
  },
  {
   "cell_type": "markdown",
   "id": "77ae00aa",
   "metadata": {},
   "source": [
    "Many different ways are possible [...], see website if needed"
   ]
  },
  {
   "cell_type": "code",
   "execution_count": 4,
   "id": "340315e9",
   "metadata": {},
   "outputs": [
    {
     "data": {
      "application/vnd.jupyter.widget-view+json": {
       "model_id": "5a6c4e9e2155478e8433f14dc79d9c99",
       "version_major": 2,
       "version_minor": 0
      },
      "text/html": [
       "Cannot show widget. You probably want to rerun the code cell above (<i>Click in the code cell, and press Shift+Enter <kbd>⇧</kbd>+<kbd>↩</kbd></i>)."
      ],
      "text/plain": [
       "Cannot show ipywidgets in text"
      ]
     },
     "metadata": {},
     "output_type": "display_data"
    }
   ],
   "source": [
    "import solara\n",
    "\n",
    "@solara.component\n",
    "def FancyClickButton():\n",
    "    clicks, set_clicks = solara.use_state(0)\n",
    "\n",
    "    def increase_count():\n",
    "        set_clicks(clicks + 1)\n",
    "\n",
    "    def reset_count():\n",
    "        set_clicks(0)\n",
    "\n",
    "    button_increase = solara.Button(label=f\"Clicked: {clicks}\", on_click=increase_count)\n",
    "    button_reset = solara.Button(label=\"Reset\", on_click=reset_count)\n",
    "\n",
    "    ###### AVOID RETURNING AN ELEMENT; if I understood correctly; code works with and without this ######\n",
    "    #return solara.Row(children=[button_increase,\n",
    "     #                            button_reset,\n",
    "      #                           ])\n",
    "\n",
    "\n",
    "Page = FancyClickButton\n",
    "\n",
    "# in the Jupyter notebook, uncomment the next line:\n",
    "display(Page())"
   ]
  },
  {
   "cell_type": "code",
   "execution_count": null,
   "id": "ab5cbefc",
   "metadata": {},
   "outputs": [],
   "source": []
  }
 ],
 "metadata": {
  "kernelspec": {
   "display_name": "Python 3 (ipykernel)",
   "language": "python",
   "name": "python3"
  },
  "language_info": {
   "codemirror_mode": {
    "name": "ipython",
    "version": 3
   },
   "file_extension": ".py",
   "mimetype": "text/x-python",
   "name": "python",
   "nbconvert_exporter": "python",
   "pygments_lexer": "ipython3",
   "version": "3.11.5"
  }
 },
 "nbformat": 4,
 "nbformat_minor": 5
}
