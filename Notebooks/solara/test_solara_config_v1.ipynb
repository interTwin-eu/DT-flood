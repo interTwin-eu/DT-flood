{
 "cells": [
  {
   "cell_type": "code",
   "execution_count": 2,
   "metadata": {},
   "outputs": [],
   "source": [
    "import solara\n",
    "import solara.lab\n",
    "import ipyleaflet\n",
    "import ipywidgets as widgets\n",
    "from IPython.display import display\n",
    "import json\n",
    "import datetime as dt\n",
    "from pathlib import Path\n",
    "\n"
   ]
  },
  {
   "cell_type": "markdown",
   "metadata": {},
   "source": [
    "# Step 1: Select scenario\n",
    "\n",
    "set paths to folders\n",
    "Perhaps in demonstrator no need to select paths but directly the data sets\n"
   ]
  },
  {
   "cell_type": "markdown",
   "metadata": {},
   "source": [
    "## select FoodAdapt data base for which we are configuring scenarios"
   ]
  },
  {
   "cell_type": "code",
   "execution_count": 3,
   "metadata": {},
   "outputs": [
    {
     "data": {
      "application/vnd.jupyter.widget-view+json": {
       "model_id": "656a6edde67647e98c759a5b9da4d69c",
       "version_major": 2,
       "version_minor": 0
      },
      "text/html": [
       "Cannot show widget. You probably want to rerun the code cell above (<i>Click in the code cell, and press Shift+Enter <kbd>⇧</kbd>+<kbd>↩</kbd></i>)."
      ],
      "text/plain": [
       "Cannot show ipywidgets in text"
      ]
     },
     "metadata": {},
     "output_type": "display_data"
    }
   ],
   "source": [
    "# HERE: DROP-DOWN MENU; people won't have datasets on their local drive\n",
    "\n",
    "FA_databases = [\"Scheveningen\", \"Option B\", \"Option C\"] #################################\n",
    "FA_database = solara.reactive(\"Scheveningen\")\n",
    "\n",
    "\n",
    "@solara.component\n",
    "def Page():\n",
    "    solara.Select(label=\"FloodAdapt data base\", value=FA_database, values=FA_databases)\n",
    "    \n",
    "    solara.Markdown(f\"**Selected**: {FA_database.value}\")\n",
    "\n",
    "\n",
    "########################################################################################################################################################################################\n",
    "# The following line is required only when running the code in a Jupyter notebook:\n",
    "Page()"
   ]
  },
  {
   "cell_type": "markdown",
   "metadata": {},
   "source": [
    "According to the selection above, the path to the FloodAdapt database is set below. Needs adjustment! ##########################"
   ]
  },
  {
   "cell_type": "code",
   "execution_count": 5,
   "metadata": {},
   "outputs": [],
   "source": [
    "if FA_database.value == \"Scheveningen\":\n",
    "    fa_database = Path(r\"/mnt/c/Users/santjer/OneDrive - Stichting Deltares/Documents/DestinE/Technical/01_FloodAdapt/scheveningen\")\n",
    "elif FA_database.value == \"Option B\":\n",
    "    fa_database = Path(r\"/mnt/c/Users/santjer/OneDrive - Stichting Deltares/Documents/DestinE/Technical/01_FloodAdapt/OPTIONB/\") #########################\n",
    "else:\n",
    "    fa_database = Path(r\"/mnt/c/Users/santjer/OneDrive - Stichting Deltares/Documents/DestinE/Technical/01_FloodAdapt/OPTIONC/\") #########################\n",
    "\n",
    "# print(fa_database)"
   ]
  },
  {
   "cell_type": "markdown",
   "metadata": {},
   "source": [
    "## Select (path to) data"
   ]
  },
  {
   "cell_type": "code",
   "execution_count": 6,
   "metadata": {},
   "outputs": [],
   "source": [
    "# HERE: whatever the solutoin is; people won't have datasets on their local drive\n",
    "\n",
    "# Path to data folder. If (relative) file paths are used when specifying data sets, it will be looked for in this folder.\n",
    "# data_folder = Path(\"/home/wotromp/InterTwin/Data\")                              #########################\n"
   ]
  },
  {
   "cell_type": "markdown",
   "metadata": {},
   "source": [
    "## Select HydroMT data catalogue from which to fetch data\n"
   ]
  },
  {
   "cell_type": "code",
   "execution_count": 7,
   "metadata": {},
   "outputs": [],
   "source": [
    "# OPTIONAL: HydroMT data catalogue from which to fetch data. The order matters here, as datasets are looked for in a catalogue in order from first catalogue name in list to last.\n",
    "data_catalogues = [Path(r\"/mnt/c/Users/santjer/OneDrive - Stichting Deltares/Documents/DestinE/Technical/01_FloodAdapt/deltares_data_wsl.yml\")]"
   ]
  },
  {
   "cell_type": "markdown",
   "metadata": {},
   "source": [
    "# Step 2: Configure the weather event\n",
    "\n",
    "we need: \n",
    "\n",
    "-  Name for referencing\n",
    "-  start and end time and dates\n",
    "-  forcing data for hazard model [...]"
   ]
  },
  {
   "cell_type": "markdown",
   "metadata": {},
   "source": [
    "## Event Name"
   ]
  },
  {
   "cell_type": "code",
   "execution_count": 8,
   "metadata": {},
   "outputs": [
    {
     "data": {
      "application/vnd.jupyter.widget-view+json": {
       "model_id": "01f48a164ee748c2b3b2c618d164b36a",
       "version_major": 2,
       "version_minor": 0
      },
      "text/html": [
       "Cannot show widget. You probably want to rerun the code cell above (<i>Click in the code cell, and press Shift+Enter <kbd>⇧</kbd>+<kbd>↩</kbd></i>)."
      ],
      "text/plain": [
       "Cannot show ipywidgets in text"
      ]
     },
     "metadata": {},
     "output_type": "display_data"
    }
   ],
   "source": [
    "event_name_input = solara.reactive(\"Event name\")\n",
    "\n",
    "@solara.component\n",
    "def Page():\n",
    "    solara.InputText(\"Name of the event\", value=event_name_input)#, continuous_update=continuous_update.value)\n",
    "    # with solara.Row():\n",
    "    #    solara.Button(\"Clear\", on_click=lambda: text.set(\"\"))\n",
    "    solara.Markdown(f\"**Your name of the event**: {event_name_input.value}\")\n",
    "\n",
    "\n",
    "########################################################################################################################################################################################\n",
    "# The following line is required only when running the code in a Jupyter notebook:\n",
    "Page()"
   ]
  },
  {
   "cell_type": "code",
   "execution_count": 7,
   "metadata": {},
   "outputs": [
    {
     "name": "stdout",
     "output_type": "stream",
     "text": [
      "'Event name'\n",
      "'Event_name'\n"
     ]
    }
   ],
   "source": [
    "# in case the input has spaces, replace them by \"_\"\n",
    "\n",
    "def replace_spaces_with_underscores(string):\n",
    "    if ' ' in string:\n",
    "        new_string = string.replace(' ', '_')\n",
    "    else:\n",
    "        new_string = string\n",
    "    \n",
    "    return new_string\n",
    "\n",
    "event_name = replace_spaces_with_underscores(str(event_name_input))\n",
    "\n",
    "print(event_name_input)\n",
    "print(event_name)"
   ]
  },
  {
   "cell_type": "markdown",
   "metadata": {},
   "source": [
    "## Start and End time"
   ]
  },
  {
   "cell_type": "markdown",
   "metadata": {},
   "source": [
    "Set Start and End time of the event"
   ]
  },
  {
   "cell_type": "markdown",
   "metadata": {},
   "source": [
    "### in Solara (pick date, needs limitations)\n",
    "\n",
    "limitation not possible with datepicker, perhaps drop-down menu to select year, then month, then day. this way limitation possible"
   ]
  },
  {
   "cell_type": "code",
   "execution_count": 8,
   "metadata": {},
   "outputs": [
    {
     "data": {
      "application/vnd.jupyter.widget-view+json": {
       "model_id": "5428d93374fe48ebbfb15262cce191eb",
       "version_major": 2,
       "version_minor": 0
      },
      "text/html": [
       "Cannot show widget. You probably want to rerun the code cell above (<i>Click in the code cell, and press Shift+Enter <kbd>⇧</kbd>+<kbd>↩</kbd></i>)."
      ],
      "text/plain": [
       "Cannot show ipywidgets in text"
      ]
     },
     "metadata": {},
     "output_type": "display_data"
    }
   ],
   "source": [
    "# select start date\n",
    "\n",
    "@solara.component\n",
    "def Page():\n",
    "    date = solara.use_reactive(dt.date.today())\n",
    "\n",
    "    \n",
    "    solara.lab.InputDate(date)\n",
    "    solara.Text(str(date.value))\n",
    "\n",
    "\n",
    "\n",
    "########################################################################################################################################################################################\n",
    "# The following line is required only when running the code in a Jupyter notebook:\n",
    "Page()"
   ]
  },
  {
   "cell_type": "markdown",
   "metadata": {},
   "source": [
    "selecting date and time works well with ipywidgets, but not with solara somehow (yet)"
   ]
  },
  {
   "cell_type": "markdown",
   "metadata": {},
   "source": [
    "### Via ipywidgets: pick date and time but ugly design"
   ]
  },
  {
   "cell_type": "markdown",
   "metadata": {},
   "source": [
    "Select start date & time"
   ]
  },
  {
   "cell_type": "code",
   "execution_count": 9,
   "metadata": {},
   "outputs": [
    {
     "data": {
      "application/vnd.jupyter.widget-view+json": {
       "model_id": "6656e5d150e54b11826f4789a901dd2c",
       "version_major": 2,
       "version_minor": 0
      },
      "text/plain": [
       "DatePicker(value=datetime.date(2024, 8, 1), description='Select Date', step=1)"
      ]
     },
     "metadata": {},
     "output_type": "display_data"
    },
    {
     "data": {
      "application/vnd.jupyter.widget-view+json": {
       "model_id": "b7830d396d8745b194475a16a9615c3f",
       "version_major": 2,
       "version_minor": 0
      },
      "text/plain": [
       "Text(value='13:27', description='Select Time', placeholder='HH:MM')"
      ]
     },
     "metadata": {},
     "output_type": "display_data"
    },
    {
     "data": {
      "application/vnd.jupyter.widget-view+json": {
       "model_id": "555363c93a984951bb5e750cf323a3e4",
       "version_major": 2,
       "version_minor": 0
      },
      "text/plain": [
       "Button(description='Save Start Date', style=ButtonStyle())"
      ]
     },
     "metadata": {},
     "output_type": "display_data"
    },
    {
     "data": {
      "application/vnd.jupyter.widget-view+json": {
       "model_id": "c947712129f34791bcda9a4312c9d77f",
       "version_major": 2,
       "version_minor": 0
      },
      "text/plain": [
       "Output()"
      ]
     },
     "metadata": {},
     "output_type": "display_data"
    }
   ],
   "source": [
    "# Create date and time pickers\n",
    "start_date = widgets.DatePicker(\n",
    "    description='Select Date',\n",
    "    value=dt.date.today()\n",
    ")\n",
    "start_time = widgets.Text(\n",
    "    description='Select Time',\n",
    "    value=dt.datetime.now().strftime('%H:%M'),\n",
    "    placeholder='HH:MM'\n",
    ")\n",
    "\n",
    "# Create a button to update the selected datetime\n",
    "update_button = widgets.Button(description=\"Save Start Date\")\n",
    "\n",
    "# Output area for displaying the selected datetime\n",
    "output = widgets.Output()\n",
    "\n",
    "# Define the function to be called when the button is clicked\n",
    "def on_button_click(b):\n",
    "    # Combine date and time into a single datetime object\n",
    "    date_value = start_date.value\n",
    "    time_value = start_time.value\n",
    "    try:\n",
    "        time_obj = dt.datetime.strptime(time_value, '%H:%M').time()\n",
    "        selected_datetime = dt.datetime.combine(date_value, time_obj)\n",
    "        formatted_datetime = selected_datetime.strftime('%Y-%m-%d %H:%M:%S')\n",
    "    except ValueError:\n",
    "        formatted_datetime = \"Invalid time format. Use HH:MM.\"\n",
    "    \n",
    "    # Display the selected datetime\n",
    "    with output:\n",
    "        output.clear_output()\n",
    "        print(f\"Selected DateTime: {formatted_datetime}\")\n",
    "\n",
    "# Attach the button click event\n",
    "update_button.on_click(on_button_click)\n",
    "\n",
    "# Display widgets\n",
    "display(start_date, start_time, update_button, output)"
   ]
  },
  {
   "cell_type": "markdown",
   "metadata": {},
   "source": [
    "Select end date & time"
   ]
  },
  {
   "cell_type": "code",
   "execution_count": 10,
   "metadata": {},
   "outputs": [
    {
     "data": {
      "application/vnd.jupyter.widget-view+json": {
       "model_id": "b67d77b58b5e48e08d61ed1ec6d180f7",
       "version_major": 2,
       "version_minor": 0
      },
      "text/plain": [
       "DatePicker(value=datetime.date(2024, 8, 1), description='Select Date', step=1)"
      ]
     },
     "metadata": {},
     "output_type": "display_data"
    },
    {
     "data": {
      "application/vnd.jupyter.widget-view+json": {
       "model_id": "b5c39354d56c4da685a66f900d0a54da",
       "version_major": 2,
       "version_minor": 0
      },
      "text/plain": [
       "Text(value='13:27', description='Select Time', placeholder='HH:MM')"
      ]
     },
     "metadata": {},
     "output_type": "display_data"
    },
    {
     "data": {
      "application/vnd.jupyter.widget-view+json": {
       "model_id": "66225f58b408446bbde7fd339a9c8315",
       "version_major": 2,
       "version_minor": 0
      },
      "text/plain": [
       "Button(description='Save End Date', style=ButtonStyle())"
      ]
     },
     "metadata": {},
     "output_type": "display_data"
    },
    {
     "data": {
      "application/vnd.jupyter.widget-view+json": {
       "model_id": "df69a2778e4943baaf5a670bdcf7530d",
       "version_major": 2,
       "version_minor": 0
      },
      "text/plain": [
       "Output()"
      ]
     },
     "metadata": {},
     "output_type": "display_data"
    }
   ],
   "source": [
    "# Create date and time pickers\n",
    "end_date = widgets.DatePicker(\n",
    "    description='Select Date',\n",
    "    value=dt.date.today()\n",
    ")\n",
    "end_time = widgets.Text(\n",
    "    description='Select Time',\n",
    "    value=dt.datetime.now().strftime('%H:%M'),\n",
    "    placeholder='HH:MM'\n",
    ")\n",
    "\n",
    "# Create a button to update the selected datetime\n",
    "update_button = widgets.Button(description=\"Save End Date\")\n",
    "\n",
    "# Output area for displaying the selected datetime\n",
    "output = widgets.Output()\n",
    "\n",
    "# Define the function to be called when the button is clicked\n",
    "def on_button_click(b):\n",
    "    # Combine date and time into a single datetime object\n",
    "    date_value = end_date.value\n",
    "    time_value = end_time.value\n",
    "    try:\n",
    "        time_obj = dt.datetime.strptime(time_value, '%H:%M').time()\n",
    "        selected_datetime = dt.datetime.combine(date_value, time_obj)\n",
    "        formatted_datetime = selected_datetime.strftime('%Y-%m-%d %H:%M:%S')\n",
    "    except ValueError:\n",
    "        formatted_datetime = \"Invalid time format. Use HH:MM.\"\n",
    "    \n",
    "    # Display the selected datetime\n",
    "    with output:\n",
    "        output.clear_output()\n",
    "        print(f\"Selected DateTime: {formatted_datetime}\")\n",
    "\n",
    "# Attach the button click event\n",
    "update_button.on_click(on_button_click)\n",
    "\n",
    "# Display widgets\n",
    "display(end_date, end_time, update_button, output)"
   ]
  },
  {
   "cell_type": "code",
   "execution_count": 11,
   "metadata": {},
   "outputs": [
    {
     "name": "stdout",
     "output_type": "stream",
     "text": [
      "Start time: 2024-08-01   13:27\n",
      "End time:   2024-08-01   13:27\n"
     ]
    }
   ],
   "source": [
    "# start_time.value\n",
    "# end_date.value\n",
    "\n",
    "print('Start time: ' + str(start_date.value)+'   '+str(start_time.value))\n",
    "print('End time:   ' + str(end_date.value)+'   '+str(end_time.value))"
   ]
  },
  {
   "cell_type": "markdown",
   "metadata": {},
   "source": [
    "## Forcing data for the SFINCS model"
   ]
  },
  {
   "cell_type": "markdown",
   "metadata": {},
   "source": [
    "### Meteorological data:"
   ]
  },
  {
   "cell_type": "code",
   "execution_count": 12,
   "metadata": {},
   "outputs": [
    {
     "data": {
      "application/vnd.jupyter.widget-view+json": {
       "model_id": "14a80d431ed34300ad5dc0d3f02d2711",
       "version_major": 2,
       "version_minor": 0
      },
      "text/html": [
       "Cannot show widget. You probably want to rerun the code cell above (<i>Click in the code cell, and press Shift+Enter <kbd>⇧</kbd>+<kbd>↩</kbd></i>)."
      ],
      "text/plain": [
       "Cannot show ipywidgets in text"
      ]
     },
     "metadata": {},
     "output_type": "display_data"
    }
   ],
   "source": [
    "# HERE: DROP-DOWN MENU\n",
    "\n",
    "met_datas = [\"ERA5 Hourly\", \"Option B\", \"Option C\"] #################################\n",
    "met_data = solara.reactive(\"ERA5 Hourly\")\n",
    "\n",
    "\n",
    "@solara.component\n",
    "def Page():\n",
    "    solara.Select(label=\"Meteorological data\", value=met_data, values=met_datas)\n",
    "    solara.Markdown(f\"**Selected**: {met_data.value}\")\n",
    "\n",
    "\n",
    "########################################################################################################################################################################################\n",
    "# The following line is required only when running the code in a Jupyter notebook:\n",
    "Page()"
   ]
  },
  {
   "cell_type": "code",
   "execution_count": 13,
   "metadata": {},
   "outputs": [
    {
     "name": "stdout",
     "output_type": "stream",
     "text": [
      "era5_hourly\n"
     ]
    }
   ],
   "source": [
    "if met_data.value == \"ERA5 Hourly\":\n",
    "    sfincs_meteo = 'era5_hourly'\n",
    "elif met_data.value == \"OPTION B\": ############################################\n",
    "    sfincs_meteo = 'OPTION_B' ############################################\n",
    "else:                         ############################################\n",
    "    sfincs_meteo = 'OPTION_C' ############################################\n",
    "\n",
    "print(sfincs_meteo)\n",
    "\n"
   ]
  },
  {
   "cell_type": "markdown",
   "metadata": {},
   "source": [
    "### Waterlevel data:"
   ]
  },
  {
   "cell_type": "code",
   "execution_count": 14,
   "metadata": {},
   "outputs": [
    {
     "data": {
      "application/vnd.jupyter.widget-view+json": {
       "model_id": "f4339339013148219073204cdbbcef14",
       "version_major": 2,
       "version_minor": 0
      },
      "text/html": [
       "Cannot show widget. You probably want to rerun the code cell above (<i>Click in the code cell, and press Shift+Enter <kbd>⇧</kbd>+<kbd>↩</kbd></i>)."
      ],
      "text/plain": [
       "Cannot show ipywidgets in text"
      ]
     },
     "metadata": {},
     "output_type": "display_data"
    }
   ],
   "source": [
    "# HERE: DROP-DOWN MENU\n",
    "\n",
    "wl_datas = [\"gtsm_reanalysis_hourly\", \"Option B\", \"Option C\"] #################################\n",
    "wl_data = solara.reactive(\"gtsm_reanalysis_hourly\")\n",
    "\n",
    "\n",
    "@solara.component\n",
    "def Page():\n",
    "    solara.Select(label=\"Waterlevel\", value=wl_data, values=wl_datas)\n",
    "    solara.Markdown(f\"**Selected**: {wl_data.value}\")\n",
    "\n",
    "\n",
    "########################################################################################################################################################################################\n",
    "# The following line is required only when running the code in a Jupyter notebook:\n",
    "Page()"
   ]
  },
  {
   "cell_type": "code",
   "execution_count": 15,
   "metadata": {},
   "outputs": [
    {
     "name": "stdout",
     "output_type": "stream",
     "text": [
      "gtsm_reanalysis_hourly\n"
     ]
    }
   ],
   "source": [
    "if wl_data.value == \"gtsm_reanalysis_hourly\":\n",
    "    sfincs_waterlevel = 'gtsm_reanalysis_hourly'\n",
    "elif wl_data.value == \"OPTION B\": ############################################\n",
    "    sfincs_waterlevel = 'OPTION_B' ############################################\n",
    "else:                         ############################################\n",
    "    sfincs_waterlevel = 'OPTION_C' ############################################\n",
    "\n",
    "print(sfincs_waterlevel)"
   ]
  },
  {
   "cell_type": "markdown",
   "metadata": {},
   "source": [
    "## Define event_dict\n"
   ]
  },
  {
   "cell_type": "code",
   "execution_count": 16,
   "metadata": {},
   "outputs": [],
   "source": [
    "\n",
    "event_dict = {\n",
    "    'name': event_name,\n",
    "    'start_time': start_time,\n",
    "    'end_time': end_time,\n",
    "    \"data_catalogues\":  [str(path) for path in data_catalogues],\n",
    "    'sfincs_forcing': {\n",
    "        'meteo': sfincs_meteo,\n",
    "        'waterlevel': sfincs_waterlevel\n",
    "    },\n",
    "}"
   ]
  },
  {
   "cell_type": "markdown",
   "metadata": {},
   "source": [
    "# Step 3: Configure projections"
   ]
  },
  {
   "cell_type": "markdown",
   "metadata": {},
   "source": [
    "Physical Projections:\n",
    "-  Sea level rise\n",
    "-  Land subsidence\n",
    "-  Rainfall increase\n",
    "-  Storm frequency increase\n",
    "\n",
    "Socio-Economic Projections:\n",
    "-  Population growth\n",
    "-  Economic growth\n",
    "-  New developments:\n",
    "    -  Newly developed area\n",
    "    -  Elevation of a newly developed area\n",
    "    -  Population growth in newly developed area"
   ]
  },
  {
   "cell_type": "markdown",
   "metadata": {},
   "source": [
    "## Name of Projection"
   ]
  },
  {
   "cell_type": "code",
   "execution_count": 17,
   "metadata": {},
   "outputs": [
    {
     "data": {
      "application/vnd.jupyter.widget-view+json": {
       "model_id": "55c5fb846e69480ea01623a98eab7f2c",
       "version_major": 2,
       "version_minor": 0
      },
      "text/html": [
       "Cannot show widget. You probably want to rerun the code cell above (<i>Click in the code cell, and press Shift+Enter <kbd>⇧</kbd>+<kbd>↩</kbd></i>)."
      ],
      "text/plain": [
       "Cannot show ipywidgets in text"
      ]
     },
     "metadata": {},
     "output_type": "display_data"
    }
   ],
   "source": [
    "projection_name_input = solara.reactive(\"Projection name\")\n",
    "\n",
    "@solara.component\n",
    "def Page():\n",
    "    solara.InputText(\"Name of the projection\", value=projection_name_input)#, continuous_update=continuous_update.value)\n",
    "    # with solara.Row():\n",
    "    #    solara.Button(\"Clear\", on_click=lambda: text.set(\"\"))\n",
    "    solara.Markdown(f\"**Your name of the projection**: {projection_name_input.value}\")\n",
    "\n",
    "\n",
    "########################################################################################################################################################################################\n",
    "# The following line is required only when running the code in a Jupyter notebook:\n",
    "Page()"
   ]
  },
  {
   "cell_type": "code",
   "execution_count": 18,
   "metadata": {},
   "outputs": [
    {
     "name": "stdout",
     "output_type": "stream",
     "text": [
      "'Projection name'\n",
      "'Projection_name'\n"
     ]
    }
   ],
   "source": [
    "# in case the input has spaces, replace them by \"_\"\n",
    "\n",
    "projection_name = replace_spaces_with_underscores(str(projection_name_input))\n",
    "\n",
    "print(projection_name_input)\n",
    "print(projection_name)"
   ]
  },
  {
   "cell_type": "markdown",
   "metadata": {},
   "source": [
    "## Physical projections"
   ]
  },
  {
   "cell_type": "markdown",
   "metadata": {},
   "source": [
    "### Sea Level Rise  [m]\n",
    "\n",
    "Slider has the advantage that the user has directly a realistic scale, while when leaving it open, a non-expert user might put maybe 10 m sealevel rise"
   ]
  },
  {
   "cell_type": "code",
   "execution_count": 19,
   "metadata": {},
   "outputs": [
    {
     "data": {
      "application/vnd.jupyter.widget-view+json": {
       "model_id": "6ca86809b4ed4ba989862d50896020e8",
       "version_major": 2,
       "version_minor": 0
      },
      "text/html": [
       "Cannot show widget. You probably want to rerun the code cell above (<i>Click in the code cell, and press Shift+Enter <kbd>⇧</kbd>+<kbd>↩</kbd></i>)."
      ],
      "text/plain": [
       "Cannot show ipywidgets in text"
      ]
     },
     "metadata": {},
     "output_type": "display_data"
    }
   ],
   "source": [
    "sea_level_rise = solara.reactive(0)\n",
    "\n",
    "@solara.component\n",
    "def Page():\n",
    "    solara.SliderFloat(\"Sea Level Rise [m]\", value=sea_level_rise, min=0, max=2) #, step=0.01)\n",
    "    solara.Markdown(f\"**Sea Level Rise [m]**: {sea_level_rise.value}\")\n",
    "    with solara.Row():\n",
    "        solara.Button(\"Reset\", on_click=lambda: sea_level_rise.set(0))\n",
    "\n",
    "########################################################################################################################################################################################\n",
    "# The following line is required only when running the code in a Jupyter notebook:\n",
    "Page()"
   ]
  },
  {
   "cell_type": "code",
   "execution_count": null,
   "metadata": {},
   "outputs": [],
   "source": []
  },
  {
   "cell_type": "markdown",
   "metadata": {},
   "source": [
    "### Rainfall Increase  [\\%] (whatever realistic)\n",
    "chose where to limit the user in selection of the value in %"
   ]
  },
  {
   "cell_type": "code",
   "execution_count": 20,
   "metadata": {},
   "outputs": [
    {
     "data": {
      "application/vnd.jupyter.widget-view+json": {
       "model_id": "42d91d13db2e49bf92ef93d5016a2e6b",
       "version_major": 2,
       "version_minor": 0
      },
      "text/html": [
       "Cannot show widget. You probably want to rerun the code cell above (<i>Click in the code cell, and press Shift+Enter <kbd>⇧</kbd>+<kbd>↩</kbd></i>)."
      ],
      "text/plain": [
       "Cannot show ipywidgets in text"
      ]
     },
     "metadata": {},
     "output_type": "display_data"
    }
   ],
   "source": [
    "rainfall_increase = solara.reactive(0)\n",
    "\n",
    "@solara.component\n",
    "def Page():\n",
    "    solara.SliderFloat(\"Rainfall Increase [%]\", value=rainfall_increase, min=0, max=33.3) #, step=0.01)\n",
    "    solara.Markdown(f\"**Rainfall Increase [%]**: {rainfall_increase.value}\")\n",
    "    with solara.Row():\n",
    "        solara.Button(\"Reset\", on_click=lambda: rainfall_increase.set(0))\n",
    "\n",
    "\n",
    "########################################################################################################################################################################################\n",
    "# The following line is required only when running the code in a Jupyter notebook:\n",
    "Page()"
   ]
  },
  {
   "cell_type": "code",
   "execution_count": null,
   "metadata": {},
   "outputs": [],
   "source": []
  },
  {
   "cell_type": "markdown",
   "metadata": {},
   "source": [
    "## Socio-Economic Projections\n"
   ]
  },
  {
   "cell_type": "markdown",
   "metadata": {},
   "source": [
    "### Population Growth  [\\%] (whatever realistic)\n",
    "chose where to limit the user in selection of the value in %"
   ]
  },
  {
   "cell_type": "code",
   "execution_count": 21,
   "metadata": {},
   "outputs": [
    {
     "data": {
      "application/vnd.jupyter.widget-view+json": {
       "model_id": "ad94517ecdde4e8985eda648298f1131",
       "version_major": 2,
       "version_minor": 0
      },
      "text/html": [
       "Cannot show widget. You probably want to rerun the code cell above (<i>Click in the code cell, and press Shift+Enter <kbd>⇧</kbd>+<kbd>↩</kbd></i>)."
      ],
      "text/plain": [
       "Cannot show ipywidgets in text"
      ]
     },
     "metadata": {},
     "output_type": "display_data"
    }
   ],
   "source": [
    "pop_growth = solara.reactive(0)\n",
    "\n",
    "@solara.component\n",
    "def Page():\n",
    "    solara.SliderFloat(\"Population Increase [%]\", value=pop_growth, min=0, max=33.3) #, step=0.01)\n",
    "    solara.Markdown(f\"**Population Increase [%]**: {pop_growth.value}\")\n",
    "    with solara.Row():\n",
    "        solara.Button(\"Reset\", on_click=lambda: pop_growth.set(0))\n",
    "\n",
    "\n",
    "########################################################################################################################################################################################\n",
    "# The following line is required only when running the code in a Jupyter notebook:\n",
    "Page()"
   ]
  },
  {
   "cell_type": "code",
   "execution_count": null,
   "metadata": {},
   "outputs": [],
   "source": []
  },
  {
   "cell_type": "markdown",
   "metadata": {},
   "source": [
    "### Economic Growth [\\%] "
   ]
  },
  {
   "cell_type": "code",
   "execution_count": 22,
   "metadata": {},
   "outputs": [
    {
     "data": {
      "application/vnd.jupyter.widget-view+json": {
       "model_id": "db7f346a4cde454886f2a6f1454c4f9e",
       "version_major": 2,
       "version_minor": 0
      },
      "text/html": [
       "Cannot show widget. You probably want to rerun the code cell above (<i>Click in the code cell, and press Shift+Enter <kbd>⇧</kbd>+<kbd>↩</kbd></i>)."
      ],
      "text/plain": [
       "Cannot show ipywidgets in text"
      ]
     },
     "metadata": {},
     "output_type": "display_data"
    }
   ],
   "source": [
    "economic_growth = solara.reactive(0)\n",
    "\n",
    "@solara.component\n",
    "def Page():\n",
    "    solara.SliderFloat(\"Economic Increase [%]\", value=economic_growth, min=0, max=33.3) #, step=0.01)\n",
    "    solara.Markdown(f\"**Economic Increase [%]**: {economic_growth.value}\")\n",
    "    with solara.Row():\n",
    "        solara.Button(\"Reset\", on_click=lambda: economic_growth.set(0))\n",
    "\n",
    "\n",
    "########################################################################################################################################################################################\n",
    "# The following line is required only when running the code in a Jupyter notebook:\n",
    "Page()"
   ]
  },
  {
   "cell_type": "code",
   "execution_count": null,
   "metadata": {},
   "outputs": [],
   "source": []
  },
  {
   "cell_type": "markdown",
   "metadata": {},
   "source": [
    "## Define proj_dict \n"
   ]
  },
  {
   "cell_type": "code",
   "execution_count": 23,
   "metadata": {},
   "outputs": [],
   "source": [
    "SLR = sea_level_rise.value\n",
    "RFI = rainfall_increase.value\n",
    "PG = pop_growth.value\n",
    "EG = economic_growth.value\n",
    "\n",
    "proj_dict = {\n",
    "    'name': projection_name,\n",
    "    'physical_projection': {\n",
    "        'sea_level_rise': SLR,\n",
    "        'rainfall_increase': RFI\n",
    "    },\n",
    "    'socio_economic_change': {\n",
    "        'population_growth_existing': PG,\n",
    "        'economic_growth': EG\n",
    "    }\n",
    "}"
   ]
  },
  {
   "cell_type": "markdown",
   "metadata": {},
   "source": [
    "# Step 4: Configure Measures"
   ]
  },
  {
   "cell_type": "markdown",
   "metadata": {},
   "source": [
    "Hazard Type:\n",
    "-  Floodwall\n",
    "-  Pump\n",
    "-  Water square\n",
    "-  Green infrastructure\n",
    "-  Water storage\n",
    "\n",
    "Impact Type:\n",
    "-  Elevate properties\n",
    "-  Floodproof properties\n",
    "-  Buyout properties\n"
   ]
  },
  {
   "cell_type": "markdown",
   "metadata": {},
   "source": [
    "## Reset measures to include in the scenario"
   ]
  },
  {
   "cell_type": "markdown",
   "metadata": {},
   "source": [
    "### Strategy name"
   ]
  },
  {
   "cell_type": "markdown",
   "metadata": {},
   "source": [
    "## Single measures\n",
    "Rerun this cell multiple times to include multiple measures, everytime with updated variables appropriate to the to-be-added measures"
   ]
  },
  {
   "cell_type": "markdown",
   "metadata": {},
   "source": [
    "### Name of the measure"
   ]
  },
  {
   "cell_type": "markdown",
   "metadata": {},
   "source": [
    "### Type of the measure"
   ]
  },
  {
   "cell_type": "markdown",
   "metadata": {},
   "source": [
    "### >>These settings depend on the measure, already in a FloodAdapt format<<"
   ]
  },
  {
   "cell_type": "markdown",
   "metadata": {},
   "source": [
    "### Update strategy/measure"
   ]
  },
  {
   "cell_type": "markdown",
   "metadata": {},
   "source": [
    "# play around map and try to draw something in there"
   ]
  },
  {
   "cell_type": "code",
   "execution_count": 26,
   "metadata": {},
   "outputs": [
    {
     "data": {
      "application/vnd.jupyter.widget-view+json": {
       "model_id": "60d45256108348ca9f9af81aa9bd3642",
       "version_major": 2,
       "version_minor": 0
      },
      "text/html": [
       "Cannot show widget. You probably want to rerun the code cell above (<i>Click in the code cell, and press Shift+Enter <kbd>⇧</kbd>+<kbd>↩</kbd></i>)."
      ],
      "text/plain": [
       "Cannot show ipywidgets in text"
      ]
     },
     "metadata": {},
     "output_type": "display_data"
    },
    {
     "name": "stdout",
     "output_type": "stream",
     "text": [
      "Type: Point\n",
      "Coordinates: [4.264295, 52.094297]\n",
      "Type: Point\n",
      "Coordinates: [4.263442, 52.095929]\n",
      "Type: Polygon\n",
      "Coordinates: [[[4.258634, 52.099462], [4.258634, 52.101096], [4.262154, 52.101096], [4.262154, 52.099462], [4.258634, 52.099462]]]\n",
      "Type: Polygon\n",
      "Coordinates: [[[4.25275, 52.101623], [4.25275, 52.103943], [4.258932, 52.103943], [4.258932, 52.101623], [4.25275, 52.101623]]]\n"
     ]
    }
   ],
   "source": [
    "# Reactive variable to store drawn polygons\n",
    "drawn_polygons = solara.reactive([])\n",
    "\n",
    "@solara.component\n",
    "def Page():\n",
    "    # Create a map centered at a specific location\n",
    "    m = ipyleaflet.Map(\n",
    "        center=(52.08654741528378, 4.295223531699989),\n",
    "        zoom=10,\n",
    "        scroll_wheel_zoom=True\n",
    "    )\n",
    "    \n",
    "    # Create a DrawControl instance\n",
    "    draw_control = ipyleaflet.DrawControl(\n",
    "        polyline={'shapeOptions': {'color': 'blue', 'weight': 4}},  # Configuration for polylines\n",
    "        polygon={'shapeOptions': {'color': 'red', 'weight': 4}},  # Configuration for polygons\n",
    "        # circle={'shapeOptions': {'color': 'green', 'weight': 4}},  # Configuration for circles\n",
    "        # rectangle={'shapeOptions': {'color': 'purple', 'weight': 4}},  # Configuration for rectangles\n",
    "        marker={}  # Configuration for markers\n",
    "    )\n",
    "    \n",
    "    # Function to handle drawing events\n",
    "    def handle_draw(target, action, geo_json):\n",
    "        # print(\"geo_json received:\", geo_json)\n",
    "        if action == 'created':\n",
    "\n",
    "            if 'geometry' in geo_json:\n",
    "                geom_type = geo_json['geometry']['type']\n",
    "                coords = geo_json['geometry']['coordinates']\n",
    "                \n",
    "                # Append the drawn feature to the reactive variable\n",
    "                drawn_polygons.value.append({'type': geom_type, 'coordinates': coords})\n",
    "                print(f\"Type: {geom_type}\")\n",
    "                print(f\"Coordinates: {coords}\")\n",
    "            else:\n",
    "                print(\"Unexpected geo_json structure:\", geo_json)\n",
    "\n",
    "    # Attach the draw control to the map\n",
    "    m.add_control(draw_control)\n",
    "    \n",
    "    # Set up event listener for drawing actions\n",
    "    draw_control.on_draw(handle_draw)\n",
    "    \n",
    "    # Create a VBox to contain both the map and the information display\n",
    "    map_widget = widgets.Output()\n",
    "    \n",
    "    # Use ipywidgets to display the map\n",
    "    with map_widget:\n",
    "        display(m)\n",
    "    \n",
    "    # Display the map and drawn polygons in Solara\n",
    "    with solara.Column(style={\"min-width\": \"500px\", \"height\": \"500px\", \"isolation\": \"isolate\"}):\n",
    "        solara.Text(\"Drawn Polygons and Coordinates:\")\n",
    "        solara.Text(json.dumps(drawn_polygons.value, indent=2))  # Display drawn polygons with coordinates\n",
    "        \n",
    "    # Render the map widget using IPython's display\n",
    "    display(map_widget)\n",
    "\n",
    "# Render the component in your Solara notebook\n",
    "Page()"
   ]
  },
  {
   "cell_type": "code",
   "execution_count": 28,
   "metadata": {},
   "outputs": [
    {
     "data": {
      "text/plain": [
       "[{'type': 'Point', 'coordinates': [4.264295, 52.094297]},\n",
       " {'type': 'Point', 'coordinates': [4.263442, 52.095929]},\n",
       " {'type': 'Polygon',\n",
       "  'coordinates': [[[4.258634, 52.099462],\n",
       "    [4.258634, 52.101096],\n",
       "    [4.262154, 52.101096],\n",
       "    [4.262154, 52.099462],\n",
       "    [4.258634, 52.099462]]]},\n",
       " {'type': 'Polygon',\n",
       "  'coordinates': [[[4.25275, 52.101623],\n",
       "    [4.25275, 52.103943],\n",
       "    [4.258932, 52.103943],\n",
       "    [4.258932, 52.101623],\n",
       "    [4.25275, 52.101623]]]}]"
      ]
     },
     "execution_count": 28,
     "metadata": {},
     "output_type": "execute_result"
    }
   ],
   "source": [
    "drawn_polygons.value\n"
   ]
  }
 ],
 "metadata": {
  "kernelspec": {
   "display_name": "DestinE",
   "language": "python",
   "name": "python3"
  },
  "language_info": {
   "codemirror_mode": {
    "name": "ipython",
    "version": 3
   },
   "file_extension": ".py",
   "mimetype": "text/x-python",
   "name": "python",
   "nbconvert_exporter": "python",
   "pygments_lexer": "ipython3",
   "version": "3.11.5"
  }
 },
 "nbformat": 4,
 "nbformat_minor": 2
}
