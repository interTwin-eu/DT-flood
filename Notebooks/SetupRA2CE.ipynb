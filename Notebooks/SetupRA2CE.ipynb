{
 "cells": [
  {
   "cell_type": "markdown",
   "metadata": {},
   "source": [
    "# Build a RA2CE model for FloodAdapt anywhere on the globe\n",
    "\n",
    "In this notebook we demonstrate how to setup a RA2CE model for the FloodAdapt backend at any given location. As an example we will use the Humber delta in the UK.\n",
    "\n",
    "## **Step 0:** Import dependencies"
   ]
  },
  {
   "cell_type": "code",
   "execution_count": 1,
   "metadata": {},
   "outputs": [],
   "source": [
    "from pathlib import Path\n",
    "import numpy as np\n",
    "import matplotlib.pyplot as plt\n",
    "import geopandas as gpd\n",
    "import xarray as xr\n",
    "from rasterio.features import rasterize\n",
    "from xrspatial import zonal_stats\n",
    "import osmnx as ox\n",
    "from shutil import copy\n",
    "\n",
    "import cartopy.crs as ccrs\n",
    "import cartopy.io.img_tiles as cimgt\n",
    "\n",
    "proj = ccrs.PlateCarree() # plot projection\n",
    "\n",
    "from hydromt.data_catalog import DataCatalog\n",
    "\n",
    "from DT_flood.utils.ra2ce_utils import setup_base_folder, setup_ra2ce"
   ]
  },
  {
   "cell_type": "markdown",
   "metadata": {},
   "source": [
    "Setup folders"
   ]
  },
  {
   "cell_type": "code",
   "execution_count": 2,
   "metadata": {},
   "outputs": [],
   "source": [
    "model_name = 'Humber'\n",
    "model_path = Path('/home/wotromp/InterTwin/FloodAdapt_database') / model_name\n",
    "\n",
    "ra2ce_root = model_path / Path('static/templates/ra2ce')\n",
    "\n",
    "region_fn = model_path / 'HumberDelta_large.geojson'\n",
    "region = gpd.read_file(region_fn)"
   ]
  },
  {
   "cell_type": "code",
   "execution_count": null,
   "metadata": {},
   "outputs": [],
   "source": [
    "setup_base_folder(ra2ce_root)\n",
    "copy(region_fn, ra2ce_root/\"static\"/\"network\"/\"map.geojson\")"
   ]
  },
  {
   "cell_type": "markdown",
   "metadata": {},
   "source": [
    "Create origin points"
   ]
  },
  {
   "cell_type": "code",
   "execution_count": 5,
   "metadata": {},
   "outputs": [],
   "source": [
    "dc_fn = Path(\"/home/wotromp/InterTwin/Data/Humber/data_catalog.yml\")\n",
    "dc = DataCatalog(data_libs=[dc_fn])"
   ]
  },
  {
   "cell_type": "code",
   "execution_count": 6,
   "metadata": {},
   "outputs": [],
   "source": [
    "worldpop = dc.get_rasterdataset(\"worldpop\", geom=region)\n",
    "gadm = dc.get_geodataframe(\"gadm_level4\", geom=region)"
   ]
  },
  {
   "cell_type": "code",
   "execution_count": 7,
   "metadata": {},
   "outputs": [],
   "source": [
    "shapes = list(enumerate(gadm['geometry'].values))\n",
    "shapes = [(t[1],t[0]+1) for t in shapes]"
   ]
  },
  {
   "cell_type": "code",
   "execution_count": 8,
   "metadata": {},
   "outputs": [],
   "source": [
    "rasterized = rasterize(\n",
    "    shapes=shapes,\n",
    "    out_shape=worldpop.shape,\n",
    "    transform=worldpop.raster.transform,\n",
    "    all_touched=True\n",
    ")\n",
    "# zonal_stats needs xarrays as input\n",
    "rasterized = xr.DataArray(rasterized,\n",
    "                          coords={\n",
    "                              \"y\": worldpop.y,\n",
    "                              \"x\": worldpop.x,\n",
    "                          })"
   ]
  },
  {
   "cell_type": "code",
   "execution_count": 9,
   "metadata": {},
   "outputs": [],
   "source": [
    "# Calculate the zonal statistics\n",
    "zonal_out = zonal_stats(rasterized,worldpop.load(),\n",
    "                        stats_funcs=['sum'],\n",
    "                        nodata_values=np.nan)\n",
    "\n",
    "# The zero label is for pixels not in a geometry so we discard them\n",
    "zonal_out = zonal_out.drop(0)"
   ]
  },
  {
   "cell_type": "code",
   "execution_count": 10,
   "metadata": {},
   "outputs": [],
   "source": [
    "origins = gpd.GeoDataFrame(data=zonal_out, geometry=gadm.geometry.centroid).dropna()\n",
    "origins = origins.rename(columns={\n",
    "    \"sum\": \"POPULATION\",\n",
    "    \"zone\": \"OBJECT ID\"\n",
    "})\n",
    "origins = origins.clip(region)\n",
    "origins['category'] = 'origin'"
   ]
  },
  {
   "cell_type": "code",
   "execution_count": null,
   "metadata": {},
   "outputs": [],
   "source": [
    "origins.to_file(ra2ce_root/\"static\"/\"network\"/\"origins.gpkg\", driver=\"GPKG\")"
   ]
  },
  {
   "cell_type": "code",
   "execution_count": null,
   "metadata": {},
   "outputs": [],
   "source": [
    "fig = plt.figure(figsize=(10,8))\n",
    "ax= plt.subplot(projection=proj)\n",
    "ax.add_image(cimgt.OSM(),10)\n",
    "\n",
    "origins.plot(ax=ax, column=\"POPULATION\", zorder=10, legend=True,\n",
    "             legend_kwds={\n",
    "                 \"label\": \"Population per region\",\n",
    "                 \"shrink\": 0.75,\n",
    "                 \"pad\": 0.02,\n",
    "                 \"orientation\": \"horizontal\"\n",
    "             })\n",
    "xlim = ax.get_xlim()\n",
    "ylim = ax.get_ylim()\n",
    "gadm.boundary.plot(ax=ax, color='k')\n",
    "\n",
    "ax.set_title(\"RA2CE Origin points\")\n",
    "ax.set_xlim(xlim)\n",
    "ax.set_ylim(ylim)"
   ]
  },
  {
   "cell_type": "markdown",
   "metadata": {},
   "source": [
    "Create Destination Points"
   ]
  },
  {
   "cell_type": "code",
   "execution_count": 11,
   "metadata": {},
   "outputs": [],
   "source": [
    "feats = ox.features_from_polygon(region.geometry[0],tags={\"amenity\":[\"hospital\"]})"
   ]
  },
  {
   "cell_type": "code",
   "execution_count": null,
   "metadata": {},
   "outputs": [],
   "source": [
    "dest= feats.reset_index()[[\"osmid\",\"amenity\",\"geometry\"]]\n",
    "dest = dest.rename(columns={\"amenity\": \"category\"})\n",
    "dest['geometry'] = dest['geometry'].centroid"
   ]
  },
  {
   "cell_type": "code",
   "execution_count": null,
   "metadata": {},
   "outputs": [],
   "source": [
    "dest.to_file(ra2ce_root/\"static\"/\"network\"/\"destinations.gpkg\", driver=\"GPKG\")"
   ]
  },
  {
   "cell_type": "code",
   "execution_count": null,
   "metadata": {},
   "outputs": [],
   "source": [
    "fig = plt.figure(figsize=(10,8))\n",
    "ax= plt.subplot(projection=proj)\n",
    "ax.add_image(cimgt.OSM(),10)\n",
    "\n",
    "origins.plot(ax=ax, column=\"POPULATION\")\n",
    "# dest.plot(ax=ax, marker='o', color=\"w\", markersize=50)\n",
    "dest.plot(ax=ax, marker='P', color=\"r\", markersize=150, edgecolor='w', linewidth=2)"
   ]
  },
  {
   "cell_type": "markdown",
   "metadata": {},
   "source": [
    "Setup RA2CE network"
   ]
  },
  {
   "cell_type": "code",
   "execution_count": null,
   "metadata": {},
   "outputs": [],
   "source": [
    "setup_ra2ce(model_path)"
   ]
  },
  {
   "cell_type": "markdown",
   "metadata": {},
   "source": [
    "Plot RA2CE network"
   ]
  },
  {
   "cell_type": "code",
   "execution_count": 3,
   "metadata": {},
   "outputs": [],
   "source": [
    "network_fn = ra2ce_root/\"static\"/\"output_graph\"/\"base_network.gpkg\"\n",
    "network = gpd.read_file(network_fn)"
   ]
  },
  {
   "cell_type": "code",
   "execution_count": null,
   "metadata": {},
   "outputs": [],
   "source": [
    "hazard_fn = model_path / \"output\" / \"Scenarios\" / \"Empty_Event_current_no_measures\" / \"Flooding\" / \"FloodMap_Empty_Event_current_no_measures.tif\""
   ]
  },
  {
   "cell_type": "code",
   "execution_count": 25,
   "metadata": {},
   "outputs": [],
   "source": [
    "hazard = xr.open_dataarray(hazard_fn)"
   ]
  },
  {
   "cell_type": "code",
   "execution_count": 29,
   "metadata": {},
   "outputs": [],
   "source": [
    "network_repr = network.to_crs(hazard.raster.crs)"
   ]
  },
  {
   "cell_type": "code",
   "execution_count": null,
   "metadata": {},
   "outputs": [],
   "source": [
    "fig = plt.figure(figsize=(10,8))\n",
    "ax= plt.subplot()\n",
    "# ax.add_image(cimgt.OSM(),10)\n",
    "\n",
    "network_repr.plot(ax=ax, color='k', linewidth=.5)\n",
    "xlim = ax.get_xlim()\n",
    "ylim = ax.get_ylim()\n",
    "hazard.plot(ax=ax, zorder=1, alpha=0.5)\n",
    "ax.set_xlim(xlim)\n",
    "ax.set_ylim(ylim)"
   ]
  },
  {
   "cell_type": "code",
   "execution_count": 20,
   "metadata": {},
   "outputs": [],
   "source": [
    "hazard = hazard.raster.reproject(4326)"
   ]
  },
  {
   "cell_type": "code",
   "execution_count": null,
   "metadata": {},
   "outputs": [],
   "source": [
    "hazard.plot()"
   ]
  },
  {
   "cell_type": "code",
   "execution_count": null,
   "metadata": {},
   "outputs": [],
   "source": [
    "fig = plt.figure(figsize=(10,8))\n",
    "ax= plt.subplot(projection=proj)\n",
    "ax.add_image(cimgt.OSM(),10)\n",
    "\n",
    "network.plot(ax=ax, color='k', linewidth=.5)\n",
    "xlim = ax.get_xlim()\n",
    "ylim = ax.get_ylim()\n",
    "origins.plot(ax=ax, column=\"POPULATION\", zorder=10)\n",
    "dest.plot(ax=ax, marker='P', color=\"r\", markersize=150, edgecolor='w', linewidth=2,zorder=9)\n",
    "hazard.plot(ax=ax, zorder=1, alpha=0.5)\n",
    "ax.set_xlim(xlim)\n",
    "ax.set_ylim(ylim)"
   ]
  },
  {
   "cell_type": "code",
   "execution_count": null,
   "metadata": {},
   "outputs": [],
   "source": [
    "network.explore(column='highway')"
   ]
  },
  {
   "cell_type": "code",
   "execution_count": null,
   "metadata": {},
   "outputs": [],
   "source": []
  }
 ],
 "metadata": {
  "kernelspec": {
   "display_name": "DT-flood-ra2ce",
   "language": "python",
   "name": "python3"
  },
  "language_info": {
   "codemirror_mode": {
    "name": "ipython",
    "version": 3
   },
   "file_extension": ".py",
   "mimetype": "text/x-python",
   "name": "python",
   "nbconvert_exporter": "python",
   "pygments_lexer": "ipython3",
   "version": "3.11.11"
  }
 },
 "nbformat": 4,
 "nbformat_minor": 2
}
