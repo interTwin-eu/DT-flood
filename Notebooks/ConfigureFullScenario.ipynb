{
 "cells": [
  {
   "cell_type": "markdown",
   "metadata": {},
   "source": [
    "# Configure a Scenario for FloodAdapt\n",
    "\n",
    "This notebook allows a user to configure a scenario to run using FloodAdapt. This includes a weather event, possible future climate or socio-economic projections, and adaptation measures. The user will be asked to provide input wherever necessay. The data needed to set up the weather event will be automatically fetched based on provided info.\\\n",
    "For both fetching the data and running the worklow, the right credentials are necessary. This is handled through EGI SSO, where the user should be a member of the dev.intertwin.eu VO"
   ]
  },
  {
   "cell_type": "markdown",
   "metadata": {},
   "source": [
    "## **Step 0:** Import dependencies"
   ]
  },
  {
   "cell_type": "code",
   "execution_count": null,
   "metadata": {},
   "outputs": [],
   "source": [
    "from pathlib import Path\n",
    "\n",
    "from flood_adapt.objects.measures.measures import MeasureType\n",
    "\n",
    "from DT_flood.utils.fa_scenario_utils import (\n",
    "    create_event,\n",
    "    create_measure,\n",
    "    create_projection,\n",
    "    create_scenario,\n",
    "    create_strategy,\n",
    "    get_database,\n",
    ")\n",
    "from DT_flood.utils.plot_utils import draw_database_map\n",
    "from DT_flood.utils.plotting.fiat import list_agg_areas\n",
    "from DT_flood.utils.workflow_utils import run_scenario\n"
   ]
  },
  {
   "cell_type": "markdown",
   "metadata": {},
   "source": [
    "## **Step 1:** Load FloodAdapt database"
   ]
  },
  {
   "cell_type": "code",
   "execution_count": null,
   "metadata": {},
   "outputs": [],
   "source": [
    "# Path to the FloodAdapt database for which we are configuring scenarios\n",
    "fa_database = Path(\"/home/wotromp/InterTwin/workflow_refactor/fa_database/Humber_new\")\n",
    "\n",
    "database = get_database(database_path=fa_database)"
   ]
  },
  {
   "cell_type": "markdown",
   "metadata": {},
   "source": [
    "## **Step 2:** Configure the weather Event\n",
    "\n",
    "Here we will specify everything needed to setup an event. For now we will only consider scenarios which involve just a single event.\n",
    "\n",
    "To fully specify an event we will need the following:\n",
    "- A name for referencing\n",
    "- Start and end time and dates\n",
    "\n",
    "The relevant forcing data will be automatically fetched from the InterTwin datalake using rucio. This will default to using ERA5 data for all forcing variables for both SFINCS and WFLOW, except for the waterlevels at SFINCS' coastal boundary for which we use GTSM data. To use other data sources, please make sure the relevant data is on the datalake and provide the correct rucio scopes in dictionaries passed to the `sf_forcing` argument for SFINCS and `wf_forcing` for WFLOW.\n",
    "\n",
    "Should you provide a name of an already existing event, no new event will be created and the existing one will be returned instead."
   ]
  },
  {
   "cell_type": "code",
   "execution_count": null,
   "metadata": {},
   "outputs": [],
   "source": [
    "# Get list of already existing events\n",
    "events_existing = database.get_events()\n",
    "print(events_existing['name'])"
   ]
  },
  {
   "cell_type": "code",
   "execution_count": null,
   "metadata": {},
   "outputs": [],
   "source": [
    "# Name of event\n",
    "event_name = 'test_event_rucio2'\n",
    "\n",
    "# Start and end times of the event\n",
    "start_time = '2013-12-04 00:00:00'\n",
    "end_time = '2013-12-10 00:00:00'\n"
   ]
  },
  {
   "cell_type": "code",
   "execution_count": null,
   "metadata": {},
   "outputs": [],
   "source": [
    "# Create event\n",
    "event = create_event(database=database, name=event_name, start_time=start_time, end_time=end_time)"
   ]
  },
  {
   "cell_type": "markdown",
   "metadata": {},
   "source": [
    "## **Step 3:** Configure projections\n",
    "\n",
    "Here we specify, where applicable, the projected future changes relevant to our scenario. These come in two flavors: physical projections and socio-economic changes. The former contains changes on the hazard side (sea level rise, land subsidence etc.) while the latter contains changes to the impact side (population growth, economic growth etc.).\\\n",
    "The supported projections are:\\\n",
    "\\\n",
    "**Physical Projections:**\n",
    "- Sea level rise\n",
    "- Rainfall increase\n",
    "\n",
    "**Socio-Economic Projections:**\n",
    "- Population growth\n",
    "- Economic growth\n",
    "\n",
    "Should you provide a name of an already existing projection, no new projection will be created and the existing one will be returned instead."
   ]
  },
  {
   "cell_type": "code",
   "execution_count": null,
   "metadata": {},
   "outputs": [],
   "source": [
    "# Get list of already existing projections\n",
    "proj_existing = database.get_projections()\n",
    "print(proj_existing['name'])"
   ]
  },
  {
   "cell_type": "code",
   "execution_count": null,
   "metadata": {},
   "outputs": [],
   "source": [
    "# Name of projection\n",
    "projection_name = 'slr_test_pop_growth'\n",
    "\n",
    "# Physical projections\n",
    "sea_level_rise = 1.5\n",
    "rainfall_increase = 0\n",
    "\n",
    "\n",
    "# Socio-Economic projections\n",
    "pop_growth = 10\n",
    "economic_growth = 0"
   ]
  },
  {
   "cell_type": "code",
   "execution_count": null,
   "metadata": {},
   "outputs": [],
   "source": [
    "# Create Projection\n",
    "projection = create_projection(database=database, name=projection_name, sea_level_rise=sea_level_rise)"
   ]
  },
  {
   "cell_type": "markdown",
   "metadata": {},
   "source": [
    "## **Step 4a:** Configure Measures\n",
    "\n",
    "Here we configure all the measure we want to implement for this scenario. These come in either Impact or Hazard types, either reducing the vulnerability to a hazard, or dampen the hazard itself.\\\n",
    "The supported measures are:\\\n",
    "\\\n",
    "**Hazard Type:**\n",
    "- Floodwall\n",
    "- Pump\n",
    "- Water square\n",
    "- Green infrastructure\n",
    "- Water storage\n",
    "\n",
    "**Impact Type:**\n",
    "- Elevate properties\n",
    "- Floodproof properties\n",
    "- Buyout properties\n",
    "\n",
    "All measures need an area specification where they act. The function `draw_database_map()` below will open an interactive map where you can draw geometries to use as area selected. The selected area will be stored in the `selected_geom` variable. Impact measures can also act on an aggregation zone level. To use this, pass the `agg_area_name` argument with a name of an aggregation zone to the `draw_database_map()` function. You can then click on an aggregation zone to select it. If no geometry or area is selected, `selected_geom` will default to `all`, meaning the measure will either act on the entire domain (for Impact measures) or throw an error (for Hazard measures, since it is not a valid selection type)\n",
    "\n",
    "Most measures also have a parameter describing the measure (height of a floodwall, elevation of newly elevated homes, etc.). The value of this parameter is to be set in the `measure_value` variable. The exceptions here are the Water storage, Greening, and Water Square measures. These require a list of 3 numbers describing in order the volume, height, and percentage area of the measure. See the [FloodAdapt documention](https://deltares-research.github.io/FloodAdapt/api_ref/objects/Measure.html) for more details.\n",
    "\n",
    "Should you provide a name of an already existing meausure, no new measure will be created and the existing one will be returned instead."
   ]
  },
  {
   "cell_type": "code",
   "execution_count": null,
   "metadata": {},
   "outputs": [],
   "source": [
    "# print some useful stuff\n",
    "\n",
    "print(\"Existing measures:\")\n",
    "meas_existing = database.get_measures()\n",
    "print(meas_existing['name'])\n",
    "\n",
    "print(\"Allowed measure types:\")\n",
    "print([e.value for e in MeasureType])\n",
    "\n",
    "print(\"Existing Aggreagation area types:\")\n",
    "print(list_agg_areas(database=database))\n"
   ]
  },
  {
   "cell_type": "code",
   "execution_count": null,
   "metadata": {},
   "outputs": [],
   "source": [
    "m, selected_geom = draw_database_map(database, agg_area_name=\"AdminZonesLevel3\")\n",
    "m"
   ]
  },
  {
   "cell_type": "code",
   "execution_count": null,
   "metadata": {},
   "outputs": [],
   "source": [
    "# Double check selected geom/area\n",
    "selected_geom"
   ]
  },
  {
   "cell_type": "code",
   "execution_count": null,
   "metadata": {},
   "outputs": [],
   "source": [
    "# Set measure parameters\n",
    "measure_name = \"test_pump_estuary\"\n",
    "measure_type = \"pump\"\n",
    "\n",
    "measure_value = 10.0\n",
    "property_type = \"commercial\""
   ]
  },
  {
   "cell_type": "code",
   "execution_count": null,
   "metadata": {},
   "outputs": [],
   "source": [
    "# Create measure\n",
    "measure = create_measure(database=database, name=measure_name, measure_type=measure_type, value=measure_value, selection=selected_geom, property_type=property_type)"
   ]
  },
  {
   "cell_type": "code",
   "execution_count": null,
   "metadata": {},
   "outputs": [],
   "source": [
    "# Double check measure set up worked (validation of measure selection type only happens when trying to fetch it from database)\n",
    "print(\"Existing measures:\")\n",
    "meas_existing = database.get_measures()\n",
    "print(meas_existing['name'])"
   ]
  },
  {
   "cell_type": "markdown",
   "metadata": {},
   "source": [
    "## **Step 4b:** Setup a strategy\n",
    "\n",
    "Within a single scenario, multiple measures can be applied simultaneously when bundled together in a strategy. Here you can create a strategy by listing the measures you want to bundle in the `measure_list` variable.\n",
    "\n",
    "Should you provide a name of an already existing strategy, no new strategy will be created and the existing one will be returned instead."
   ]
  },
  {
   "cell_type": "code",
   "execution_count": null,
   "metadata": {},
   "outputs": [],
   "source": [
    "print(\"Existing strategies:\")\n",
    "strat_existing = database.get_strategies()\n",
    "print(strat_existing[\"name\"])"
   ]
  },
  {
   "cell_type": "code",
   "execution_count": null,
   "metadata": {},
   "outputs": [],
   "source": [
    "print(\"Existing measures:\")\n",
    "meas_existing = database.get_measures()\n",
    "print(meas_existing['name'])"
   ]
  },
  {
   "cell_type": "code",
   "execution_count": null,
   "metadata": {},
   "outputs": [],
   "source": [
    "# Set strategy parameters\n",
    "strategy_name = \"test_strategy_floodproof\"\n",
    "measure_list = [\"test_floodproof\"]"
   ]
  },
  {
   "cell_type": "code",
   "execution_count": null,
   "metadata": {},
   "outputs": [],
   "source": [
    "# Create strategy\n",
    "strategy = create_strategy(database=database, name=strategy_name, measure_list=measure_list)"
   ]
  },
  {
   "cell_type": "markdown",
   "metadata": {},
   "source": [
    "## **Step 5:** Collect everything into a single Scenario\n",
    "\n",
    "With events, projections, and strategies configured, we can now define a scenario to run. To do this, simply set the `scenario_event`, `scenario_strat`, and `scenario_proj` variables to the names of the desired event, strategy, and projection resp.\n",
    "\n",
    "Should you provide a name of an already existing scenario, no new scenario will be created and the existing one will be returned instead."
   ]
  },
  {
   "cell_type": "code",
   "execution_count": null,
   "metadata": {},
   "outputs": [],
   "source": [
    "events_existing = database.get_events()\n",
    "print(events_existing['name'])"
   ]
  },
  {
   "cell_type": "code",
   "execution_count": null,
   "metadata": {},
   "outputs": [],
   "source": [
    "print(\"Existing strategies:\")\n",
    "strat_existing = database.get_strategies()\n",
    "print(strat_existing[\"name\"])"
   ]
  },
  {
   "cell_type": "code",
   "execution_count": null,
   "metadata": {},
   "outputs": [],
   "source": [
    "proj_existing = database.get_projections()\n",
    "print(proj_existing['name'])"
   ]
  },
  {
   "cell_type": "code",
   "execution_count": null,
   "metadata": {},
   "outputs": [],
   "source": [
    "scen_existing = database.get_scenarios()\n",
    "print(scen_existing[\"name\"])"
   ]
  },
  {
   "cell_type": "code",
   "execution_count": null,
   "metadata": {},
   "outputs": [],
   "source": [
    "# Set scenario parameters\n",
    "scenario_name = \"test_scenario_floodproof_only_pop_growth\"\n",
    "scenario_event = event.name # To use event just configured above, or name str of other pre-existing event\n",
    "scenario_strat = strategy.name # To use strategy just configured above, or name str of other pre-existing strategy\n",
    "scenario_proj = projection.name # To use projection just configured above, or name str of other pre-existing projection"
   ]
  },
  {
   "cell_type": "code",
   "execution_count": null,
   "metadata": {},
   "outputs": [],
   "source": [
    "# Create scenario\n",
    "scenario = create_scenario(database=database, name=scenario_name, event=scenario_event, strategy=scenario_strat, projection=scenario_proj)"
   ]
  },
  {
   "cell_type": "markdown",
   "metadata": {},
   "source": [
    "## **Step 6:** Launch workflow\n",
    "\n",
    "With a complete definition of the scenario we can run the workflow. To run the underlying models we will use OSCAR to trigger the relevant containers/services. For this to work we need to specify the oscar cluster where the services are defined in the `oscar_endpoint` variable, and provide an access token in `oscar_token`. For the latter we use refresh tokens from EGI SSO Check-in Portal.\\\n",
    "Other arguments can be set to configure the name of the OSCAR output folder (used internally during workflow execution), whether to offload the OSCAR services to HPC using InterLink, or enable caching of steps and verbose output to assist debugging."
   ]
  },
  {
   "cell_type": "code",
   "execution_count": null,
   "metadata": {},
   "outputs": [],
   "source": [
    "scen_existing = database.get_scenarios()\n",
    "print(scen_existing[\"name\"])"
   ]
  },
  {
   "cell_type": "code",
   "execution_count": null,
   "metadata": {},
   "outputs": [],
   "source": [
    "scenario_name = \"test_scenario_no_floodwall\"\n",
    "\n",
    "oscar_endpoint = 'https://oscar-ukri.intertwin.fedcloud.eu'\n",
    "oscar_token = \"\""
   ]
  },
  {
   "cell_type": "code",
   "execution_count": null,
   "metadata": {},
   "outputs": [],
   "source": [
    "run_scenario(database=database, scenario_name=scenario_name, oscar_endpoint=oscar_endpoint, oscar_token=oscar_token, debug=True)"
   ]
  },
  {
   "cell_type": "markdown",
   "metadata": {},
   "source": [
    "## **Step 7:** Plot results\n",
    "\n",
    "With a succesfull run of a scenario completed, we can inspect and visualize the models and results from the scenario. The cells below will create interactive maps, one for each model, displaying both input and output data for each model. The plot markers are clickable, which will create a popup with graph or other information. "
   ]
  },
  {
   "cell_type": "code",
   "execution_count": null,
   "metadata": {},
   "outputs": [],
   "source": [
    "from DT_flood.utils.plot_utils import (\n",
    "    draw_scenario_fiat,\n",
    "    draw_scenario_ra2ce,\n",
    "    draw_scenario_sfincs,\n",
    "    draw_scenario_wflow,\n",
    ")\n",
    "\n",
    "scenario_name = \"test_scenario_no_floodwall\""
   ]
  },
  {
   "cell_type": "markdown",
   "metadata": {},
   "source": [
    "The cell below will create an interactive map for the SFINCS model. The argument `layer` currently can take as input either \"dep\" or \"floodmap\". This will create a static map of either the topobathy used by SFINCS or the floodmap it outputted. In addition, the river geometries used by SFINCS, and the points where forcing is set are plotted, both river discharge (dis points) and coastal waterlevels (bzs points). The forcing points are clickable, displaying a graph of the forcing timeseries at that point."
   ]
  },
  {
   "cell_type": "code",
   "execution_count": null,
   "metadata": {},
   "outputs": [],
   "source": [
    "draw_scenario_sfincs(database, scenario_name, layer=\"dep\")"
   ]
  },
  {
   "cell_type": "markdown",
   "metadata": {},
   "source": [
    "The cell below creates a map for the WFLOW model. First click on the button in the topright to select whether the warmup run or the event run is to be shown. The topography, river geometries, and reservoir geometries used in the model are shown as static plots. The plot markers are for either the points where a timeseries is outputted to use in SFINCS, or the downstream most point of a basin. Clicking on one of the points will create a popup showing the timeseries graph for the discharge at that point."
   ]
  },
  {
   "cell_type": "code",
   "execution_count": null,
   "metadata": {},
   "outputs": [],
   "source": [
    "draw_scenario_wflow(database, scenario_name)"
   ]
  },
  {
   "cell_type": "markdown",
   "metadata": {},
   "source": [
    "This will create a map for the Delft-FIAT output. The `agg_layer` arguments takes as input either the name of an aggregation area used in the model, or \"building_footprints\". In the former case the map will display the building damages aggregated into the indicated areas, in the latter on an individual building level. *Note: doing this may take a long time for any reasonably sized area*. The floodmap used in the model is also overlayed."
   ]
  },
  {
   "cell_type": "code",
   "execution_count": null,
   "metadata": {},
   "outputs": [],
   "source": [
    "draw_scenario_fiat(database, scenario_name, agg_layer=\"gadm_level3\")"
   ]
  },
  {
   "cell_type": "markdown",
   "metadata": {},
   "source": [
    "The cell below opens an interactive map displaying the data from the RA2CE model on top of the floodmap for the scenario. The road network used is shown, with the damage to road sections indicated. The origin and destination points are plotted. Clicking on an origin point will show to route to the nearest destination point in both the base (non-flooded) case and the flooding case, together with a popup with additional information. *Note: in the case of a coarse/sparse roadnetwork, the routes may not be what is expected based on the plotted origin and destination points. This is because the points are plotted on their originally indicated position during model setup, not at the location at which they are snapped to the network during calculation.*"
   ]
  },
  {
   "cell_type": "code",
   "execution_count": null,
   "metadata": {},
   "outputs": [],
   "source": [
    "draw_scenario_ra2ce(database, scenario_name)"
   ]
  },
  {
   "cell_type": "code",
   "execution_count": null,
   "metadata": {},
   "outputs": [],
   "source": []
  }
 ],
 "metadata": {
  "kernelspec": {
   "display_name": "DT-flood",
   "language": "python",
   "name": "python3"
  },
  "language_info": {
   "codemirror_mode": {
    "name": "ipython",
    "version": 3
   },
   "file_extension": ".py",
   "mimetype": "text/x-python",
   "name": "python",
   "nbconvert_exporter": "python",
   "pygments_lexer": "ipython3",
   "version": "3.11.13"
  }
 },
 "nbformat": 4,
 "nbformat_minor": 4
}
