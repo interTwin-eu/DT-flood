{
 "cells": [
  {
   "cell_type": "code",
   "execution_count": 4,
   "metadata": {},
   "outputs": [],
   "source": [
    "import numpy as np\n",
    "from pathlib import Path\n",
    "import xarray as xr\n",
    "import rioxarray\n",
    "import matplotlib.pyplot as plt\n",
    "from matplotlib import colors\n",
    "from matplotlib.cm import get_cmap\n",
    "import matplotlib.patches as mpatches\n",
    "import cartopy.crs as ccrs\n",
    "import cartopy.io.img_tiles as cimgt\n",
    "import geopandas as gpd\n",
    "\n",
    "from hydromt.data_catalog import DataCatalog\n",
    "from hydromt_sfincs import SfincsModel\n",
    "from hydromt_wflow import WflowModel\n",
    "from hydromt_fiat.fiat import FiatModel\n",
    "from hydromt_sfincs.utils import downscale_floodmap\n",
    "\n",
    "from flood_adapt.api import static\n",
    "from flood_adapt.api.scenarios import get_scenario\n",
    "from DT_flood.utils.plot_utils import plot_wflow_model, plot_fiat_model, plot_sfincs_model"
   ]
  },
  {
   "cell_type": "code",
   "execution_count": null,
   "metadata": {},
   "outputs": [],
   "source": [
    "# Path and name of FloodAdapt database\n",
    "db_path = Path(\"/home/wotromp/InterTwin/FloodAdapt_database\")\n",
    "db_name = \"Humber\"\n",
    "# Read database\n",
    "db = static.read_database(database_path=db_path, site_name=db_name)\n",
    "\n",
    "# Name of the scenario to visualize\n",
    "scenario_name = \"Empty_Event_current_no_measures\"\n",
    "# Read scenario\n",
    "scenario = get_scenario(name=scenario_name, database=db)\n",
    "# Get output path\n",
    "out_path = scenario.results_path\n",
    "\n",
    "# Set some useful paths\n",
    "floodmap_fn = out_path/\"Flooding\"/f\"FloodMap_{scenario.attrs.name}.tif\"\n",
    "sf_path = out_path/\"Flooding\"/\"simulations\"/\"overland\"\n",
    "wf_path = out_path/\"Flooding\"/\"simulations\"/\"wflow_event\"\n",
    "fiat_path = out_path/\"Impacts\"/\"fiat_model\"\n",
    "\n",
    "# Init data catalog\n",
    "data_catalogues = [Path(\"/home/wotromp/InterTwin/Data/gtsm_catalogue.yml\"), Path(\"/home/wotromp/DestinE_workflows/deltares_data_wsl.yml\")]\n",
    "dc = DataCatalog(data_libs=data_catalogues)\n",
    "\n",
    "region = gpd.read_file(db_path/db_name/\"HumberDelta_large.geojson\")\n",
    "\n",
    "proj = ccrs.PlateCarree()"
   ]
  },
  {
   "cell_type": "code",
   "execution_count": null,
   "metadata": {},
   "outputs": [],
   "source": [
    "sf = SfincsModel(\n",
    "    root=sf_path,\n",
    "    mode='r',\n",
    "    data_libs=data_catalogues,\n",
    ")\n",
    "sf.read()\n",
    "\n",
    "wf = WflowModel(\n",
    "    root=wf_path,\n",
    "    mode='r',\n",
    "    data_libs=data_catalogues\n",
    ")\n",
    "\n",
    "fiat = FiatModel(root=fiat_path, mode='r')\n",
    "fiat.read()\n",
    "gdf_fiat = fiat.exposure.get_full_gdf(fiat.exposure.exposure_db)"
   ]
  },
  {
   "cell_type": "code",
   "execution_count": 70,
   "metadata": {},
   "outputs": [],
   "source": [
    "dep_da = xr.open_dataset(db.static_path/\"dem\"/\"Humber_subgrid.tif\")\n",
    "gswo = dc.get_rasterdataset(\"gswo\", geom=sf.region, buffer=100)\n",
    "gswo_mask = gswo.raster.reproject_like(sf.grid, method=\"max\") <= 5\n",
    "gadm = dc.get_geodataframe('gadm_level3_v3.6',geom=sf.region)"
   ]
  },
  {
   "cell_type": "code",
   "execution_count": null,
   "metadata": {},
   "outputs": [],
   "source": [
    "plot_sfincs_model(sf)"
   ]
  },
  {
   "cell_type": "code",
   "execution_count": null,
   "metadata": {},
   "outputs": [],
   "source": [
    "plot_wflow_model(wf)"
   ]
  },
  {
   "cell_type": "code",
   "execution_count": 73,
   "metadata": {},
   "outputs": [],
   "source": [
    "hmin= 0.01\n",
    "# hmax = downscale_floodmap(\n",
    "#     zsmax=sf.results['zsmax'].where(gswo_mask),#.where(sf.results['zsmax']>hmin),\n",
    "#     dep=dep_da['band_data'],\n",
    "#     hmin=hmin,\n",
    "# )\n",
    "hmax = downscale_floodmap(\n",
    "    zsmax=sf.results['zsmax'],\n",
    "    dep=dep_da['band_data'],\n",
    "    hmin=hmin,\n",
    "    gdf_mask=gadm,\n",
    ")\n",
    "# h = []\n",
    "# for time in sf.results['zs'].time:\n",
    "#     # print(f\"Downscaling for time {time}\")\n",
    "#     tmp = downscale_floodmap(\n",
    "#         zsmax=sf.results['zs'].sel(time=time).where(gswo_mask),\n",
    "#         dep=dep_da['band_data'],\n",
    "#         hmin=hmin\n",
    "#     )\n",
    "#     h.append(tmp)\n",
    "\n",
    "# h_xr = xr.concat(h, dim='time')\n",
    "# h_xr['time'] = sf.results['zs'].time\n",
    "# h_xr = h_xr.squeeze(drop=True)\n",
    "# del tmp, h"
   ]
  },
  {
   "cell_type": "code",
   "execution_count": 75,
   "metadata": {},
   "outputs": [],
   "source": [
    "hmax = hmax.squeeze().rio.reproject(\"EPSG:4326\")\n",
    "# h_xr = h_xr.squeeze().rio.reproject(\"EPSG:4326\")"
   ]
  },
  {
   "cell_type": "code",
   "execution_count": null,
   "metadata": {},
   "outputs": [],
   "source": [
    "region.total_bounds[[0,2]]"
   ]
  },
  {
   "cell_type": "code",
   "execution_count": null,
   "metadata": {},
   "outputs": [],
   "source": [
    "fig = plt.figure(figsize=(14,12))\n",
    "ax = fig.add_subplot(projection=proj)\n",
    "hmax.plot(ax=ax, vmin=0, vmax=3, cmap=\"Blues\",\n",
    "          cbar_kwargs={\n",
    "              'shrink': 0.3,\n",
    "              \"pad\": 0.02,\n",
    "          })\n",
    "ax.set_xlim(region.total_bounds[[0,2]])\n",
    "ax.set_ylim(region.total_bounds[[1,3]])\n",
    "ax.add_image(cimgt.OSM(),10, interpolation='bilinear', alpha=0.5)\n",
    "ax.xaxis.set_visible(True)\n",
    "ax.yaxis.set_visible(True)\n",
    "ax.set_ylabel(\"Latitude [deg]\")\n",
    "ax.set_xlabel(\"Longitude [deg]\")\n",
    "# ax.set_title(f\"Floodmap for event {scenario_name}\")\n",
    "ax.set_title(\"Maximum Flood Extent\")"
   ]
  },
  {
   "cell_type": "code",
   "execution_count": 45,
   "metadata": {},
   "outputs": [],
   "source": [
    "floodmap = xr.open_dataarray(floodmap_fn)\n",
    "floodmap = floodmap.rio.reproject(\"EPSG:4326\").squeeze()"
   ]
  },
  {
   "cell_type": "code",
   "execution_count": null,
   "metadata": {},
   "outputs": [],
   "source": [
    "gadm.unary_union.plot()"
   ]
  },
  {
   "cell_type": "code",
   "execution_count": null,
   "metadata": {},
   "outputs": [],
   "source": [
    "fig = plt.figure(figsize=(14,12))\n",
    "ax = fig.add_subplot(projection=proj)\n",
    "floodmap.plot(ax=ax,\n",
    "              vmin=0, vmax=3,\n",
    "              cmap=\"Blues\",\n",
    "              cbar_kwargs={\n",
    "                  'shrink': 0.3,\n",
    "                  \"pad\": 0.02\n",
    "              })"
   ]
  },
  {
   "cell_type": "code",
   "execution_count": null,
   "metadata": {},
   "outputs": [],
   "source": [
    "sf.forcing.keys()"
   ]
  },
  {
   "cell_type": "code",
   "execution_count": null,
   "metadata": {},
   "outputs": [],
   "source": [
    "sf.forcing['wind_u']"
   ]
  },
  {
   "cell_type": "code",
   "execution_count": null,
   "metadata": {},
   "outputs": [],
   "source": [
    "sf.forcing['press_2d'].isel(time=67).plot.contour()"
   ]
  },
  {
   "cell_type": "code",
   "execution_count": null,
   "metadata": {},
   "outputs": [],
   "source": [
    "sf.forcing['press_2d'].min().values"
   ]
  },
  {
   "cell_type": "code",
   "execution_count": null,
   "metadata": {},
   "outputs": [],
   "source": [
    "h_xr.isel(time=40).plot()"
   ]
  },
  {
   "cell_type": "code",
   "execution_count": null,
   "metadata": {},
   "outputs": [],
   "source": [
    "h_xr.max().values"
   ]
  },
  {
   "cell_type": "code",
   "execution_count": null,
   "metadata": {},
   "outputs": [],
   "source": [
    "h_xr.chunk(dict(time=-1)).quantile([0.,0.98]).compute()"
   ]
  },
  {
   "cell_type": "code",
   "execution_count": null,
   "metadata": {},
   "outputs": [],
   "source": [
    "from matplotlib import animation\n",
    "\n",
    "# da = sf.forcing['press_2d']\n",
    "da = h_xr\n",
    "\n",
    "step = 12\n",
    "\n",
    "# vmin, vmax = da.quantile([0., 0.98]).compute()\n",
    "vmin=0\n",
    "vmax=3\n",
    "c_dem = plt.cm.viridis(np.linspace(0.25, 1, 512))\n",
    "cmap = colors.LinearSegmentedColormap.from_list(\"dem\", c_dem)\n",
    "norm = colors.Normalize(vmin=vmin, vmax=vmax)\n",
    "cmap_kwargs = dict(cmap=cmap, norm=norm) \n",
    "\n",
    "# def update_plot(i, da_h, cax_h):\n",
    "#     da_hi = da_h.isel(time=i)\n",
    "#     t = da_hi.time.dt.strftime(\"%d-%B-%Y %H:%M:%S\").item()\n",
    "#     ax.set_title(f\"Pressure Forcing {t}, max values: {da_hi.max().values}\")\n",
    "#     cax_h.set_array(da_hi.values.ravel())\n",
    "#     cax_h.set_clim(vmin=da_hi.min().values, vmax=da_hi.max().values)\n",
    "\n",
    "def update_plot(i, da_h):\n",
    "    global cax_h, cl\n",
    "    da_hi = da_h.isel(time=i)\n",
    "    # for c in cax_h.collections:\n",
    "    #     c.remove()\n",
    "    # for l in cl:\n",
    "    #     l.remove()\n",
    "    cax_h = da_hi.plot(\n",
    "        x='x', y='y', ax=ax,\n",
    "        vmin=vmin, vmax=vmax, levels=100\n",
    "    )\n",
    "    # cax_h.set_clim(vmin=da_h.min().values, vmax=da_h.max().values)\n",
    "    # cl = ax.clabel(cax_h)\n",
    "    return cax_h\n",
    "\n",
    "fig = plt.figure(figsize=(10,8))\n",
    "ax = fig.add_subplot(projection=proj)\n",
    "ax.add_image(cimgt.OSM(),10, interpolation='bilinear')\n",
    "\n",
    "# cax_h = da.isel(time=0).plot.contour(\n",
    "#     x='x', y='y',\n",
    "#     ax=ax,\n",
    "#     vimn=vmin, vmax=vmax, levels=100,\n",
    "#     # vmin=da.min().values, vmax=da.max().values, levels=100,\n",
    "#     # add_colorbar=True,\n",
    "#     # cbar_kwargs=cbar_kwargs\n",
    "# )\n",
    "# cbar = fig.colorbar(cax_h)\n",
    "\n",
    "# for c in cax_h.collections:\n",
    "#     c.remove()\n",
    "\n",
    "cax_h = da.isel(time=0).plot(\n",
    "    x='x', y='y',\n",
    "    ax=ax,\n",
    "    vmin=vmin, vmax=vmax, levels=100,\n",
    "    # vmin=da.min().values, vmax=da.max().values, levels=100,\n",
    "    # add_colorbar=True,\n",
    "    # cbar_kwargs=cbar_kwargs\n",
    ")\n",
    "# cl = ax.clabel(cax_h)\n",
    "\n",
    "\n",
    "ani = animation.FuncAnimation(\n",
    "    fig,\n",
    "    update_plot,\n",
    "    frames=np.arange(0,da.time.size,step),\n",
    "    interval=250,\n",
    "    fargs=[da]\n",
    ")\n",
    "\n",
    "plt.close()\n",
    "\n",
    "# ani.save('test_forcing_animation.gif', fps=4, dpi=200)\n",
    "\n",
    "#show in notebook\n",
    "from IPython.display import HTML\n",
    "\n",
    "HTML(ani.to_jshtml())"
   ]
  },
  {
   "cell_type": "code",
   "execution_count": null,
   "metadata": {},
   "outputs": [],
   "source": [
    "c_dem.shape"
   ]
  },
  {
   "cell_type": "markdown",
   "metadata": {},
   "source": [
    "## FIAT output"
   ]
  },
  {
   "cell_type": "code",
   "execution_count": null,
   "metadata": {},
   "outputs": [],
   "source": [
    "plot_fiat_model(fiat)"
   ]
  },
  {
   "cell_type": "code",
   "execution_count": null,
   "metadata": {},
   "outputs": [],
   "source": [
    "fiat_output_path = fiat_path/\"output\"/\"spatial.gpkg\""
   ]
  },
  {
   "cell_type": "code",
   "execution_count": null,
   "metadata": {},
   "outputs": [],
   "source": [
    "fiat_output = gpd.read_file(fiat_output_path).to_crs(\"EPSG:4326\")\n",
    "fiat_output[\"Total Damage Normalized\"] = fiat_output['Total Damage']/gdf_fiat[\"Max Potential Damage: Total\"]"
   ]
  },
  {
   "cell_type": "code",
   "execution_count": null,
   "metadata": {},
   "outputs": [],
   "source": [
    "fiat_output[\"Inundation Depth\"].dropna().plot()"
   ]
  },
  {
   "cell_type": "code",
   "execution_count": null,
   "metadata": {},
   "outputs": [],
   "source": [
    "fiat_output.plot(column=\"Total Damage Normalized\", cmap='plasma')"
   ]
  },
  {
   "cell_type": "code",
   "execution_count": null,
   "metadata": {},
   "outputs": [],
   "source": [
    "interval = np.linspace(0.25,1)\n",
    "clrs = plt.cm.YlOrRd(interval)\n",
    "cmap = colors.LinearSegmentedColormap.from_list('name', clrs)"
   ]
  },
  {
   "cell_type": "code",
   "execution_count": null,
   "metadata": {},
   "outputs": [],
   "source": [
    "cmap"
   ]
  },
  {
   "cell_type": "code",
   "execution_count": null,
   "metadata": {},
   "outputs": [],
   "source": [
    "fig = plt.figure(figsize=(14,10))\n",
    "ax = fig.add_subplot(projection=proj)\n",
    "ax.add_image(cimgt.OSM(),10, interpolation='bilinear', alpha=0.3)\n",
    "fiat_output.plot(ax=ax, column=\"Total Damage Normalized\", legend=True, cmap=cmap,\n",
    "    legend_kwds={'label': \"Normalized Damages\", \"shrink\": 0.4, \"pad\": 0.02})\n",
    "\n",
    "ax.set_title(\"Building Damages, Normalized\")\n",
    "ax.xaxis.set_visible(True)\n",
    "ax.yaxis.set_visible(True)\n",
    "ax.set_ylabel(\"Latitude [deg]\")\n",
    "ax.set_xlabel(\"Longitude [deg]\")"
   ]
  },
  {
   "cell_type": "code",
   "execution_count": null,
   "metadata": {},
   "outputs": [],
   "source": []
  }
 ],
 "metadata": {
  "kernelspec": {
   "display_name": "DT-flood",
   "language": "python",
   "name": "python3"
  },
  "language_info": {
   "codemirror_mode": {
    "name": "ipython",
    "version": 3
   },
   "file_extension": ".py",
   "mimetype": "text/x-python",
   "name": "python",
   "nbconvert_exporter": "python",
   "pygments_lexer": "ipython3",
   "version": "3.1.-1"
  }
 },
 "nbformat": 4,
 "nbformat_minor": 2
}
